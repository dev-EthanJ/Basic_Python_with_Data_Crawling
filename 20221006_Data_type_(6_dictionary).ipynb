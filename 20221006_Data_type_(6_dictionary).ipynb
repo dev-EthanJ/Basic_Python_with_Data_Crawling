{
 "cells": [
  {
   "cell_type": "markdown",
   "id": "df40704e",
   "metadata": {},
   "source": [
    "# Python Data type 파이썬 자료형\n",
    "## 6) 딕셔너리(dictionary)\n",
    "- 문법 : {key1 : value1, key2 : value2, key3 : value3 ... }\n",
    "- 생성 함수 : dict()\n",
    "- key로 가질 수 있는 데이터 타입 : 문자, 숫자, 튜플(tuple)\n",
    "- value로 가질 수 있는 데이터 타입 : 문자, 숫자, 리스트(list), 딕셔너리(dict), ...\n",
    "- 아이템 = key:value 하나의 쌍\n",
    "- 종류\n",
    "    - 아이템이 없는 딕셔너리\n",
    "    - 1차원 딕셔너리\n",
    "    - 다차원 딕셔너리\n",
    "- 특징\n",
    "    - key, value의 차이점\n",
    "    - 인덱스 번호를 가지지 않는다."
   ]
  },
  {
   "cell_type": "markdown",
   "id": "53532d8f",
   "metadata": {},
   "source": [
    "### 1. 생성하기"
   ]
  },
  {
   "cell_type": "code",
   "execution_count": 1,
   "id": "4c7f2deb",
   "metadata": {},
   "outputs": [
    {
     "data": {
      "text/plain": [
       "dict"
      ]
     },
     "execution_count": 1,
     "metadata": {},
     "output_type": "execute_result"
    }
   ],
   "source": [
    "# 딕셔너리 생성하기\n",
    "# 문법 : {k1:v1, k2:v2, ...}\n",
    "\n",
    "d1 = {1:10, 2:20, 3:30}\n",
    "type(d1)"
   ]
  },
  {
   "cell_type": "code",
   "execution_count": 2,
   "id": "ee3f280c",
   "metadata": {},
   "outputs": [
    {
     "name": "stdout",
     "output_type": "stream",
     "text": [
      "<class 'dict'>\n",
      "{}\n"
     ]
    }
   ],
   "source": [
    "# 함수 dict() > dictionary 생성 가능\n",
    "\n",
    "d2 = dict()\n",
    "print(type(d2))\n",
    "print(d2)"
   ]
  },
  {
   "cell_type": "code",
   "execution_count": 3,
   "id": "befae2ff",
   "metadata": {},
   "outputs": [
    {
     "name": "stdout",
     "output_type": "stream",
     "text": [
      "<class 'list'>\n",
      "[['a', 'b'], ['a1', 'b1'], ['a2', 'b2']]\n",
      "<class 'dict'>\n",
      "{'a': 'b', 'a1': 'b1', 'a2': 'b2'}\n"
     ]
    }
   ],
   "source": [
    "# 2차원 data list > dict(list)로 변환 가능\n",
    "\n",
    "x = [['a', 'b'],\n",
    "    ['a1', 'b1'],\n",
    "    ['a2', 'b2']]\n",
    "print(type(x))\n",
    "print(x)\n",
    "\n",
    "x = dict(x)\n",
    "print(type(x))\n",
    "print(x)"
   ]
  },
  {
   "cell_type": "code",
   "execution_count": 4,
   "id": "a3e9b7ea",
   "metadata": {},
   "outputs": [
    {
     "name": "stdout",
     "output_type": "stream",
     "text": [
      "{1: [1, 2, 3], 2: {'a', 'b'}}\n"
     ]
    }
   ],
   "source": [
    "# dict의 value의 자료형 > 제약 없음\n",
    "\n",
    "dict1 = {1:[1, 2, 3], 2:{'a', 'b'}}\n",
    "print(dict1)"
   ]
  },
  {
   "cell_type": "code",
   "execution_count": 5,
   "id": "afa95435",
   "metadata": {},
   "outputs": [
    {
     "name": "stdout",
     "output_type": "stream",
     "text": [
      "{'name1': '홍길동', 'name2': '김영희'}\n"
     ]
    }
   ],
   "source": [
    "# key vs. value\n",
    "# key값 > 중복 data item 할당 불가능\n",
    "# 중복 key로 선언 > 가장 마지막 하나만 반영됨\n",
    "\n",
    "dict2 = {\"name1\":\"김철수\", \"name2\":\"김영희\", \"name1\":\"홍길동\"}\n",
    "print(dict2)"
   ]
  },
  {
   "cell_type": "markdown",
   "id": "e9362b86",
   "metadata": {},
   "source": [
    "### 2. 인덱싱(indexing)\n",
    "- 인덱싱 문법\n",
    "- 일차원 vs. 다차원 인덱싱\n",
    "- dict 내장함수로 인덱싱"
   ]
  },
  {
   "cell_type": "code",
   "execution_count": 6,
   "id": "031afdfb",
   "metadata": {},
   "outputs": [
    {
     "name": "stdout",
     "output_type": "stream",
     "text": [
      "1\n"
     ]
    }
   ],
   "source": [
    "# 기존의 인덱싱 방벙 > 객체[index]\n",
    "\n",
    "a = [1, 2, 3]\n",
    "print(a[0])"
   ]
  },
  {
   "cell_type": "code",
   "execution_count": 7,
   "id": "f8442c2b",
   "metadata": {},
   "outputs": [
    {
     "name": "stdout",
     "output_type": "stream",
     "text": [
      "10 30\n"
     ]
    }
   ],
   "source": [
    "# 문자열(sring), 리스트(list)와의 차이점 > 기준값으로 인덱스번호가 아닌 key값 사용\n",
    "\n",
    "dict1 = {'a':10, 'b':20, 'c':30}\n",
    "print(dict1['a'], dict1['c'])"
   ]
  },
  {
   "cell_type": "code",
   "execution_count": 8,
   "id": "b5fae39c",
   "metadata": {},
   "outputs": [],
   "source": [
    "# 인덱싱 방식 > 없는 key값을 조회하면 Error\n",
    "\n",
    "# dict1['d'] # > KeyError"
   ]
  },
  {
   "cell_type": "code",
   "execution_count": 9,
   "id": "8e577e89",
   "metadata": {},
   "outputs": [
    {
     "name": "stdout",
     "output_type": "stream",
     "text": [
      "None\n"
     ]
    }
   ],
   "source": [
    "# dict 내장함수 dict.get(key) > value 반환\n",
    "# 없는 key값 조회시 > Error가 아니라 None 반환\n",
    "\n",
    "print(dict1.get('d'))"
   ]
  },
  {
   "cell_type": "code",
   "execution_count": 10,
   "id": "27307e81",
   "metadata": {},
   "outputs": [],
   "source": [
    "# dict는 슬라이싱이 불가능\n",
    "# 슬라이싱 대신 반복문 사용해야 함\n",
    "\n",
    "# dict1[:] # > TypeError"
   ]
  },
  {
   "cell_type": "markdown",
   "id": "a928cfa6",
   "metadata": {},
   "source": [
    "### > 연습문제\n",
    "아래와 같은 다차원 딕셔너리를 만들고 제시한 값을 출력해보세요.<br>\n",
    "    {'a' : [1, 2, 3], 'b' : 100, 'c' : {'key1' : ['파인애플', '포도', '바나나'], 'key2' : (55, 66)}}<br>\n",
    "1) 3 출력하기<br>\n",
    "2) ['파인애플', '포도', '바나나'] 출력하기<br>\n",
    "3) 포도 출력하기<br>\n",
    "4) 55 출력하기<br>"
   ]
  },
  {
   "cell_type": "code",
   "execution_count": 11,
   "id": "258bcd35",
   "metadata": {},
   "outputs": [
    {
     "name": "stdout",
     "output_type": "stream",
     "text": [
      "3\n"
     ]
    }
   ],
   "source": [
    "n_dict = {'a' : [1, 2, 3],\n",
    "     'b' : 100,\n",
    "     'c' : {'key1' : ['파인애플', '포도', '바나나'],\n",
    "            'key2' : (55, 66)}}\n",
    "\n",
    "# 1) 3 출력하기\n",
    "\n",
    "print(n_dict['a'][2])"
   ]
  },
  {
   "cell_type": "code",
   "execution_count": 12,
   "id": "6a1f9331",
   "metadata": {},
   "outputs": [
    {
     "name": "stdout",
     "output_type": "stream",
     "text": [
      "['파인애플', '포도', '바나나']\n"
     ]
    }
   ],
   "source": [
    "# 2) ['파인애플', '포도', '바나나'] 출력\n",
    "\n",
    "print(n_dict['c']['key1'])"
   ]
  },
  {
   "cell_type": "code",
   "execution_count": 13,
   "id": "7807fff7",
   "metadata": {},
   "outputs": [
    {
     "name": "stdout",
     "output_type": "stream",
     "text": [
      "포도\n"
     ]
    }
   ],
   "source": [
    "# 3) 포도 출력\n",
    "\n",
    "print(n_dict['c']['key1'][1])"
   ]
  },
  {
   "cell_type": "code",
   "execution_count": 14,
   "id": "0eb5788f",
   "metadata": {},
   "outputs": [
    {
     "name": "stdout",
     "output_type": "stream",
     "text": [
      "55\n"
     ]
    }
   ],
   "source": [
    "# 4) 55 출력\n",
    "\n",
    "print(n_dict['c']['key2'][0])"
   ]
  },
  {
   "cell_type": "markdown",
   "id": "417aee49",
   "metadata": {},
   "source": [
    "### 3. 아이템 추가하기\n",
    "- 인덱싱 방식으로 새로운 아이템 추가\n",
    "- 메소드 update() 사용"
   ]
  },
  {
   "cell_type": "code",
   "execution_count": 15,
   "id": "d7d3f780",
   "metadata": {},
   "outputs": [
    {
     "name": "stdout",
     "output_type": "stream",
     "text": [
      "{'a': 1, 'b': 2, 'c': 3, 'd': 4}\n"
     ]
    }
   ],
   "source": [
    "# 새로운 key값(indexing)에 value값 할당 > item 추가\n",
    "\n",
    "dict1 = {'a':1, 'b':2, 'c':3}\n",
    "dict1['d'] = 4\n",
    "print(dict1)"
   ]
  },
  {
   "cell_type": "code",
   "execution_count": 16,
   "id": "9a4dc455",
   "metadata": {},
   "outputs": [
    {
     "name": "stdout",
     "output_type": "stream",
     "text": [
      "{'a': 10, 'b': 2, 'c': 3, 'd': 4}\n"
     ]
    }
   ],
   "source": [
    "# 기존에 존재하던 key값에 value 할당 > item 갱신\n",
    "\n",
    "dict1['a'] = 10\n",
    "print(dict1)"
   ]
  },
  {
   "cell_type": "code",
   "execution_count": 17,
   "id": "d36211e1",
   "metadata": {},
   "outputs": [
    {
     "name": "stdout",
     "output_type": "stream",
     "text": [
      "{'a': 10, 'b': 2, 'c': 3, 'd': 4, 'e': 5, 'f': 6, 'g': 7}\n"
     ]
    }
   ],
   "source": [
    "# 하나 이상의 아이템(key:value) 추가/수정 > dict.update(data)\n",
    "# data type > dict or dict로 변환 가능한 list\n",
    "\n",
    "# dict.update(dict)\n",
    "\n",
    "dict1.update({'e':5, 'f':6, 'g':7})\n",
    "print(dict1)"
   ]
  },
  {
   "cell_type": "code",
   "execution_count": 18,
   "id": "ebf36bf6",
   "metadata": {},
   "outputs": [
    {
     "name": "stdout",
     "output_type": "stream",
     "text": [
      "{'a': 10, 'b': 2, 'c': 3, 'd': 4, 'e': 5, 'f': 6, 'g': 7, 'h': 8, 'i': 9, 'j': 10}\n"
     ]
    }
   ],
   "source": [
    "# dict.update(list)\n",
    "\n",
    "data_list = [['h', 8],\n",
    "            ['i', 9],\n",
    "            ['j', 10]]\n",
    "\n",
    "dict1.update(data_list)\n",
    "print(dict1)"
   ]
  },
  {
   "cell_type": "code",
   "execution_count": 19,
   "id": "bb351c05",
   "metadata": {},
   "outputs": [
    {
     "data": {
      "text/plain": [
       "{'h': 8, 'i': 9, 'j': 10}"
      ]
     },
     "execution_count": 19,
     "metadata": {},
     "output_type": "execute_result"
    }
   ],
   "source": [
    "# dict.update(list) > dict로 변환되는 2차원 data list만 가능\n",
    "\n",
    "dict(data_list)"
   ]
  },
  {
   "cell_type": "code",
   "execution_count": 20,
   "id": "db040a4e",
   "metadata": {},
   "outputs": [
    {
     "data": {
      "text/plain": [
       "['a', 'b', 'c', 'd', 'e', 'f', 'g', 'h', 'i', 'j']"
      ]
     },
     "execution_count": 20,
     "metadata": {},
     "output_type": "execute_result"
    }
   ],
   "source": [
    "# list(dict) > key value로만 list 구성\n",
    "\n",
    "list(dict1)"
   ]
  },
  {
   "cell_type": "markdown",
   "id": "f99f0841",
   "metadata": {},
   "source": [
    "### 4. 삭제하기\n",
    "- 하나의 아이템 삭제하기\n",
    "- 모든 아이템 삭제하기 > 빈 딕셔너리만 남음"
   ]
  },
  {
   "cell_type": "code",
   "execution_count": 21,
   "id": "1f40aba9",
   "metadata": {},
   "outputs": [
    {
     "name": "stdout",
     "output_type": "stream",
     "text": [
      "{'a': 10, 'b': 2, 'c': 3, 'd': 4, 'e': 5, 'f': 6, 'g': 7, 'h': 8, 'i': 9, 'j': 10}\n",
      "{'a': 10, 'b': 2, 'c': 3, 'e': 5, 'f': 6, 'g': 7, 'h': 8, 'i': 9, 'j': 10}\n"
     ]
    }
   ],
   "source": [
    "# 하나의 item 삭제하기 : del 키워드 + 딕셔너리 indexing\n",
    "\n",
    "print(dict1)\n",
    "\n",
    "del dict1['d']\n",
    "print(dict1)"
   ]
  },
  {
   "cell_type": "code",
   "execution_count": 22,
   "id": "b556c1bd",
   "metadata": {},
   "outputs": [],
   "source": [
    "# 단, dict.get(key)을 이용한 삭제 불가능\n",
    "\n",
    "# del dict1.get('c') # > SyntaxError"
   ]
  },
  {
   "cell_type": "code",
   "execution_count": 23,
   "id": "51d54e4b",
   "metadata": {},
   "outputs": [
    {
     "data": {
      "text/plain": [
       "{}"
      ]
     },
     "execution_count": 23,
     "metadata": {},
     "output_type": "execute_result"
    }
   ],
   "source": [
    "# 딕셔너리 통째로 비우는 함수 > dict.clear()\n",
    "# del dict > 딕셔너리 객체를 삭제\n",
    "# dict.clear() > 빈 dict 객체 남김\n",
    "\n",
    "dict1.clear()\n",
    "dict1"
   ]
  },
  {
   "cell_type": "code",
   "execution_count": 24,
   "id": "3edc3ce3",
   "metadata": {
    "scrolled": true
   },
   "outputs": [
    {
     "name": "stdout",
     "output_type": "stream",
     "text": [
      "{'name1': '홍길동', 'name2': '김영희'}\n"
     ]
    }
   ],
   "source": [
    "# 주의 : del itme > item 객체 자체 삭제\n",
    "\n",
    "print(dict2)\n",
    "del dict2\n",
    "# print(dict2) # NameError"
   ]
  },
  {
   "cell_type": "markdown",
   "id": "dc541d30",
   "metadata": {},
   "source": [
    "### 5. 딕셔너리 내장함수 & 관련 연산자\n",
    " \\> return != None > 원본 dict 영향 X\n",
    "\n",
    "- dict.keys()\n",
    "\n",
    "- dict.values()\n",
    "\n",
    "- dict.items()\n",
    "\n",
    "- in 연산자"
   ]
  },
  {
   "cell_type": "code",
   "execution_count": 25,
   "id": "10a24183",
   "metadata": {},
   "outputs": [
    {
     "name": "stdout",
     "output_type": "stream",
     "text": [
      "dict_keys(['name', 'age', 'job'])\n"
     ]
    }
   ],
   "source": [
    "# 딕셔너리가 가지고 있는 key만 리스트 형식으로 반환 : dict.keys()\n",
    "\n",
    "dict1 = {'name':'홍길동', 'age':18, 'job':'학생'}\n",
    "list_keys = dict1.keys()\n",
    "print(list_keys)"
   ]
  },
  {
   "cell_type": "code",
   "execution_count": 26,
   "id": "584ae133",
   "metadata": {},
   "outputs": [
    {
     "data": {
      "text/plain": [
       "['name', 'age', 'job']"
      ]
     },
     "execution_count": 26,
     "metadata": {},
     "output_type": "execute_result"
    }
   ],
   "source": [
    "# list() 리스트 함수를 통해 자료형 변환이 쉽다.\n",
    "\n",
    "list(dict1.keys())"
   ]
  },
  {
   "cell_type": "code",
   "execution_count": 27,
   "id": "d72f012a",
   "metadata": {},
   "outputs": [
    {
     "name": "stdout",
     "output_type": "stream",
     "text": [
      "dict_values(['홍길동', 18, '학생'])\n"
     ]
    }
   ],
   "source": [
    "# dict가 가지고 있는 value만 list로 반환 : dict.values()\n",
    "\n",
    "print(dict1.values())"
   ]
  },
  {
   "cell_type": "code",
   "execution_count": 28,
   "id": "a5128331",
   "metadata": {},
   "outputs": [
    {
     "name": "stdout",
     "output_type": "stream",
     "text": [
      "dict_items([('name', '홍길동'), ('age', 18), ('job', '학생')])\n",
      "[('name', '홍길동'), ('age', 18), ('job', '학생')]\n"
     ]
    }
   ],
   "source": [
    "# dict가 가진 item(key:value 쌍)을 tuple로 묶은 list로 반환 : dict.items()\n",
    "\n",
    "print(dict1.items())\n",
    "print(list(dict1.items()))"
   ]
  },
  {
   "cell_type": "code",
   "execution_count": 29,
   "id": "c7e23cd3",
   "metadata": {},
   "outputs": [
    {
     "data": {
      "text/plain": [
       "True"
      ]
     },
     "execution_count": 29,
     "metadata": {},
     "output_type": "execute_result"
    }
   ],
   "source": [
    "# in 키워드 > 특정 key값의 존재 여부 check 가능\n",
    "\n",
    "'age' in dict1"
   ]
  },
  {
   "cell_type": "markdown",
   "id": "9bb7aef3",
   "metadata": {},
   "source": [
    "### > 연습문제\n",
    "\n",
    "아래와 같은 딕셔너리를 생성하고 해당 딕셔너리의 value 중 최소값을 구하여 형식에 맞게 출력하세요.\n",
    "\n",
    "생성 딕셔너리 : {'A':9, 'B':80, 'C':70}\n",
    "         \n",
    "- 조건1. 생성한 딕셔너리에 \" 'D' : 20, 'E' : 100, 'F' : 10  \" 아이템 3개를 추가하세요.\n",
    "         \n",
    "- 조건2. key 'A'의 값을 9 에서 90 으로 변경하세요.\n",
    "         \n",
    "- 조건3. '최소 값 10을 가진 key는 F입니다.'로 포맷팅을 사용하여 출력하고 10을 포맷팅 값으로 사용하세요.\n",
    "         \n",
    "- 조건4. 최소 값은 딕셔너리에 속한 내장함수와 파이썬 내장함수를 둘 다 사용하여 한번에 구해보세요."
   ]
  },
  {
   "cell_type": "code",
   "execution_count": 30,
   "id": "7a89b277",
   "metadata": {},
   "outputs": [
    {
     "name": "stdout",
     "output_type": "stream",
     "text": [
      "{'A': 9, 'B': 80, 'C': 70, 'D': 20, 'E': 100, 'F': 10}\n"
     ]
    }
   ],
   "source": [
    "my_dict = {'A':9, 'B':80, 'C':70}\n",
    "\n",
    "# 조건1\n",
    "\n",
    "my_dict['D'] = 20\n",
    "my_dict.update({'E':100, 'F':10})\n",
    "\n",
    "print(my_dict)"
   ]
  },
  {
   "cell_type": "code",
   "execution_count": 31,
   "id": "67732422",
   "metadata": {},
   "outputs": [
    {
     "name": "stdout",
     "output_type": "stream",
     "text": [
      "{'A': 90, 'B': 80, 'C': 70, 'D': 20, 'E': 100, 'F': 10}\n"
     ]
    }
   ],
   "source": [
    "# 조건 2\n",
    "\n",
    "my_dict['A'] = 90\n",
    "print(my_dict)"
   ]
  },
  {
   "cell_type": "code",
   "execution_count": 32,
   "id": "792b3c97",
   "metadata": {},
   "outputs": [
    {
     "name": "stdout",
     "output_type": "stream",
     "text": [
      "'최소 값 10를 가진 key는 F입니다.'\n"
     ]
    }
   ],
   "source": [
    "# 조건 3\n",
    "\n",
    "print(\"'최소 값 %d를 가진 key는 %s입니다.'\" %(my_dict['F'], 'F'))"
   ]
  },
  {
   "cell_type": "code",
   "execution_count": 33,
   "id": "d174e02b",
   "metadata": {},
   "outputs": [
    {
     "name": "stdout",
     "output_type": "stream",
     "text": [
      "10\n"
     ]
    }
   ],
   "source": [
    "# 조건 4\n",
    "# min(list) : 리스트 내의 가장 작은 값 하나 반환\n",
    "\n",
    "print(min(my_dict.values()))"
   ]
  }
 ],
 "metadata": {
  "kernelspec": {
   "display_name": "Python 3 (ipykernel)",
   "language": "python",
   "name": "python3"
  },
  "language_info": {
   "codemirror_mode": {
    "name": "ipython",
    "version": 3
   },
   "file_extension": ".py",
   "mimetype": "text/x-python",
   "name": "python",
   "nbconvert_exporter": "python",
   "pygments_lexer": "ipython3",
   "version": "3.9.12"
  }
 },
 "nbformat": 4,
 "nbformat_minor": 5
}
