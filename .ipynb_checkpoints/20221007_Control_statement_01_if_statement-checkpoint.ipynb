{
 "cells": [
  {
   "cell_type": "markdown",
   "id": "a295a485",
   "metadata": {},
   "source": [
    "# 파이썬 제어문 Python Control statement\n",
    "\n",
    "## 1. 조건문 Conditional expressions (if , elif, else)\n",
    "- 주어진 조건을 판단하여 해당 조건이 참일 때와 거짓일 때에 맞는 명령문을 수행하는 것\n",
    "\n",
    "▶ 기본 문법 \n",
    "\n",
    "        if 조건문1 :\n",
    "            조건문1이 참일 때 실행할 문장1\n",
    "            조건문1이 참일 때 실행할 문장2\n",
    "        elif 조건문2 :\n",
    "            (조건문1이 거짓일 때 elif 블럭으로 이동)\n",
    "            조건문2가 참일 때 실행할 문장1\n",
    "            조건문2가 참일 때 실행할 문장2\n",
    "            조건문2가 참일 때 실행할 문장2\n",
    "        else :\n",
    "            조건문1, 조건문2가 모두 거짓일 때 실행할 문장1\n",
    "            조건문1, 조건문2가 모두 거짓일 때 실행할 문장2\n",
    "            \n",
    "        => elif, else는 상황에 따라 생략될 수 있다.\n",
    "\n",
    "▶ 주의해야할 문법 : \n",
    "\n",
    "- 조건문 및 else 뒤에 반드시 콜론(:)을 써야 한다.\n",
    "\n",
    "- 조건문이 있는 문장 하위에 속하는 실행문장들은 반드시 한 번 들여쓰기 되어야 한다. ( 자동 / tab / space 4번)\n",
    "\n",
    "- 각 조건문이 참/거짓일 때 실행되는 문장이 무엇인지 알아야 한다.\n",
    "\n",
    "- else는 조건문을 작성하지 않는다.\n",
    "\n",
    "\n",
    "▶ 조건문 : 참(True)과 거짓(False)으로 구분되는 문장\n",
    "\n",
    "- 비교 연산자를 사용한 조건문 : >, <, >=, <=, ==, !=\n",
    "\n",
    "- 값을 이용한 조건문 : 무조건 참, 무조건 거짓\n",
    "\n",
    "- 논리 연산자를 사용한 조건문 : and, or, not\n",
    "\n",
    "- in 연산자를 사용한 조건문\n",
    "\n",
    "cf. True vs False > bool type : True, False 값의 타입"
   ]
  },
  {
   "cell_type": "markdown",
   "id": "210cfd8c",
   "metadata": {},
   "source": [
    "### 1. if ~ else 조건문\n",
    "- 조건식 : 결과가 True 또는 False로 해석될 수 있는 명령어로 구성"
   ]
  },
  {
   "cell_type": "code",
   "execution_count": 1,
   "id": "d8029465",
   "metadata": {},
   "outputs": [
    {
     "name": "stdout",
     "output_type": "stream",
     "text": [
      "책을 삽니다.\n",
      "집에 왔습니다.\n"
     ]
    }
   ],
   "source": [
    "# 가장 기초적인 조건문\n",
    "\n",
    "money = True\n",
    "\n",
    "if money:\n",
    "    print(\"책을 삽니다.\")\n",
    "else:\n",
    "    print(\"책을 사지 못했습니다.\")\n",
    "    \n",
    "print(\"집에 왔습니다.\")"
   ]
  },
  {
   "cell_type": "code",
   "execution_count": 2,
   "id": "727f0611",
   "metadata": {},
   "outputs": [
    {
     "name": "stdout",
     "output_type": "stream",
     "text": [
      "굶습니다.\n"
     ]
    }
   ],
   "source": [
    "# 논리 연산자를 사용한 조건\n",
    "# if문을 활용 > 돈이 6000원 이상이면 > \"백반을 먹습니다\" 출력\n",
    "# 돈이 6000원 미만으로 있으면 >\"굶습니다\" 출력\n",
    "\n",
    "money = 500\n",
    "\n",
    "if money >= 6000:\n",
    "    print('백반을 먹습니다.')\n",
    "else:\n",
    "    print('굶습니다.')"
   ]
  },
  {
   "cell_type": "code",
   "execution_count": 3,
   "id": "1d73fcc6",
   "metadata": {},
   "outputs": [
    {
     "name": "stdout",
     "output_type": "stream",
     "text": [
      "컵라면을 먹습니다.\n"
     ]
    }
   ],
   "source": [
    "# not 키워드를 이용해 논리연산자 뒤집기\n",
    "\n",
    "money = 5000\n",
    "\n",
    "if not money > 7000:\n",
    "    print(\"컵라면을 먹습니다.\")\n",
    "else :\n",
    "    print(\"제육볶음을 먹습니다\")"
   ]
  },
  {
   "cell_type": "code",
   "execution_count": 4,
   "id": "4c5b305d",
   "metadata": {},
   "outputs": [
    {
     "name": "stdout",
     "output_type": "stream",
     "text": [
      "경품을 받습니다.\n"
     ]
    }
   ],
   "source": [
    "# in 키워드를 사용한 조건문\n",
    "\n",
    "reward = ['상범', '상효', '상철']\n",
    "\n",
    "if ('상범' in reward):\n",
    "    print(\"경품을 받습니다.\")\n",
    "else:\n",
    "    print(\"경품이 없습니다.\")"
   ]
  },
  {
   "cell_type": "markdown",
   "id": "9005ac16",
   "metadata": {},
   "source": [
    "### 2. elif 조건문\n",
    "- 개수에 제한이 없다.\n",
    "- 여러 개의 조건문이 존재할 경우 > 각각의 시작 조건 → 별도 작성없이 자동 생성\n",
    "\n",
    "    if 조건문1:\n",
    "        수행할 문장1 \n",
    "        수행할 문장2\n",
    "    elif 조건문2:\n",
    "        수행할 문장1\n",
    "        수행할 문장2\n",
    "    elif 조건문3:\n",
    "        수행할 문장1\n",
    "        수행할 문장2\n",
    "    (... 원하는 만큼 elif문 작성 가능)\n",
    "    else:\n",
    "        수행할 문장1\n",
    "        수행할 문장2"
   ]
  },
  {
   "cell_type": "code",
   "execution_count": 5,
   "id": "40199b3f",
   "metadata": {},
   "outputs": [
    {
     "name": "stdout",
     "output_type": "stream",
     "text": [
      "판별할 정수를 넣어주세요.10\n",
      "양수입니다.\n"
     ]
    }
   ],
   "source": [
    "# 주어진 정수가 양수인지 음수인지 0인지 판별하는 조건문\n",
    "\n",
    "integer = int(input('판별할 정수를 넣어주세요.'))\n",
    "\n",
    "if(integer > 0):\n",
    "    print('양수입니다.')\n",
    "elif(integer == 0):\n",
    "    print(\"0입니다.\")\n",
    "elif(integer < 0):\n",
    "    print(\"음수입니다\")"
   ]
  }
 ],
 "metadata": {
  "kernelspec": {
   "display_name": "Python 3 (ipykernel)",
   "language": "python",
   "name": "python3"
  },
  "language_info": {
   "codemirror_mode": {
    "name": "ipython",
    "version": 3
   },
   "file_extension": ".py",
   "mimetype": "text/x-python",
   "name": "python",
   "nbconvert_exporter": "python",
   "pygments_lexer": "ipython3",
   "version": "3.9.12"
  }
 },
 "nbformat": 4,
 "nbformat_minor": 5
}
