{
 "cells": [
  {
   "cell_type": "markdown",
   "id": "63aa4ddd",
   "metadata": {},
   "source": [
    "# Numpy\n",
    "- Numeriacal Python\n",
    "- 파이썬 머신러닝 패키지인 scikit-learn에서 기본 데이터 구조로 사용되어 Numpy 배열 형태의 데이터를 사용\n",
    "- 파이썬 기반 데이터 분석 환경에서 행렬 및 벡터 연산에 필요한 다양한 함수를 제공\n",
    "- 메모리 소모가 많은 반복문 없이 전체 데이터 배열에 빠른 연산을 처리할 수 있는 표준 수학 함수\n",
    "> 배열 : 동일한 특성(데이터 타입) 및 일정한 규칙을 가지는 여러 개의 요소가 나열되어 있는 데이터 집합\n",
    "- 파이썬 list 객체를 사용할 때 보다 Numpy의 ndarray 객체를 사용하면 연산 속도가 개선되어 더 많은 데이터를 더 빠르게 처리"
   ]
  },
  {
   "cell_type": "code",
   "execution_count": 29,
   "id": "fc3d8efe",
   "metadata": {},
   "outputs": [],
   "source": [
    "import numpy as np"
   ]
  },
  {
   "cell_type": "markdown",
   "id": "eac70862",
   "metadata": {},
   "source": [
    "## 0. Numpy 배열 : `numpy.ndarray`\n",
    "- 다차원 배열(1차원, 2차원, 3차원)으로 입체적인 데이터 구조를 구성하고 여러 개의 데이터 방향을 가진다.\n",
    "- 배열 속성 : shape, ndim, dtype 등\n",
    "- 데이터 방향 : axis = 0(행/높이), 1(열/폭), 2(채널/깊이)\n",
    "- 사진을 집어넣을때는 img태그 를 사용합니다.\n",
    "\n",
    "<img src='img/nparr1.jpg' width='600' height='400' align='left'>"
   ]
  },
  {
   "cell_type": "markdown",
   "id": "2a796e6d",
   "metadata": {},
   "source": [
    "## 1. `ndarray` 배열 생성\n",
    "- np.array(data)\n",
    "    - 파이썬 list객체를 전달받아 numpy list로 교환해주는 명령어\n",
    "    - 배열 속성\n",
    "        - `shape` : 구조 (행, 열, 차원)\n",
    "        - `ndim` : 차원\n",
    "        - `dtype` : 데이터 타입 > 자료형 통일돼야 함\n",
    "        - `size` : 요소 개수 = 행 * 열 * 차원\n",
    "    - 배열 메서드\n",
    "        - `astype()` : 데이터 타입 변환(문자 > 실수, 실수 > 문자 등...)\n",
    "    - 파이썬 내장함수를 사용한 속성값\n",
    "        - `type()` : 객체의 자료형 확인\n",
    "        - `len()` : 요소 내부의 자료 길이.\n",
    "    - Numpy 함수를 사용한 속성\n",
    "        - `reshape(row, column)` : 배열 재배치(1 * 12 > 3 * 4, 4 * 5 > 2 * 10 등...)\n",
    "    - kind : 데이터 종류에 대한 구분 기호\n",
    "        - b boolean\n",
    "        - i 정수(int)\n",
    "        - u 부호없는 정수(unsigned int, +- 개념 없이 절대값만 존재)\n",
    "        - f 실수\n",
    "        - c 복소 부동소수점\n",
    "        - O 객체\n",
    "        - S 바이트 문자열(ascii 코드, 영문자, 일부특문, 숫자)\n",
    "        - U 유니코드 문자열(한글, 중국어, 태국어, 아랍어 등 영어와 다른 문자)"
   ]
  },
  {
   "cell_type": "markdown",
   "id": "c0c982c1",
   "metadata": {},
   "source": [
    "<br>\n",
    "\n",
    "- Python 1차원 list > Numpy `ndarry`로 변환"
   ]
  },
  {
   "cell_type": "code",
   "execution_count": 33,
   "id": "55e35b9c",
   "metadata": {},
   "outputs": [
    {
     "name": "stdout",
     "output_type": "stream",
     "text": [
      "[1 2 3 4 5 6]\n"
     ]
    }
   ],
   "source": [
    "tmp_list = [1, 2, 3, 4, 5, 6]\n",
    "\n",
    "my_arr = np.array(tmp_list)\n",
    "print(my_arr)"
   ]
  },
  {
   "cell_type": "markdown",
   "id": "1acb458d",
   "metadata": {},
   "source": [
    "<br>\n",
    "\n",
    "- 배열 객체`ndarry`의 속성: 자료형 > `numpy.ndarry`"
   ]
  },
  {
   "cell_type": "code",
   "execution_count": 34,
   "id": "4f60faf4",
   "metadata": {},
   "outputs": [
    {
     "name": "stdout",
     "output_type": "stream",
     "text": [
      "<class 'list'>\n",
      "<class 'numpy.ndarray'>\n"
     ]
    }
   ],
   "source": [
    "print(type(tmp_list))\n",
    "print(type(my_arr))"
   ]
  },
  {
   "cell_type": "markdown",
   "id": "a3f59faa",
   "metadata": {},
   "source": [
    "<br>\n",
    "\n",
    "- 배열 객체`ndarray`의 속성: 구조 확인하기 `ndarray.shape` > shape(행(row), 열(column), 차원(면))\n",
    "- (정수, ): 정수 개수의 item을 가진 list가 `ndarray`로 변환 된 결과물"
   ]
  },
  {
   "cell_type": "code",
   "execution_count": 35,
   "id": "922d051a",
   "metadata": {},
   "outputs": [
    {
     "name": "stdout",
     "output_type": "stream",
     "text": [
      "(6,)\n"
     ]
    }
   ],
   "source": [
    "print(my_arr.shape)"
   ]
  },
  {
   "cell_type": "markdown",
   "id": "868d92bc",
   "metadata": {},
   "source": [
    "<br>\n",
    "\n",
    "- 배열 객체`ndarray`의 속성:길이 > (n, )"
   ]
  },
  {
   "cell_type": "code",
   "execution_count": null,
   "id": "8deef77f",
   "metadata": {},
   "outputs": [],
   "source": []
  },
  {
   "cell_type": "markdown",
   "id": "3fdabfc7",
   "metadata": {},
   "source": [
    "<br>\n",
    "\n",
    "- 배열 객체`ndarray`의 속성: 차원 `ndarray.ndim`"
   ]
  },
  {
   "cell_type": "code",
   "execution_count": 36,
   "id": "5566c65c",
   "metadata": {},
   "outputs": [
    {
     "data": {
      "text/plain": [
       "1"
      ]
     },
     "execution_count": 36,
     "metadata": {},
     "output_type": "execute_result"
    }
   ],
   "source": [
    "my_arr.ndim"
   ]
  },
  {
   "cell_type": "markdown",
   "id": "b4f45b25",
   "metadata": {},
   "source": [
    "<br>\n",
    "\n",
    "- 배열 객체의 속성: item 개수"
   ]
  },
  {
   "cell_type": "code",
   "execution_count": 37,
   "id": "60a142f0",
   "metadata": {},
   "outputs": [
    {
     "data": {
      "text/plain": [
       "6"
      ]
     },
     "execution_count": 37,
     "metadata": {},
     "output_type": "execute_result"
    }
   ],
   "source": [
    "my_arr.size"
   ]
  },
  {
   "cell_type": "markdown",
   "id": "2599ecc5",
   "metadata": {},
   "source": [
    "<br>\n",
    "\n",
    "- 배열 객체의 속성: data type"
   ]
  },
  {
   "cell_type": "code",
   "execution_count": 14,
   "id": "fa331c97",
   "metadata": {},
   "outputs": [
    {
     "data": {
      "text/plain": [
       "dtype('int32')"
      ]
     },
     "execution_count": 14,
     "metadata": {},
     "output_type": "execute_result"
    }
   ],
   "source": [
    "arr.dtype"
   ]
  },
  {
   "cell_type": "markdown",
   "id": "7bef0e5d",
   "metadata": {},
   "source": [
    "<br>\n",
    "\n",
    "- 배열 객체의 속성: data type의 변환: `astype` > 원본 data 유지"
   ]
  },
  {
   "cell_type": "code",
   "execution_count": 15,
   "id": "3228575d",
   "metadata": {},
   "outputs": [
    {
     "data": {
      "text/plain": [
       "array([1., 2., 3., 4., 5., 6.])"
      ]
     },
     "execution_count": 15,
     "metadata": {},
     "output_type": "execute_result"
    }
   ],
   "source": [
    "arr2 = arr.astype(float)\n",
    "arr2"
   ]
  },
  {
   "cell_type": "markdown",
   "id": "0c8db99b",
   "metadata": {},
   "source": [
    "<br>\n",
    "\n",
    "- 배열 구조 변환 > 기존 배열 item수(6개)와 변환하려는 구조의 item수는 일치해야 함"
   ]
  },
  {
   "cell_type": "code",
   "execution_count": 17,
   "id": "f8eb0e50",
   "metadata": {},
   "outputs": [
    {
     "name": "stdout",
     "output_type": "stream",
     "text": [
      "[[1 2 3]\n",
      " [4 5 6]]\n",
      "[1 2 3 4 5 6]\n"
     ]
    }
   ],
   "source": [
    "arr3 = arr.reshape(2, 3)\n",
    "print(arr3)\n",
    "print(arr)"
   ]
  },
  {
   "cell_type": "markdown",
   "id": "e2dff98f",
   "metadata": {},
   "source": [
    "<br>\n",
    "\n",
    "- Numpy 객체 정보를 좀 더 편하게 확인하기 위한 사용자 함수 정의   \n",
    "\\> 객체타입, 구조, 차원, 데이터타입, 내부자료를 확인하기 위해 정의하는 함수"
   ]
  },
  {
   "cell_type": "code",
   "execution_count": 19,
   "id": "61ffc9e8",
   "metadata": {},
   "outputs": [],
   "source": [
    "def np_print(arr):\n",
    "    text = '''\n",
    "    type : {}\n",
    "    shape : {}\n",
    "    ndim : {}\n",
    "    dtype : {}\n",
    "    array data : \\n {}'''.format(type(arr), arr.shape, arr.ndim, arr.dtype, arr)\n",
    "    print(text)"
   ]
  },
  {
   "cell_type": "markdown",
   "id": "1e638392",
   "metadata": {},
   "source": [
    "<br>\n",
    "\n",
    "- list item type이 통일되지 않으면 우선순위에 따라 내부 데이터의 dtype이 통일됨\n",
    "- 우선순위: str > float > int\n",
    "\n",
    "- 서로 다른 타입의 혼합(1): int + str > str로 통일"
   ]
  },
  {
   "cell_type": "code",
   "execution_count": 21,
   "id": "da068166",
   "metadata": {},
   "outputs": [
    {
     "name": "stdout",
     "output_type": "stream",
     "text": [
      "\n",
      "    type : <class 'numpy.ndarray'>\n",
      "    shape : (4,)\n",
      "    ndim : 1\n",
      "    dtype : <U11\n",
      "    array data : \n",
      " ['1' '2' '3' '4']\n"
     ]
    }
   ],
   "source": [
    "tmp = [1, 2, 3, '4']\n",
    "my_arr = np.array(tmp)\n",
    "np_print(my_arr)"
   ]
  },
  {
   "cell_type": "markdown",
   "id": "af95d2c5",
   "metadata": {},
   "source": [
    "<br>\n",
    "\n",
    "- 서로 다른 타입의 혼합(2): int + float > float"
   ]
  },
  {
   "cell_type": "code",
   "execution_count": 22,
   "id": "08ddbf83",
   "metadata": {},
   "outputs": [
    {
     "name": "stdout",
     "output_type": "stream",
     "text": [
      "\n",
      "    type : <class 'numpy.ndarray'>\n",
      "    shape : (4,)\n",
      "    ndim : 1\n",
      "    dtype : float64\n",
      "    array data : \n",
      " [1.  2.  3.3 4. ]\n"
     ]
    }
   ],
   "source": [
    "int_float = [1, 2, 3.3, 4]\n",
    "my_arr = np.array(int_float)\n",
    "np_print(my_arr)"
   ]
  },
  {
   "cell_type": "markdown",
   "id": "3d2dadfb",
   "metadata": {},
   "source": [
    "<br>\n",
    "\n",
    "- 서로 다른 타입의 혼합(3): float + str > str"
   ]
  },
  {
   "cell_type": "code",
   "execution_count": 23,
   "id": "f8adc246",
   "metadata": {},
   "outputs": [
    {
     "name": "stdout",
     "output_type": "stream",
     "text": [
      "\n",
      "    type : <class 'numpy.ndarray'>\n",
      "    shape : (3,)\n",
      "    ndim : 1\n",
      "    dtype : <U32\n",
      "    array data : \n",
      " ['1' '2.3' '4']\n"
     ]
    }
   ],
   "source": [
    "float_str = ['1', 2.3, 4]\n",
    "my_arr = np.array(float_str)\n",
    "np_print(my_arr)"
   ]
  },
  {
   "cell_type": "markdown",
   "id": "c9acd13a",
   "metadata": {},
   "source": [
    "### 1.2. 2차원 list로 Numpy array 생성\n",
    "\n",
    "- 2차원 array의 shape 속성: 행(row, 세로축 개수), 열(column, 가로축 개수)만 반환"
   ]
  },
  {
   "cell_type": "code",
   "execution_count": 26,
   "id": "b38f0d88",
   "metadata": {},
   "outputs": [
    {
     "name": "stdout",
     "output_type": "stream",
     "text": [
      "\n",
      "    type : <class 'numpy.ndarray'>\n",
      "    shape : (2, 4)\n",
      "    ndim : 2\n",
      "    dtype : int32\n",
      "    array data : \n",
      " [[1 2 3 4]\n",
      " [5 6 7 8]]\n",
      "6\n"
     ]
    }
   ],
   "source": [
    "tmp_list = [[1, 2, 3, 4],\n",
    "           [5, 6, 7, 8]]\n",
    "\n",
    "my_arr = np.array(tmp_list)\n",
    "np_print(my_arr)\n",
    "print(my_arr[1][1])"
   ]
  },
  {
   "cell_type": "markdown",
   "id": "ed890e6b",
   "metadata": {},
   "source": [
    "### 1.3. 3차원 list로 Numpy ndarray 생성"
   ]
  },
  {
   "cell_type": "code",
   "execution_count": 52,
   "id": "8d5a1902",
   "metadata": {},
   "outputs": [
    {
     "name": "stdout",
     "output_type": "stream",
     "text": [
      "\n",
      "    type : <class 'numpy.ndarray'>\n",
      "    shape : (2, 2, 3)\n",
      "    ndim : 3\n",
      "    dtype : int32\n",
      "    array data : \n",
      " [[[ 1  2  3]\n",
      "  [ 4  5  6]]\n",
      "\n",
      " [[ 7  8  9]\n",
      "  [10 11 12]]]\n"
     ]
    }
   ],
   "source": [
    "tmp_list = [\n",
    "    [\n",
    "        [1, 2, 3], [4, 5, 6]\n",
    "    ],\n",
    "    [\n",
    "        [7, 8, 9], [10, 11, 12]\n",
    "    ]\n",
    "]\n",
    "\n",
    "arr_3d = np.array(tmp_list)\n",
    "\n",
    "np_print(arr_3d)"
   ]
  },
  {
   "cell_type": "markdown",
   "id": "23f94c8b",
   "metadata": {},
   "source": [
    "<br>\n",
    "\n",
    "- data type을 parameter로 지정해서 `Numpy.ndarray` 내부 자료형 변경 가능\n",
    "- `np.ndarray(data, dtype=\"data type\")`"
   ]
  },
  {
   "cell_type": "markdown",
   "id": "de31ac0d",
   "metadata": {},
   "source": [
    "## 2. 생성 및 초기화\n",
    "\n",
    "- 초기값을 지정하여 data를 자동으로 가지는 `ndarray` 생성\n",
    "\n",
    "    - np.zeros()\n",
    "\n",
    "    - np.ones()\n",
    "\n",
    "    - np.full()\n",
    "\n",
    "    - np.eye()\n",
    "\n",
    "    - np.empty()"
   ]
  },
  {
   "cell_type": "markdown",
   "id": "ce38a67c",
   "metadata": {},
   "source": [
    "### 2.1. `np.zeros()`"
   ]
  },
  {
   "cell_type": "code",
   "execution_count": null,
   "id": "434c4e69",
   "metadata": {},
   "outputs": [],
   "source": []
  },
  {
   "cell_type": "markdown",
   "id": "339f86c8",
   "metadata": {},
   "source": [
    "<br>\n",
    "\n",
    "- `dtype`만 int로 바꿔서 생성"
   ]
  },
  {
   "cell_type": "code",
   "execution_count": 50,
   "id": "6bbb9c4a",
   "metadata": {},
   "outputs": [
    {
     "name": "stdout",
     "output_type": "stream",
     "text": [
      "\n",
      "    type : <class 'numpy.ndarray'>\n",
      "    shape : (3, 4)\n",
      "    ndim : 2\n",
      "    dtype : int32\n",
      "    array data : \n",
      " [[0 0 0 0]\n",
      " [0 0 0 0]\n",
      " [0 0 0 0]]\n"
     ]
    }
   ],
   "source": [
    "ndarr_zeros = np.zeros((3, 4), dtype=int)\n",
    "\n",
    "np_print(ndarr_zeros)"
   ]
  },
  {
   "cell_type": "markdown",
   "id": "bd4dbeb6",
   "metadata": {},
   "source": [
    "### 2.2. `np.ones(shape(row, col), dtype=float)`\n",
    "\n",
    "- 지정된 구조의 `ndarray`생성, 모든 item 1로 초기화\n",
    "\n",
    "- `shape`: tuple type, row, col 구조 지정\n",
    "\n",
    "- `dtype`: 객체의 data type 지정, dedault == `numpy.float64`"
   ]
  },
  {
   "cell_type": "markdown",
   "id": "939b7dcd",
   "metadata": {},
   "source": [
    "<br>\n",
    "\n",
    "- 3행 4열, 초기값 1로 가지는 배열"
   ]
  },
  {
   "cell_type": "code",
   "execution_count": 51,
   "id": "8b336630",
   "metadata": {},
   "outputs": [
    {
     "name": "stdout",
     "output_type": "stream",
     "text": [
      "\n",
      "    type : <class 'numpy.ndarray'>\n",
      "    shape : (3, 4)\n",
      "    ndim : 2\n",
      "    dtype : float64\n",
      "    array data : \n",
      " [[1. 1. 1. 1.]\n",
      " [1. 1. 1. 1.]\n",
      " [1. 1. 1. 1.]]\n"
     ]
    }
   ],
   "source": [
    "ndarr_ones = np.ones((3, 4), dtype=float)\n",
    "\n",
    "np_print(ndarr_ones)"
   ]
  },
  {
   "cell_type": "markdown",
   "id": "7f362792",
   "metadata": {},
   "source": [
    "<br>\n",
    "\n",
    "### 2.3. `np.full(shape, fill_value, dtype)`\n",
    "\n",
    "- 지정된 구조의 `ndarray`생성, 모든 item을 `fill_value` 값으로 초기화\n",
    " \n",
    "- `shape`: tuple data type, 행*열 구조 지정\n",
    "\n",
    "- `dtype`: `ndarray`의 data type 지정, default = input data type"
   ]
  },
  {
   "cell_type": "markdown",
   "id": "7b79259d",
   "metadata": {},
   "source": [
    "<br>\n",
    "\n",
    "- 3행 4열 초기값 5인 배열"
   ]
  },
  {
   "cell_type": "code",
   "execution_count": 48,
   "id": "4a975f50",
   "metadata": {},
   "outputs": [
    {
     "name": "stdout",
     "output_type": "stream",
     "text": [
      "\n",
      "    type : <class 'numpy.ndarray'>\n",
      "    shape : (3, 4)\n",
      "    ndim : 2\n",
      "    dtype : int32\n",
      "    array data : \n",
      " [[5 5 5 5]\n",
      " [5 5 5 5]\n",
      " [5 5 5 5]]\n"
     ]
    }
   ],
   "source": [
    "ndarr_full = np.full((3, 4), 5, int)\n",
    "\n",
    "np_print(ndarr_full)"
   ]
  },
  {
   "cell_type": "markdown",
   "id": "9bdbd72b",
   "metadata": {},
   "source": [
    "<br>\n",
    "\n",
    "### 2.4. `np.eye(N, M=None, dtype=float)`\n",
    "\n",
    "- (N, M) 구조의 단위 행렬 생성\n",
    "\n",
    "- `M`: col 개수 지정, dafault = N\n",
    "    \n",
    "- `dtype`: `ndarray`의 data type 지정, default = `numpy.float64`"
   ]
  },
  {
   "cell_type": "code",
   "execution_count": 47,
   "id": "05f49be5",
   "metadata": {},
   "outputs": [
    {
     "name": "stdout",
     "output_type": "stream",
     "text": [
      "\n",
      "    type : <class 'numpy.ndarray'>\n",
      "    shape : (3, 3)\n",
      "    ndim : 2\n",
      "    dtype : float64\n",
      "    array data : \n",
      " [[1. 0. 0.]\n",
      " [0. 1. 0.]\n",
      " [0. 0. 1.]]\n"
     ]
    }
   ],
   "source": [
    "ndarr_eye = np.eye(3)\n",
    "np_print(ndarr_eye)"
   ]
  },
  {
   "cell_type": "markdown",
   "id": "89586f56",
   "metadata": {},
   "source": [
    "<br>\n",
    "\n",
    "- row = 5, col = 3인 단위행렬"
   ]
  },
  {
   "cell_type": "code",
   "execution_count": 54,
   "id": "b993ee1b",
   "metadata": {},
   "outputs": [
    {
     "name": "stdout",
     "output_type": "stream",
     "text": [
      "\n",
      "    type : <class 'numpy.ndarray'>\n",
      "    shape : (5, 3)\n",
      "    ndim : 2\n",
      "    dtype : float64\n",
      "    array data : \n",
      " [[1. 0. 0.]\n",
      " [0. 1. 0.]\n",
      " [0. 0. 1.]\n",
      " [0. 0. 0.]\n",
      " [0. 0. 0.]]\n"
     ]
    }
   ],
   "source": [
    "ndarr_i = np.eye(5, 3)\n",
    "\n",
    "np_print(ndarr_i)"
   ]
  },
  {
   "cell_type": "markdown",
   "id": "6afd6e58",
   "metadata": {},
   "source": [
    "<br>\n",
    "\n",
    "### 2.5. `np.empty(shape, dtype=float)`\n",
    "\n",
    "- 지정된 `shape`의 `ndarray` 생성, 모든 item에 대한 초기화 없이 직전 memory에 저장된 값 사용\n",
    "\n",
    "- `ndarry` 생성 시 가장 빠르고 효율적인 방법\n",
    "\n",
    "- `shape`: data type tule, row * col 구조 지정\n",
    "    \n",
    "- `dtype`: `ndarray`의 data type 지정, default = `numpy.float64`"
   ]
  },
  {
   "cell_type": "markdown",
   "id": "500e9adf",
   "metadata": {},
   "source": [
    "<br>\n",
    "\n",
    "- 7 * 2 `ndarray` 생성"
   ]
  },
  {
   "cell_type": "code",
   "execution_count": 56,
   "id": "47c6aaf8",
   "metadata": {},
   "outputs": [
    {
     "name": "stdout",
     "output_type": "stream",
     "text": [
      "\n",
      "    type : <class 'numpy.ndarray'>\n",
      "    shape : (7, 2)\n",
      "    ndim : 2\n",
      "    dtype : float64\n",
      "    array data : \n",
      " [[1. 1.]\n",
      " [1. 1.]\n",
      " [1. 1.]\n",
      " [1. 1.]\n",
      " [1. 1.]\n",
      " [1. 1.]\n",
      " [1. 1.]]\n"
     ]
    }
   ],
   "source": [
    "ndarr_ones = np.ones((7, 2))\n",
    "\n",
    "np_print(ndarr_ones)"
   ]
  },
  {
   "cell_type": "markdown",
   "id": "bfccc1bc",
   "metadata": {},
   "source": [
    "<br>\n",
    "\n",
    "- `np.empty()` 사용해서 3 * 4 구조로 변형"
   ]
  },
  {
   "cell_type": "code",
   "execution_count": 57,
   "id": "78dadb81",
   "metadata": {},
   "outputs": [
    {
     "name": "stdout",
     "output_type": "stream",
     "text": [
      "\n",
      "    type : <class 'numpy.ndarray'>\n",
      "    shape : (3, 4)\n",
      "    ndim : 2\n",
      "    dtype : float64\n",
      "    array data : \n",
      " [[1. 1. 1. 1.]\n",
      " [1. 1. 1. 1.]\n",
      " [1. 1. 1. 1.]]\n"
     ]
    }
   ],
   "source": [
    "ndarr_empty = np.empty((3, 4))\n",
    "\n",
    "np_print(ndarr_empty)"
   ]
  },
  {
   "cell_type": "markdown",
   "id": "1ca87ad6",
   "metadata": {},
   "source": [
    "<br>\n",
    "\n",
    "### 2.6. like method\n",
    "\n",
    "- 전달받은 `ndarray`와 동일한 shape으로 새로운 `ndarray` 생성\n",
    "    \n",
    "    - np.zeros_like(): 초기값 == 0\n",
    "    \n",
    "    - np.ones_like(): 초기값 == 1\n",
    "    \n",
    "    - np.full_like(): 초기값 == fill_vaule"
   ]
  },
  {
   "cell_type": "markdown",
   "id": "0fbd1f02",
   "metadata": {},
   "source": [
    "<br>\n",
    "\n",
    "- `ones_like()`\n",
    "\n",
    "- 2 * 3 구조, 1 ~ 6으로 구성된 `ndarray`"
   ]
  },
  {
   "cell_type": "code",
   "execution_count": 58,
   "id": "0c2e560c",
   "metadata": {},
   "outputs": [
    {
     "name": "stdout",
     "output_type": "stream",
     "text": [
      "\n",
      "    type : <class 'numpy.ndarray'>\n",
      "    shape : (2, 3)\n",
      "    ndim : 2\n",
      "    dtype : int32\n",
      "    array data : \n",
      " [[1 2 3]\n",
      " [4 5 6]]\n"
     ]
    }
   ],
   "source": [
    "my_data = [[1, 2, 3], [4, 5, 6]]\n",
    "\n",
    "my_ndarr = np.array(my_data)\n",
    "np_print(my_ndarr)"
   ]
  },
  {
   "cell_type": "code",
   "execution_count": 59,
   "id": "4738fcd0",
   "metadata": {},
   "outputs": [
    {
     "name": "stdout",
     "output_type": "stream",
     "text": [
      "\n",
      "    type : <class 'numpy.ndarray'>\n",
      "    shape : (2, 3)\n",
      "    ndim : 2\n",
      "    dtype : int32\n",
      "    array data : \n",
      " [[1 1 1]\n",
      " [1 1 1]]\n"
     ]
    }
   ],
   "source": [
    "ones_like_ndarr = np.ones_like(my_ndarr)\n",
    "\n",
    "np_print(ones_like_ndarr)"
   ]
  },
  {
   "cell_type": "markdown",
   "id": "1bc5747e",
   "metadata": {},
   "source": [
    "## 3. 1차원 배열 생성 및 초기화 with range, condition\n",
    "\n",
    "- 범위와 조건이 있는 데이터를 가지는 1차원 배열 생성\n",
    "    \n",
    "    - np.linspace()\n",
    "    \n",
    "    - np.arange()\n",
    "    \n",
    "    - np.logspace()\n",
    "\n",
    "### 3.1. `np.linspace(start, stop, num=50, endpoint=True, retstep=False, dtype=None)`\n",
    "\n",
    "- 시작값(start)부터 마지막값(stop) 사이의 범위에서 균등한 간격으로 일정 개수(num)개의 데이터를 가지는 배열 생성\n",
    "\n",
    "- num : 데이터 개수, 기본값 = 50\n",
    "\n",
    "- endpoint : 마지막값에 stop을 포함/제외하는 조건 지정, 기본값 = True(포함)\n",
    "\n",
    "- retstep : True로 전달하면 (배열, 데이터 사이의 간격)의 데이터를 담은 tuple을 반환\n",
    "\n",
    "- dtype : 배열의 데이터 타입을 지정, 기본값 = None"
   ]
  },
  {
   "cell_type": "markdown",
   "id": "8eefb859",
   "metadata": {},
   "source": [
    "<br>\n",
    "\n",
    "- 기본값\n",
    "\n",
    "- 0이상 1이하의 범위에서 발생한 숫자 5개를 포함하는 배열"
   ]
  },
  {
   "cell_type": "code",
   "execution_count": 60,
   "id": "2a84af33",
   "metadata": {},
   "outputs": [
    {
     "name": "stdout",
     "output_type": "stream",
     "text": [
      "\n",
      "    type : <class 'numpy.ndarray'>\n",
      "    shape : (5,)\n",
      "    ndim : 1\n",
      "    dtype : float64\n",
      "    array data : \n",
      " [0.   0.25 0.5  0.75 1.  ]\n"
     ]
    }
   ],
   "source": [
    "ndarr_linspace = np.linspace(0, 1, num=5)\n",
    "\n",
    "np_print(ndarr_linspace)"
   ]
  },
  {
   "cell_type": "markdown",
   "id": "9f18612c",
   "metadata": {},
   "source": [
    "<br>\n",
    "\n",
    "- `endpoint=False`일 때"
   ]
  },
  {
   "cell_type": "code",
   "execution_count": 62,
   "id": "725de3a2",
   "metadata": {},
   "outputs": [
    {
     "name": "stdout",
     "output_type": "stream",
     "text": [
      "\n",
      "    type : <class 'numpy.ndarray'>\n",
      "    shape : (5,)\n",
      "    ndim : 1\n",
      "    dtype : float64\n",
      "    array data : \n",
      " [0.  0.2 0.4 0.6 0.8]\n"
     ]
    }
   ],
   "source": [
    "endpoint_false = np.linspace(0, 1, num=5, endpoint=False)\n",
    "\n",
    "np_print(endpoint_false)"
   ]
  },
  {
   "cell_type": "markdown",
   "id": "c5cf4be2",
   "metadata": {},
   "source": [
    "<br>\n",
    "\n",
    "- `retstep` 설정 > 반환값 tuple: (ndarray, 간격값)"
   ]
  },
  {
   "cell_type": "code",
   "execution_count": 65,
   "id": "691c3dd2",
   "metadata": {},
   "outputs": [
    {
     "name": "stdout",
     "output_type": "stream",
     "text": [
      "(array([0.  , 0.25, 0.5 , 0.75, 1.  ]), 0.25)\n"
     ]
    }
   ],
   "source": [
    "linspace_retstep = np.linspace(0, 1, num=5, retstep=True)\n",
    "\n",
    "print(linspace_retstep)"
   ]
  },
  {
   "cell_type": "markdown",
   "id": "5f737cf2",
   "metadata": {},
   "source": [
    "<br>\n",
    "\n",
    "### 3.2. `np.arange(start=0, stop, step=1, dtype=None)`\n",
    "\n",
    "- 시작값(start)부터 마지막값(stop) 사이의 범위에서 지정한 간격(step)으로 일정 개수(num)개의 데이터를 가지는 배열 생성\n",
    "\n",
    "- 파이썬 내장함수 range()와 유사\n",
    "\n",
    "- start : 시작값, 기본값 = 0\n",
    "\n",
    "- stop : 마지막값으로 범위에 포함되지 않음\n",
    "\n",
    "- step : 데이터 사이의 간격, 기본값 = 1\n",
    "\n",
    "- dtype : 배열의 데이터 타입을 지정, 기본값 = None"
   ]
  },
  {
   "cell_type": "code",
   "execution_count": 66,
   "id": "8a2363f0",
   "metadata": {},
   "outputs": [
    {
     "data": {
      "text/plain": [
       "[0, 1, 2, 3, 4]"
      ]
     },
     "execution_count": 66,
     "metadata": {},
     "output_type": "execute_result"
    }
   ],
   "source": [
    "list(range(5))"
   ]
  },
  {
   "cell_type": "markdown",
   "id": "4a28d2f8",
   "metadata": {},
   "source": [
    "<br>\n",
    "\n",
    "- 기본값\n",
    "\n",
    "- 0이상 5미만의 범위에서 1씩 증가하는 정수를 가지는 `ndarray`"
   ]
  },
  {
   "cell_type": "code",
   "execution_count": 67,
   "id": "7270df34",
   "metadata": {},
   "outputs": [
    {
     "name": "stdout",
     "output_type": "stream",
     "text": [
      "\n",
      "    type : <class 'numpy.ndarray'>\n",
      "    shape : (5,)\n",
      "    ndim : 1\n",
      "    dtype : int32\n",
      "    array data : \n",
      " [0 1 2 3 4]\n"
     ]
    }
   ],
   "source": [
    "ndarr_arange = np.arange(5)\n",
    "\n",
    "np_print(ndarr_arange)"
   ]
  },
  {
   "cell_type": "markdown",
   "id": "d1ead8c9",
   "metadata": {},
   "source": [
    "<br>\n",
    "\n",
    "- 시작값, 끝값, 간격 설정\n",
    "- 0 이상, 5 미만, 0.5씩 증가하는 숫자를 가진 `ndarray`"
   ]
  },
  {
   "cell_type": "code",
   "execution_count": 69,
   "id": "539f0a75",
   "metadata": {},
   "outputs": [
    {
     "name": "stdout",
     "output_type": "stream",
     "text": [
      "\n",
      "    type : <class 'numpy.ndarray'>\n",
      "    shape : (10,)\n",
      "    ndim : 1\n",
      "    dtype : float64\n",
      "    array data : \n",
      " [0.  0.5 1.  1.5 2.  2.5 3.  3.5 4.  4.5]\n"
     ]
    }
   ],
   "source": [
    "arange_5 = np.arange(0, 5, 0.5)\n",
    "\n",
    "np_print(arange_5)"
   ]
  },
  {
   "cell_type": "markdown",
   "id": "b1ab1d5a",
   "metadata": {},
   "source": [
    "<br>\n",
    "\n",
    "- `arange()` method `ndarray` vs. `shape(1, 5)` `ndarray`   \n",
    "\\> shape와 dimension이 다르다"
   ]
  },
  {
   "cell_type": "code",
   "execution_count": null,
   "id": "bd4dbd9a",
   "metadata": {},
   "outputs": [],
   "source": []
  },
  {
   "cell_type": "code",
   "execution_count": null,
   "id": "2a334875",
   "metadata": {},
   "outputs": [],
   "source": []
  },
  {
   "cell_type": "markdown",
   "id": "26b862c3",
   "metadata": {},
   "source": [
    "### 3.3. `np.logspace(start, stop, num=50, endpoint=True, dtype=None)`\n",
    "\n",
    "- 시작값(start)부터 마지막값(stop)사이의 log scale로 지정된 range에서    \n",
    "균등한 간격으로 일정 개수(num)개의 data를 가지는 `ndarray`생성\n",
    "\n",
    "- `num`: data 개수, default == 50\n",
    "\n",
    "- `endpoint`: 마지막값에 `stop`을 포함 or 제외하는 조건, default == True(포함)\n",
    "\n",
    "- `dtype`: `ndarray` data type, default == None"
   ]
  },
  {
   "cell_type": "markdown",
   "id": "3d1934d3",
   "metadata": {},
   "source": [
    "<br>\n",
    "\n",
    "- 기본값\n",
    "- 0이상 1이하 range > log scale 적용한 값(num=50)을 가진 `ndarray`\n",
    "- 밑 == 10인 log값 기준"
   ]
  },
  {
   "cell_type": "code",
   "execution_count": 70,
   "id": "f049f4a7",
   "metadata": {},
   "outputs": [
    {
     "name": "stdout",
     "output_type": "stream",
     "text": [
      "\n",
      "    type : <class 'numpy.ndarray'>\n",
      "    shape : (50,)\n",
      "    ndim : 1\n",
      "    dtype : float64\n",
      "    array data : \n",
      " [ 1.          1.04811313  1.09854114  1.1513954   1.20679264  1.26485522\n",
      "  1.32571137  1.38949549  1.45634848  1.52641797  1.59985872  1.67683294\n",
      "  1.75751062  1.84206997  1.93069773  2.02358965  2.12095089  2.22299648\n",
      "  2.32995181  2.44205309  2.55954792  2.6826958   2.8117687   2.9470517\n",
      "  3.0888436   3.23745754  3.39322177  3.55648031  3.72759372  3.90693994\n",
      "  4.09491506  4.29193426  4.49843267  4.71486636  4.94171336  5.17947468\n",
      "  5.42867544  5.68986603  5.96362332  6.25055193  6.55128557  6.86648845\n",
      "  7.19685673  7.54312006  7.90604321  8.28642773  8.68511374  9.10298178\n",
      "  9.54095476 10.        ]\n"
     ]
    }
   ],
   "source": [
    "log_ndarr = np.logspace(0, 1)\n",
    "\n",
    "np_print(log_ndarr)"
   ]
  },
  {
   "cell_type": "code",
   "execution_count": 71,
   "id": "ae257bb2",
   "metadata": {},
   "outputs": [
    {
     "name": "stdout",
     "output_type": "stream",
     "text": [
      "\n",
      "    type : <class 'numpy.ndarray'>\n",
      "    shape : (4,)\n",
      "    ndim : 1\n",
      "    dtype : float64\n",
      "    array data : \n",
      " [   1.   10.  100. 1000.]\n"
     ]
    }
   ],
   "source": [
    "log_ndarr2 = np.logspace(0, 3, 4)\n",
    "\n",
    "np_print(log_ndarr2)"
   ]
  },
  {
   "cell_type": "markdown",
   "id": "a2a9c3f2",
   "metadata": {},
   "source": [
    "<br>\n",
    "\n",
    "- `endpoint` 설정"
   ]
  },
  {
   "cell_type": "code",
   "execution_count": 73,
   "id": "dab6db40",
   "metadata": {},
   "outputs": [
    {
     "name": "stdout",
     "output_type": "stream",
     "text": [
      "\n",
      "    type : <class 'numpy.ndarray'>\n",
      "    shape : (40,)\n",
      "    ndim : 1\n",
      "    dtype : float64\n",
      "    array data : \n",
      " [1.         1.05925373 1.12201845 1.18850223 1.25892541 1.33352143\n",
      " 1.41253754 1.49623566 1.58489319 1.67880402 1.77827941 1.88364909\n",
      " 1.99526231 2.11348904 2.23872114 2.37137371 2.51188643 2.66072506\n",
      " 2.81838293 2.98538262 3.16227766 3.34965439 3.54813389 3.75837404\n",
      " 3.98107171 4.21696503 4.46683592 4.73151259 5.01187234 5.30884444\n",
      " 5.62341325 5.95662144 6.30957344 6.68343918 7.07945784 7.49894209\n",
      " 7.94328235 8.41395142 8.91250938 9.44060876]\n"
     ]
    }
   ],
   "source": [
    "log_endpoint = np.logspace(0, 1, 40, endpoint=False)\n",
    "\n",
    "np_print(log_endpoint)"
   ]
  },
  {
   "cell_type": "markdown",
   "id": "4c360280",
   "metadata": {},
   "source": [
    "## 4. 난수 배열 생성 및 초기화\n",
    "\n",
    "- 난수(특정한 순서나 규칙을 가지지 않는 무작위의 수)를 데이터로 가지는 배열을 생성\n",
    "\n",
    "    - np.random.normal()\n",
    "\n",
    "    - np.random.rand()\n",
    "\n",
    "    - np.random.randn()\n",
    "\n",
    "    - np.random.randint()\n",
    "\n",
    "    - np.random.random()"
   ]
  },
  {
   "cell_type": "markdown",
   "id": "96602415",
   "metadata": {},
   "source": [
    "### 4.1. `np.random.normal(loc=0.0, scale=1.0, size=None)`\n",
    "\n",
    "- 정규 분포 확률 밀도에서 표본을 추출하여 데이터로 가지는 배열을 생성\n",
    "\n",
    "- loc : 정규분포의 평균, 기본값 = 0.0\n",
    "\n",
    "- scale : 정규분포의 표준편차, 기본값 = 1.0\n",
    "\n",
    "- size : (행,열,차원)의 배열 구조, 기본값 = single value(배열이 아닌 하나의 값을 반환)"
   ]
  },
  {
   "cell_type": "markdown",
   "id": "6962b858",
   "metadata": {},
   "source": [
    "#### \\* 분포의 종류\n",
    "\n",
    "1. 균등분포: 모든 요소가 출력될 확률이 동등한 경우 e.g. 로또 번호\n",
    "\n",
    "2. 정규분포: 평균에 가까울수록 출력될 확률이 높고 평균에서 멀어질수록 확률이 낮아짐 e.g. 키, 시험 성적 "
   ]
  },
  {
   "cell_type": "markdown",
   "id": "a28b3f48",
   "metadata": {},
   "source": [
    "<br>\n",
    "\n",
    "- 기본값\n",
    "- 평균 0, 표준편차 1로 난수 생성"
   ]
  },
  {
   "cell_type": "code",
   "execution_count": 248,
   "id": "006b4263",
   "metadata": {},
   "outputs": [],
   "source": [
    "n_max = 0s"
   ]
  },
  {
   "cell_type": "code",
   "execution_count": 1192,
   "id": "fe9b4676",
   "metadata": {},
   "outputs": [
    {
     "name": "stdout",
     "output_type": "stream",
     "text": [
      "-0.6196039645326118\n"
     ]
    }
   ],
   "source": [
    "v = np.random.normal(0, 1)\n",
    "print(v)\n",
    "if v > n_max:\n",
    "    n_max = v"
   ]
  },
  {
   "cell_type": "code",
   "execution_count": 1193,
   "id": "20bc4c73",
   "metadata": {},
   "outputs": [
    {
     "name": "stdout",
     "output_type": "stream",
     "text": [
      "3.1977672921177573\n"
     ]
    }
   ],
   "source": [
    "print(n_max)"
   ]
  },
  {
   "cell_type": "code",
   "execution_count": null,
   "id": "33b19602",
   "metadata": {},
   "outputs": [],
   "source": []
  },
  {
   "cell_type": "code",
   "execution_count": null,
   "id": "995bdfff",
   "metadata": {},
   "outputs": [],
   "source": []
  },
  {
   "cell_type": "code",
   "execution_count": null,
   "id": "e39e40e1",
   "metadata": {},
   "outputs": [],
   "source": []
  },
  {
   "cell_type": "code",
   "execution_count": null,
   "id": "69e70aec",
   "metadata": {},
   "outputs": [],
   "source": []
  },
  {
   "cell_type": "code",
   "execution_count": null,
   "id": "4d19d3b5",
   "metadata": {},
   "outputs": [],
   "source": []
  },
  {
   "cell_type": "code",
   "execution_count": null,
   "id": "6b6685a5",
   "metadata": {},
   "outputs": [],
   "source": []
  },
  {
   "cell_type": "code",
   "execution_count": null,
   "id": "b3152644",
   "metadata": {},
   "outputs": [],
   "source": []
  }
 ],
 "metadata": {
  "kernelspec": {
   "display_name": "Python 3 (ipykernel)",
   "language": "python",
   "name": "python3"
  },
  "language_info": {
   "codemirror_mode": {
    "name": "ipython",
    "version": 3
   },
   "file_extension": ".py",
   "mimetype": "text/x-python",
   "name": "python",
   "nbconvert_exporter": "python",
   "pygments_lexer": "ipython3",
   "version": "3.9.12"
  }
 },
 "nbformat": 4,
 "nbformat_minor": 5
}
