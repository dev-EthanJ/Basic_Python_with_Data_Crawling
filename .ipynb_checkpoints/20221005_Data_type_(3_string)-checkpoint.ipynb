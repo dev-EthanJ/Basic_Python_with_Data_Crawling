{
 "cells": [
  {
   "cell_type": "markdown",
   "id": "40ef6320",
   "metadata": {},
   "source": [
    "# Data type\n",
    "## 3. string\n",
    "## > string 생성\n",
    "- 여닫는 따옴표는 반드시 문자의 앞 뒤에서 같은 종류의 한 쌍으로 완성해야한다.\n",
    "\n",
    "### 1. 한 줄 문자열 : ' , \""
   ]
  },
  {
   "cell_type": "code",
   "execution_count": 1,
   "id": "aa7b2ae2",
   "metadata": {},
   "outputs": [
    {
     "data": {
      "text/plain": [
       "'123'"
      ]
     },
     "execution_count": 1,
     "metadata": {},
     "output_type": "execute_result"
    }
   ],
   "source": [
    "\"123\" \n",
    "# 숫자 백이십삼이 아니라 문자 일이삼으로 읽는 것"
   ]
  },
  {
   "cell_type": "code",
   "execution_count": 2,
   "id": "c787ad53",
   "metadata": {},
   "outputs": [],
   "source": [
    "#\"안녕\n",
    "#반가워\"\n",
    "# 여닫는 따옴표가 다른 줄에 있으면 오류 발생 \n",
    "# 여는 따옴표와 닫는 따옴표는 같은 줄에 있어야한다. 여러 줄에 걸쳐있으면 안된다. "
   ]
  },
  {
   "cell_type": "code",
   "execution_count": 3,
   "id": "e9be74ad",
   "metadata": {},
   "outputs": [
    {
     "name": "stdout",
     "output_type": "stream",
     "text": [
      "안녕\n",
      "반가워\n"
     ]
    }
   ],
   "source": [
    "a = \"안녕\\n반가워\"\n",
    "print(a)\n",
    "# 명령어 출력되는 창 == 콘솔\n",
    "# 역슬래쉬 + n == 개행문자 == 줄바꿈(enter) "
   ]
  },
  {
   "cell_type": "code",
   "execution_count": 4,
   "id": "60b0e38e",
   "metadata": {},
   "outputs": [
    {
     "name": "stdout",
     "output_type": "stream",
     "text": [
      "안녕\\\n",
      "반가워\n"
     ]
    }
   ],
   "source": [
    "a = \"안녕\\\\\\n반가워\"\n",
    "print(a)"
   ]
  },
  {
   "cell_type": "markdown",
   "id": "d0cc398a",
   "metadata": {},
   "source": [
    "### 2. 여러 줄 문자열 : '''(' * 3), \"\"\"(\" * 3)\n",
    "- print() > enter(줄바꿈) 그대로 반영되는 문자열로 처리\n",
    "- 단, 변수명만 실행 시 (print() 없이 주피터노트북 결과) > 줄바꿈 표시 X, \\n으로 처리 "
   ]
  },
  {
   "cell_type": "code",
   "execution_count": 5,
   "id": "561b5c02",
   "metadata": {},
   "outputs": [
    {
     "name": "stdout",
     "output_type": "stream",
     "text": [
      "안녕\n",
      "반가워\n"
     ]
    }
   ],
   "source": [
    "a =\"\"\"안녕\n",
    "반가워\"\"\"\n",
    "print(a)"
   ]
  },
  {
   "cell_type": "code",
   "execution_count": 6,
   "id": "89e0b620",
   "metadata": {
    "scrolled": true
   },
   "outputs": [
    {
     "data": {
      "text/plain": [
       "'안녕\\n반가워'"
      ]
     },
     "execution_count": 6,
     "metadata": {},
     "output_type": "execute_result"
    }
   ],
   "source": [
    "a  \n",
    "# 여러 줄을 한 줄로 바꿈 >  줄바꿈 → '\\n'으로 출력 \n",
    "# print() : 화면에 출력 vs. 변수명(원본 자체 내용 미리보기) 실행 차이 "
   ]
  },
  {
   "cell_type": "markdown",
   "id": "52812a66",
   "metadata": {},
   "source": [
    "### 3. 문자 속에 문자열 기호 사용하기\n",
    "- 문자열에서 자주 쓰는 기호 : ' , \"<br>\n",
    "- 언어, 문자에서 많이 쓰이는 기호 : she's, \"설렁탕을 사왔는데 왜 먹지를 못하니...\""
   ]
  },
  {
   "cell_type": "code",
   "execution_count": 7,
   "id": "715c11e1",
   "metadata": {
    "scrolled": true
   },
   "outputs": [
    {
     "name": "stdout",
     "output_type": "stream",
     "text": [
      "she's happy.\n"
     ]
    }
   ],
   "source": [
    "# 1) 다른 종류로 쓰기 - 홑따옴표 표시할 시 > 쌍따옴표로 문자열 감싼다\n",
    "\n",
    "a = \"she's happy.\"\n",
    "print(a)"
   ]
  },
  {
   "cell_type": "code",
   "execution_count": 8,
   "id": "77c2701d",
   "metadata": {
    "scrolled": true
   },
   "outputs": [
    {
     "name": "stdout",
     "output_type": "stream",
     "text": [
      "오늘은 \"미세먼지\" 좋음\n"
     ]
    }
   ],
   "source": [
    "# practice\n",
    "\n",
    "title = '오늘은 \"미세먼지\" 좋음'\n",
    "print(title)\n",
    "\n",
    "# tip) [ctrl] + [a] == 전체 선택\n",
    "# 커서 이동 단위 선택 == [ctrl] + [방향키]"
   ]
  },
  {
   "cell_type": "code",
   "execution_count": 9,
   "id": "84f59252",
   "metadata": {},
   "outputs": [
    {
     "name": "stdout",
     "output_type": "stream",
     "text": [
      "\"He's sad.\"\n"
     ]
    }
   ],
   "source": [
    "# 2) 같은 종류 따옴표 내부에서 문자 따옴표를 쓸 때는\n",
    "# 따옴표 왼쪽에 backslash(\\) > 해당 따옴표가 여닫는 용도로 쓰이지 않았음을 명시\n",
    "\n",
    "b =\"\\\"He's sad.\\\"\"\n",
    "print(b)"
   ]
  },
  {
   "cell_type": "code",
   "execution_count": 10,
   "id": "575160b6",
   "metadata": {
    "scrolled": true
   },
   "outputs": [
    {
     "name": "stdout",
     "output_type": "stream",
     "text": [
      "aaaaaaaaaaaaaaaaaaaaaaaaaaaaaaaaaaaaaaaaaaaaaaaaaaaaaaaaaaaaaaaaaaaaaaaaaaaaaaaaaaaaaaaaaaaaaaaaaaaaaaaaaaaaaaaaaaaaaaaaaaaaaaaaaaaaaaaaaaaaaaaaaaaaaaaaaaaaaaaaaaaaaaaaaaaaaaaaaaaaaaaaaaaaaaaaaaaaaaaaa\n"
     ]
    }
   ],
   "source": [
    "# 만약 문자열이 너무 길어서 보는데 불편한 경우\n",
    "# \\만 써주고 엔터로 줄을 넘김 > print() 표시상으로는 두 줄 > 실제 메모리상으로는 한 줄로 인식되는 string\n",
    "\n",
    "c = 'aaaaaaaaaaaaaaaaaaaaaaaaaaaaaaaaaaaaaaaa\\\n",
    "aaaaaaaaaaaaaaaaaaaaaaaaaaaaaaaaaaaaaaaaaaaaaa\\\n",
    "aaaaaaaaaaaaaaaaaaaaaaaaaaaaaaaaaaaaaaaaaaaaa\\\n",
    "aaaaaaaaaaaaaaaaaaaaaaaaaaaaaaaaaaaaaaaaaaaaa\\\n",
    "aaaaaaaaaaaaaaaaaaaaaaaaa'\n",
    "print(c)"
   ]
  },
  {
   "cell_type": "markdown",
   "id": "932074a4",
   "metadata": {},
   "source": [
    "### 연습문제\n",
    "#### 아래와 같은 여러 줄의 문장을 문자열로 만들어서 lines라는 변수에 할당하세요.\n",
    "> 파이썬도 배우고\n",
    "> 장고도 배우고\n",
    "> 할게 너무 많아\n",
    "\n",
    "case1) 여러 줄 문자열 활용하기 (lines 변수에 할당)\n",
    "\n",
    "case2) 한 줄 문자열 내부에서 \\n 사이사이에 활용하기. (line 변수에 할당)"
   ]
  },
  {
   "cell_type": "code",
   "execution_count": 11,
   "id": "5052752b",
   "metadata": {},
   "outputs": [
    {
     "name": "stdout",
     "output_type": "stream",
     "text": [
      "파이썬도 배우고\n",
      "장고도 배우고\n",
      "할게 너무 많아\n"
     ]
    }
   ],
   "source": [
    "# case1)\n",
    "\n",
    "lines = \"\"\"파이썬도 배우고\n",
    "장고도 배우고\n",
    "할게 너무 많아\"\"\"\n",
    "print(lines)"
   ]
  },
  {
   "cell_type": "code",
   "execution_count": 12,
   "id": "dc86805f",
   "metadata": {
    "scrolled": true
   },
   "outputs": [
    {
     "name": "stdout",
     "output_type": "stream",
     "text": [
      "파이썬도 배우고 \n",
      "장고도 배우고 \n",
      "할게 너무 많아\n"
     ]
    }
   ],
   "source": [
    "# case2)\n",
    "\n",
    "line =\"파이썬도 배우고 \\n장고도 배우고 \\n할게 너무 많아\"\n",
    "print(line)"
   ]
  },
  {
   "cell_type": "markdown",
   "id": "26a033c7",
   "metadata": {},
   "source": [
    "## > 연산하기\n",
    "\n",
    "### 1. 산술연산자 : 문자, 숫자를 함께 연산하기 위한 문법기호\n",
    "- 문자와 문자를 연결\n",
    "- 동일한 문자를 반복해서 연결"
   ]
  },
  {
   "cell_type": "code",
   "execution_count": 13,
   "id": "d853f3eb",
   "metadata": {},
   "outputs": [
    {
     "data": {
      "text/plain": [
       "'가나'"
      ]
     },
     "execution_count": 13,
     "metadata": {},
     "output_type": "execute_result"
    }
   ],
   "source": [
    "# 문자와 문자를 연결\n",
    "\"가\" + \"나\""
   ]
  },
  {
   "cell_type": "code",
   "execution_count": 14,
   "id": "c15ecaa0",
   "metadata": {},
   "outputs": [
    {
     "name": "stdout",
     "output_type": "stream",
     "text": [
      "가 나\n",
      "가 나\n",
      "가 나\n",
      "가 나\n"
     ]
    }
   ],
   "source": [
    "# 1. 문자열 자체에 공백 추가하기('가 나'로 출력되게 만들기)\n",
    "print(\"가\" + \" \" + \"나\")\n",
    "print(\"가 \" + \"나\")\n",
    "print(\"가\"  + \" 나\")\n",
    "print(\"가 나\")"
   ]
  },
  {
   "cell_type": "code",
   "execution_count": 15,
   "id": "21878eaf",
   "metadata": {},
   "outputs": [],
   "source": [
    "# 2.\"파이썬\"의 더하기는 양변 자료가 같거나 논리적으로 비슷하다고 인정되어야 함\n",
    "\n",
    "# 정수 + 실수 == 논리적 같음을 인정받은 경우 (e.g. 1 + 1.5)\n",
    "# 문자 + 숫자 == Error (e.g. \"가\" + 1)\n",
    "# print(\"가\" + 1)"
   ]
  },
  {
   "cell_type": "code",
   "execution_count": 16,
   "id": "01694a1c",
   "metadata": {},
   "outputs": [
    {
     "data": {
      "text/plain": [
       "'abcabcabc'"
      ]
     },
     "execution_count": 16,
     "metadata": {},
     "output_type": "execute_result"
    }
   ],
   "source": [
    "# 문자열을 여러 번 반복하는 연산자 : *\n",
    "# 동일한 문자열을 여러 번 반복 연결\n",
    "\n",
    "'abc' * 3"
   ]
  },
  {
   "cell_type": "code",
   "execution_count": 17,
   "id": "f30932ee",
   "metadata": {},
   "outputs": [],
   "source": [
    "# 문자 * 문자 == error"
   ]
  },
  {
   "cell_type": "markdown",
   "id": "9e087a57",
   "metadata": {},
   "source": [
    "### 2. 비교 연산자 : 문자의 크기를 비교하기 위한 문법 기호\n",
    "\n",
    "- 문자의 비교\n",
    "    - 대문자 vs. 소문자 : 대문자 < 소문자\n",
    "    - 알파벳 : 알파벳 순서가 뒤에 있을수록 크기가 더 크다\n",
    "    - 문자열 길이 : 문자열의 길이가 길수록 크기가 더 크다 <br>\n",
    "\n",
    "- ASCII Code : (컴퓨터 언어로 표현하기 위해) 문자를 숫자마다 배정 <br>\n",
    "    - e.g. 'A' == 65, 'B' == 66, ... , 'a' == 97,  'b' == 98, ... \n",
    "    - 숫자 '0' == 48, 띄어쓰기(공백) == 32, null == 0 <br>\n",
    "\n",
    "- ord(character) : 문자에 배정된 코드값 확인 함수"
   ]
  },
  {
   "cell_type": "code",
   "execution_count": 18,
   "id": "c9298784",
   "metadata": {},
   "outputs": [
    {
     "data": {
      "text/plain": [
       "True"
      ]
     },
     "execution_count": 18,
     "metadata": {},
     "output_type": "execute_result"
    }
   ],
   "source": [
    "# 대문자 vs. 소문자 > 비교연산자 (==, !=, <, >)로 확인\n",
    "\n",
    "'A' < 'a'"
   ]
  },
  {
   "cell_type": "code",
   "execution_count": 19,
   "id": "14fc6d31",
   "metadata": {},
   "outputs": [
    {
     "data": {
      "text/plain": [
       "False"
      ]
     },
     "execution_count": 19,
     "metadata": {},
     "output_type": "execute_result"
    }
   ],
   "source": [
    "# 알파벳의 크기 비교\n",
    "\n",
    "# 문자열을 대상으로 할 때 > 무조건 첫 글자끼리만 비교\n",
    "# 문자열의 길이 > 실제 크기비교에 영향 X\n",
    "# 단, 첫 글자가 같으면 > 그 다음 index의 글자로 크기 비교 \n",
    "\n",
    "'b' < 'BUS'"
   ]
  },
  {
   "cell_type": "code",
   "execution_count": 20,
   "id": "ff61e13d",
   "metadata": {},
   "outputs": [
    {
     "data": {
      "text/plain": [
       "True"
      ]
     },
     "execution_count": 20,
     "metadata": {},
     "output_type": "execute_result"
    }
   ],
   "source": [
    "# 영문자와 영문자 이외의 다른 문자간 비교 > 무조건 영문자가 작음\n",
    "# ASCII code VS UNICODE\n",
    "\n",
    "'B' < '가'"
   ]
  },
  {
   "cell_type": "code",
   "execution_count": 21,
   "id": "645f846c",
   "metadata": {},
   "outputs": [
    {
     "data": {
      "text/plain": [
       "27"
      ]
     },
     "execution_count": 21,
     "metadata": {},
     "output_type": "execute_result"
    }
   ],
   "source": [
    "# 해당 문자열이 몇 글자인지 확인하는 함수 > len([string])\n",
    "\n",
    "len('arhawekmwmemfknfknalskmflam')"
   ]
  },
  {
   "cell_type": "markdown",
   "id": "b773b93c",
   "metadata": {},
   "source": [
    "## > index\n",
    "- 아이템(대상이 가지고 있는 최소 단위의 값)의 위치를 나타내는 고유한 번호\n",
    "- 첫 번째 위치는 0부터 시작\n",
    "- 마지막 위치는 -1부터 시작\n",
    "\n",
    "### 1) 인덱싱(indexing) : 특정 위치의 하나의 아이템에 접근하기\n",
    "- 인덱싱 문법 : 객체[인덱스번호]"
   ]
  },
  {
   "cell_type": "code",
   "execution_count": 22,
   "id": "92d7490f",
   "metadata": {},
   "outputs": [
    {
     "data": {
      "text/plain": [
       "'b'"
      ]
     },
     "execution_count": 22,
     "metadata": {},
     "output_type": "execute_result"
    }
   ],
   "source": [
    "# banana 라는 문자열에 대해 인덱싱\n",
    "\n",
    "text = 'banana'\n",
    "# banana라는 문자열에서 첫 번째 아이템 == 0번째 인덱스번호로 접근\n",
    "# 인덱싱 문법 : 객체(== 대상)[index]\n",
    "\n",
    "text[0]"
   ]
  },
  {
   "cell_type": "code",
   "execution_count": 23,
   "id": "70d955ed",
   "metadata": {},
   "outputs": [
    {
     "name": "stdout",
     "output_type": "stream",
     "text": [
      "a\n",
      "a\n"
     ]
    }
   ],
   "source": [
    "#마지막 요소인 a에 접근\n",
    "\n",
    "print(text[5])\n",
    "print(text[-1])"
   ]
  },
  {
   "cell_type": "markdown",
   "id": "e84f0573",
   "metadata": {},
   "source": [
    "### 2) 슬라이싱(slicing) : 연속된 범위의 여러 아이템에 접근\n",
    "\n",
    "- 문법 : 대상객체[처음인덱스 : 마지막인덱스( : 간격)]\n",
    "- 처음 인덱스 번호는 포함 (n ~)\n",
    "- 마지막 인덱스 번호는 불포함 (~ n-1)\n",
    "- 간격조정은 선택 > 기본 1씩 증가"
   ]
  },
  {
   "cell_type": "code",
   "execution_count": 24,
   "id": "4618ed62",
   "metadata": {},
   "outputs": [],
   "source": [
    "#문자열 생성\n",
    "\n",
    "text = \"hellopythonworld\"\n",
    "\n",
    "# index 0 ~ 15\n",
    "\n",
    "# index 0 : h\n",
    "# index 4 : o\n",
    "\n",
    "# index 5 : p\n",
    "# index 10 (= 16 - 5): n\n",
    "\n",
    "# index 11 (= 16 - 4): w\n",
    "# index 15 : d\n",
    "\n",
    "# index -6 == index 16 - 6 = index 10 : n\n",
    "# index -5 == index 16 - 5 = index 11 : w \n",
    "\n",
    "# index -1 == index 16 - 1 == index 15 : d\n",
    "# 개념상 index -0 == index 0 (== index len(string)): h "
   ]
  },
  {
   "cell_type": "code",
   "execution_count": 25,
   "id": "638311ef",
   "metadata": {},
   "outputs": [
    {
     "name": "stdout",
     "output_type": "stream",
     "text": [
      "hellopython\n",
      "hellopython\n",
      "hellopython\n"
     ]
    }
   ],
   "source": [
    "# (1) 처음부터 특정위치까지\n",
    "# > [0 : 특정 index] > (index 0) ~ (특정 index - 1)까지 지정\n",
    "\n",
    "# > [0 : (양수 index) 11] > 실제로 index 10까지 (특정 index - 1)\n",
    "print(text[0 : 11]) # index 0 ~ 10 (==11 - 1)\n",
    "\n",
    "# index -0 == index len(string)\n",
    "# 음수 index -n == index (len(string) -n)\n",
    "\n",
    "# > [0 : (음수 index) -5] > 뒤에서 5번째까지 (index len(string)-5)) > 실제로 index -6까지 (특정 index -1)\n",
    "# 간격 > 기본값(== 1)\n",
    "print(text[0 : -5]) # index 0 ~ -6 (==len(text)(==16)-5 - 1) (==11 - 1)\n",
    "print(text[0:len(text) -5])"
   ]
  },
  {
   "cell_type": "code",
   "execution_count": 26,
   "id": "987d1a5c",
   "metadata": {},
   "outputs": [
    {
     "data": {
      "text/plain": [
       "'hellopython'"
      ]
     },
     "execution_count": 26,
     "metadata": {},
     "output_type": "execute_result"
    }
   ],
   "source": [
    "#첫 인덱스가 0으로 시작 시 > 생략 가능\n",
    "\n",
    "text[ :-5]"
   ]
  },
  {
   "cell_type": "code",
   "execution_count": 27,
   "id": "dac08174",
   "metadata": {},
   "outputs": [
    {
     "name": "stdout",
     "output_type": "stream",
     "text": [
      "python\n",
      "python\n"
     ]
    }
   ],
   "source": [
    "# (2) 특정 위치부터 마지막 아이템까지\n",
    "\n",
    "# 처음 인덱스 > 5 (index 5 : p)\n",
    "# 원하는 마지막 인덱스 > 10 or -6 \n",
    "# 간격 > 기본값(==1)\n",
    "\n",
    "print(text[5 : 11]) #[start index : last index + 1]\n",
    "print(text[5 : -5]) #[start index : last index + 1]"
   ]
  },
  {
   "cell_type": "code",
   "execution_count": 28,
   "id": "f6c77378",
   "metadata": {},
   "outputs": [
    {
     "data": {
      "text/plain": [
       "'hellopythonworld'"
      ]
     },
     "execution_count": 28,
     "metadata": {},
     "output_type": "execute_result"
    }
   ],
   "source": [
    "# (3) 전체 범위 : 처음 인덱스와 마지막 인덱스 모두 쓰지 않으면 된다\n",
    "\n",
    "# 처음 인덱스 기본값 : 0\n",
    "# 마지막 인덱스 기본값 : 마지막까지 자동 입력\n",
    "\n",
    "text[:]"
   ]
  },
  {
   "cell_type": "code",
   "execution_count": 29,
   "id": "93a3467a",
   "metadata": {},
   "outputs": [
    {
     "data": {
      "text/plain": [
       "'hloyhnol'"
      ]
     },
     "execution_count": 29,
     "metadata": {},
     "output_type": "execute_result"
    }
   ],
   "source": [
    "# 간격 옵션 > e.g. 전체 범위 지정 + 간격 2 > 객체[ : :2]\n",
    "\n",
    "text[ : :2]"
   ]
  },
  {
   "cell_type": "code",
   "execution_count": 30,
   "id": "6db283e8",
   "metadata": {},
   "outputs": [
    {
     "data": {
      "text/plain": [
       "'dlrownohtypolleh'"
      ]
     },
     "execution_count": 30,
     "metadata": {},
     "output_type": "execute_result"
    }
   ],
   "source": [
    "#간격 옵션 > e.g. -1 > 뒤에서부터 간격 1씩\n",
    "\n",
    "text[ : :-1]"
   ]
  },
  {
   "cell_type": "markdown",
   "id": "f1511e1b",
   "metadata": {},
   "source": [
    "### > 연습문제\n",
    "> 20221005 미세먼지 양호함\n",
    "- 위의 문장을 weather 변수에 저장한 다음, 날짜는 date 변수에 슬라이싱으로 받아오고 \n",
    "- dust 변수에 미세먼지 정도를 슬라이싱으로 받아오도록 만들어서 출력해주세요\n",
    "\n",
    "출력양식 : <br>\n",
    "날짜 : 20221005 <br>\n",
    "날씨 : 미세먼지 양호함"
   ]
  },
  {
   "cell_type": "code",
   "execution_count": 31,
   "id": "28aff978",
   "metadata": {},
   "outputs": [
    {
     "name": "stdout",
     "output_type": "stream",
     "text": [
      "날짜 :  20221005\n",
      "날씨 :  미세먼지 양호함\n"
     ]
    }
   ],
   "source": [
    "weather = '20221005 미세먼지 양호함'\n",
    "\n",
    "date = weather[:8]\n",
    "dust = weather[9:]\n",
    "\n",
    "print(\"날짜 : \", date)\n",
    "print(\"날씨 : \", dust)"
   ]
  },
  {
   "cell_type": "markdown",
   "id": "810a9a2a",
   "metadata": {},
   "source": [
    "## > 포맷팅 (formatting)\n",
    "- 특정 값만 바뀌고 > 일정한 형식을 가지는 문자열을 작성할 수 있는 기법\n",
    "\n",
    "### %포맷팅\n",
    "    - 데이터 타입에 따른 분류 : 정수, 실수, 문자\n",
    "    - 옵션 : 문자열 길이, 표현할 아이템 개수, 공백\n",
    "    \n",
    "1. 가변자료가 들어갈 자리(...)에 구멍(%자료형)을 낸다.\n",
    "2. 구멍이 뚫린 문자열 뒤에 %로 연결 > 집어넣을 값을 적는다."
   ]
  },
  {
   "cell_type": "markdown",
   "id": "f82ae64f",
   "metadata": {},
   "source": [
    "### 1) 숫자 값 대입"
   ]
  },
  {
   "cell_type": "code",
   "execution_count": 32,
   "id": "5598ec1c",
   "metadata": {},
   "outputs": [
    {
     "name": "stdout",
     "output_type": "stream",
     "text": [
      "오늘은 5일 입니다\n"
     ]
    }
   ],
   "source": [
    "# 정수 값 포맷팅 : 정수(int) == %d\n",
    "# 정수 = int or digit(10진수)\n",
    "\n",
    "print('오늘은 %d일 입니다' %5)"
   ]
  },
  {
   "cell_type": "code",
   "execution_count": 33,
   "id": "4dd1bc1b",
   "metadata": {},
   "outputs": [
    {
     "data": {
      "text/plain": [
       "'오늘은 5일 입니다.'"
      ]
     },
     "execution_count": 33,
     "metadata": {},
     "output_type": "execute_result"
    }
   ],
   "source": [
    "# 정수 자리의 의미 : \"지금 집어넣은 자료를 정수로 변환해 출력해주세요\"라는 의미\n",
    "# 실수 대입 시 > 강제로 정수로 변환하여 출력 (소수점 아래를 버림, 반올림 아님!)\n",
    "\n",
    "'오늘은 %d일 입니다.' %5.7"
   ]
  },
  {
   "cell_type": "code",
   "execution_count": 34,
   "id": "4a74541b",
   "metadata": {},
   "outputs": [
    {
     "data": {
      "text/plain": [
       "'15.000000 표기'"
      ]
     },
     "execution_count": 34,
     "metadata": {},
     "output_type": "execute_result"
    }
   ],
   "source": [
    "# 실수(float)값 포맷팅\n",
    "# %f를 이용하여 값에 대한 구멍을 낸다\n",
    "# %f > 기본적으로 소수점 6자리까지 표현 \n",
    "\n",
    "\"%f 표기\" %15"
   ]
  },
  {
   "cell_type": "code",
   "execution_count": 35,
   "id": "d26cc305",
   "metadata": {},
   "outputs": [
    {
     "data": {
      "text/plain": [
       "'1.123457 표기'"
      ]
     },
     "execution_count": 35,
     "metadata": {},
     "output_type": "execute_result"
    }
   ],
   "source": [
    "# %f에 소수점 6자리 넘는 실수 적용시 > 소수점 아래 7번째 자리에서 반올림 발생\n",
    "\n",
    "\"%f 표기\" %1.123456789"
   ]
  },
  {
   "cell_type": "code",
   "execution_count": 36,
   "id": "3d828f9d",
   "metadata": {},
   "outputs": [
    {
     "data": {
      "text/plain": [
       "'1.123'"
      ]
     },
     "execution_count": 36,
     "metadata": {},
     "output_type": "execute_result"
    }
   ],
   "source": [
    "# 옵션 : 소수점 아래 자리를 몇 자리까지 출력할지 정할 수 있음\n",
    "# %0.nf : 소수점 아래 n자리까지만 표현하는 실수\n",
    "\n",
    "\"%0.3f\" %1.123456789"
   ]
  },
  {
   "cell_type": "code",
   "execution_count": 37,
   "id": "29ee7a06",
   "metadata": {},
   "outputs": [
    {
     "data": {
      "text/plain": [
       "'오늘은 10월 5일입니다.'"
      ]
     },
     "execution_count": 37,
     "metadata": {},
     "output_type": "execute_result"
    }
   ],
   "source": [
    "# 가변인자 2개 이상일 시 > 대입값은 왼쪽부터 하나씩 전달\n",
    "# 2개 이상을 대입하는 경우 > 괄호 안에 item 지정, comma,로 연결 > %(첫 번째 값, 두 번째 값, ...) \n",
    "\n",
    "\"오늘은 %d월 %d일입니다.\" %(10, 5)"
   ]
  },
  {
   "cell_type": "code",
   "execution_count": 38,
   "id": "e8cc3977",
   "metadata": {},
   "outputs": [],
   "source": [
    "# %d, %f에 숫자가 아닌 자료를 넣으면 에러 발생\n",
    "\n",
    "#print(\"%d\" %\"1\") # Error"
   ]
  },
  {
   "cell_type": "markdown",
   "id": "24223b1f",
   "metadata": {},
   "source": [
    "### 2) 문자 대입\n",
    "- %s로 구멍 뚫기\n",
    "- 대입값에 대해서 제한 X > 만능 포맷팅"
   ]
  },
  {
   "cell_type": "code",
   "execution_count": 39,
   "id": "3ba947d6",
   "metadata": {},
   "outputs": [
    {
     "data": {
      "text/plain": [
       "'abc1234님 접속을 환영합니다.'"
      ]
     },
     "execution_count": 39,
     "metadata": {},
     "output_type": "execute_result"
    }
   ],
   "source": [
    "#문자 포맷팅\n",
    "\n",
    "\"%s님 접속을 환영합니다.\" %'abc1234'"
   ]
  },
  {
   "cell_type": "code",
   "execution_count": 40,
   "id": "446ef3f8",
   "metadata": {},
   "outputs": [
    {
     "data": {
      "text/plain": [
       "'100, 숫자도 입력 가능'"
      ]
     },
     "execution_count": 40,
     "metadata": {},
     "output_type": "execute_result"
    }
   ],
   "source": [
    "#문자 포맷팅 : 문자 이외의 타입\n",
    "\n",
    "\"%s, 숫자도 입력 가능\" %100"
   ]
  },
  {
   "cell_type": "code",
   "execution_count": 41,
   "id": "aec85a5c",
   "metadata": {},
   "outputs": [
    {
     "data": {
      "text/plain": [
       "'abc1234s 접속을 환영합니다.'"
      ]
     },
     "execution_count": 41,
     "metadata": {},
     "output_type": "execute_result"
    }
   ],
   "source": [
    "\"%ss 접속을 환영합니다.\" %'abc1234'"
   ]
  },
  {
   "cell_type": "markdown",
   "id": "2b7a5bd8",
   "metadata": {},
   "source": [
    "## > string 내장함수 == 문자열 method\n",
    "    - 내장함수 : 특정 데이터 타입이 자체적으로 가지고 있는 속성으로 존재하는 함수\n",
    "    - 문법 : variable.method()\n",
    "\n",
    "- count( ) : 특정 문자의 개수\n",
    "- find( ) :특정 문자의 인덱스 번호(위치)\n",
    "- join( ) : 특정 기호를 문자열 아이템 사이에 입력\n",
    "- upper( ) : 문자열을 대문자로 변경\n",
    "- lower( ) : 문자열을 소문자로 변경\n",
    "- capitalize( ) : 문자열의 첫 글자를 대문자로\n",
    "- swapcase( ) : 대문자는 소문자로, 소문자는 대문자로 전환\n",
    "- lstrip( ) / rstrip( ) / strip( ) : 좌 / 우 / 앞뒤 공백(기본) 및 특정 문자 지우기\n",
    "\n",
    "\\> 크롤링 시 많이 사용\n"
   ]
  },
  {
   "cell_type": "code",
   "execution_count": 42,
   "id": "9e7e67ac",
   "metadata": {},
   "outputs": [],
   "source": [
    "#문자열 생성\n",
    "\n",
    "text = 'tomato juice'"
   ]
  },
  {
   "cell_type": "code",
   "execution_count": 43,
   "id": "b7d0d49b",
   "metadata": {},
   "outputs": [
    {
     "data": {
      "text/plain": [
       "1"
      ]
     },
     "execution_count": 43,
     "metadata": {},
     "output_type": "execute_result"
    }
   ],
   "source": [
    "# .count('ch') : string의 특정 character 개수\n",
    "\n",
    "# text문자열에서의 a의 개수\n",
    "\n",
    "text.count('a')"
   ]
  },
  {
   "cell_type": "code",
   "execution_count": 44,
   "id": "bf83e738",
   "metadata": {},
   "outputs": [
    {
     "data": {
      "text/plain": [
       "2"
      ]
     },
     "execution_count": 44,
     "metadata": {},
     "output_type": "execute_result"
    }
   ],
   "source": [
    "# .count(\"str\") > 2글자 이상에 대해서도 집계 가능\n",
    "\n",
    "text.count(\"to\")"
   ]
  },
  {
   "cell_type": "code",
   "execution_count": 45,
   "id": "cc1b4bac",
   "metadata": {},
   "outputs": [
    {
     "data": {
      "text/plain": [
       "3"
      ]
     },
     "execution_count": 45,
     "metadata": {},
     "output_type": "execute_result"
    }
   ],
   "source": [
    "# .find('ch') : 특정 문자의 인덱스 번호를 반환\n",
    "\n",
    "# text 문자열에서의 a의 인덱스 반환\n",
    "text.find('a')"
   ]
  },
  {
   "cell_type": "code",
   "execution_count": 46,
   "id": "e4711ec8",
   "metadata": {},
   "outputs": [
    {
     "data": {
      "text/plain": [
       "4"
      ]
     },
     "execution_count": 46,
     "metadata": {},
     "output_type": "execute_result"
    }
   ],
   "source": [
    "# .find() > 같은 것이 있을 때, 가장 앞번호부터 적용, 한 개라도 찾을 시 반환 \n",
    "# .find(\"str\", starting index) > index 0이 아닌 이후 index를 starting point로 지정 가능\n",
    "\n",
    "text.find('to', 1)"
   ]
  },
  {
   "cell_type": "code",
   "execution_count": 47,
   "id": "101b303e",
   "metadata": {},
   "outputs": [
    {
     "name": "stdout",
     "output_type": "stream",
     "text": [
      "TOMATO JUICE\n",
      "tomato juice\n"
     ]
    }
   ],
   "source": [
    "# string.upper() > string의 소문자를 대문자로 변환\n",
    "# 변경된 결과를 함수 내에서 연산해서 보여줌(원본 변화 X)\n",
    "\n",
    "print(text.upper())\n",
    "print(text)"
   ]
  },
  {
   "cell_type": "code",
   "execution_count": 48,
   "id": "14a94d4d",
   "metadata": {},
   "outputs": [
    {
     "name": "stdout",
     "output_type": "stream",
     "text": [
      "TOMATO JUICE\n",
      "tomato juice\n"
     ]
    }
   ],
   "source": [
    "# string.lower() > string의 대문자를 소문자로 변환\n",
    "# string.upper()와 같이 원본 변화 없음\n",
    "\n",
    "text2 = text.upper()\n",
    "print(text2)\n",
    "print(text2.lower())"
   ]
  },
  {
   "cell_type": "code",
   "execution_count": 49,
   "id": "0c362e59",
   "metadata": {},
   "outputs": [
    {
     "name": "stdout",
     "output_type": "stream",
     "text": [
      "123          123          \n",
      "          123          123          \n"
     ]
    }
   ],
   "source": [
    "# string.lstrip() > stirng의 왼쪽에 있는 공백 전부 제거\n",
    "# 함수 연산의 결과만 보여줌 (원본 item에 반영X)\n",
    "\n",
    "text = '          123          123          '   \n",
    "print(text.lstrip())\n",
    "print(text)"
   ]
  },
  {
   "cell_type": "code",
   "execution_count": 50,
   "id": "e3218a29",
   "metadata": {},
   "outputs": [
    {
     "name": "stdout",
     "output_type": "stream",
     "text": [
      "          123          123\n",
      "          123          123          \n"
     ]
    }
   ],
   "source": [
    "# string.rstrip() > string의 오른쪽에 있는 공백 전부 제거\n",
    "\n",
    "print(text.rstrip())\n",
    "print(text)"
   ]
  },
  {
   "cell_type": "code",
   "execution_count": 51,
   "id": "8156ca42",
   "metadata": {},
   "outputs": [
    {
     "name": "stdout",
     "output_type": "stream",
     "text": [
      "123          123\n",
      "          123          123          \n"
     ]
    }
   ],
   "source": [
    "# string.strip() > string의 양쪽에 있는 공백 전부 제거\n",
    "\n",
    "print(text.strip())\n",
    "print(text)"
   ]
  },
  {
   "cell_type": "code",
   "execution_count": 52,
   "id": "8835bed2",
   "metadata": {
    "scrolled": true
   },
   "outputs": [
    {
     "name": "stdout",
     "output_type": "stream",
     "text": [
      "          456          456          \n",
      "          123          123          \n"
     ]
    }
   ],
   "source": [
    "# string.replace(\"old\", \"new\") > 찾아바꾸기, string 내에서 \"old\"에 해당하는 문자열을 찾아 \"new\"로 전부 다 교체\n",
    "# 공백 찾아 없애기에 쓸 수 있음\n",
    "# 원본 변화 X\n",
    "\n",
    "print(text.replace('123','456'))\n",
    "print(text)"
   ]
  },
  {
   "cell_type": "code",
   "execution_count": 53,
   "id": "fb5d2f8c",
   "metadata": {},
   "outputs": [
    {
     "data": {
      "text/plain": [
       "'123123'"
      ]
     },
     "execution_count": 53,
     "metadata": {},
     "output_type": "execute_result"
    }
   ],
   "source": [
    "# 가운데 공백을 줄일 수 있다\n",
    "text.replace(\" \",\"\")\n",
    "\n",
    "# null string =\"\" 따옴표 사이 띄어쓰기 없는 string"
   ]
  },
  {
   "cell_type": "code",
   "execution_count": 54,
   "id": "da4680e0",
   "metadata": {},
   "outputs": [
    {
     "data": {
      "text/plain": [
       "['a ', ' c']"
      ]
     },
     "execution_count": 54,
     "metadata": {},
     "output_type": "execute_result"
    }
   ],
   "source": [
    "# string.split(\"item\") > 기준 string \"item\" 기준으로 쪼갠 문자열 list 반환\n",
    "\n",
    "text2 = 'a b c'\n",
    "text2.split('b')"
   ]
  },
  {
   "cell_type": "code",
   "execution_count": 55,
   "id": "34af6ab5",
   "metadata": {},
   "outputs": [
    {
     "data": {
      "text/plain": [
       "['a', 'b', 'c']"
      ]
     },
     "execution_count": 55,
     "metadata": {},
     "output_type": "execute_result"
    }
   ],
   "source": [
    "# 기준 입력하지 않으면 >  ' ', \\n, \\t 등(white space)을 기준으로 쪼갬\n",
    "\n",
    "text2.split()"
   ]
  },
  {
   "cell_type": "code",
   "execution_count": 56,
   "id": "e7bc38f0",
   "metadata": {},
   "outputs": [
    {
     "name": "stdout",
     "output_type": "stream",
     "text": [
      "['a,b,c,', 's']\n"
     ]
    }
   ],
   "source": [
    "# 두 character 이상(== string) > 기준 string \"item\"에 대입 가능\n",
    "\n",
    "text3 = 'a,b,c,ddes'\n",
    "print(text3.split(\"dde\"))"
   ]
  },
  {
   "cell_type": "code",
   "execution_count": 57,
   "id": "0101890e",
   "metadata": {
    "scrolled": true
   },
   "outputs": [
    {
     "data": {
      "text/plain": [
       "'a,b,c'"
      ]
     },
     "execution_count": 57,
     "metadata": {},
     "output_type": "execute_result"
    }
   ],
   "source": [
    "# item.join(string) > string \"item\"을 원본 string \"string\"의 인덱스 사이사이에 입력\n",
    "\n",
    "text = 'abc'\n",
    "\",\".join(text)"
   ]
  },
  {
   "cell_type": "code",
   "execution_count": 58,
   "id": "1f5345ff",
   "metadata": {},
   "outputs": [
    {
     "data": {
      "text/plain": [
       "26"
      ]
     },
     "execution_count": 58,
     "metadata": {},
     "output_type": "execute_result"
    }
   ],
   "source": [
    "# string의 길이 구하기 > len(string)\n",
    "\n",
    "x = 'abcdefghijklmnopqrstuvwxyz'\n",
    "len(x)"
   ]
  },
  {
   "cell_type": "code",
   "execution_count": 59,
   "id": "8ea50201",
   "metadata": {},
   "outputs": [
    {
     "data": {
      "text/plain": [
       "25"
      ]
     },
     "execution_count": 59,
     "metadata": {},
     "output_type": "execute_result"
    }
   ],
   "source": [
    "# index 0부터 시작 > 마지막 인덱스 번호 == 길이 -1\n",
    "\n",
    "len(x) - 1"
   ]
  },
  {
   "cell_type": "code",
   "execution_count": 60,
   "id": "143bcf2f",
   "metadata": {},
   "outputs": [
    {
     "data": {
      "text/plain": [
       "'z'"
      ]
     },
     "execution_count": 60,
     "metadata": {},
     "output_type": "execute_result"
    }
   ],
   "source": [
    "# stirng의 마지막 character를 len(string)을 활용한 인덱싱으로 출력 > string[len(string) - 1]\n",
    "\n",
    "x[len(x) - 1]"
   ]
  }
 ],
 "metadata": {
  "kernelspec": {
   "display_name": "Python 3 (ipykernel)",
   "language": "python",
   "name": "python3"
  },
  "language_info": {
   "codemirror_mode": {
    "name": "ipython",
    "version": 3
   },
   "file_extension": ".py",
   "mimetype": "text/x-python",
   "name": "python",
   "nbconvert_exporter": "python",
   "pygments_lexer": "ipython3",
   "version": "3.9.12"
  }
 },
 "nbformat": 4,
 "nbformat_minor": 5
}
