{
 "cells": [
  {
   "cell_type": "markdown",
   "id": "53f06185",
   "metadata": {},
   "source": [
    "### Python default encoding == utf-8 ?"
   ]
  },
  {
   "cell_type": "code",
   "execution_count": 145,
   "id": "8c007a3f",
   "metadata": {},
   "outputs": [
    {
     "name": "stdout",
     "output_type": "stream",
     "text": [
      "utf-8\n"
     ]
    }
   ],
   "source": [
    "import sys\n",
    "\n",
    "print(sys.getdefaultencoding())"
   ]
  },
  {
   "cell_type": "markdown",
   "id": "3d0e4bcb",
   "metadata": {},
   "source": [
    "- Python default encoding == \"utf-8\""
   ]
  },
  {
   "cell_type": "code",
   "execution_count": 117,
   "id": "30aa0019",
   "metadata": {},
   "outputs": [
    {
     "name": "stdout",
     "output_type": "stream",
     "text": [
      "2156465734000 2156465734000\n",
      "2156465734000 2156465734000\n",
      "2156465734000 2156465734000\n"
     ]
    }
   ],
   "source": [
    "en_py = \"Python\"\n",
    "\n",
    "print(id(en_py), id(\"Python\"))\n",
    "print(id(\"Python\"), id(\"Python\"))\n",
    "print(id(\"Python\"), id(en_py))\n",
    "# 어느 줄에서 어떻게 선언하든 \"Python\"의 id는 같다"
   ]
  },
  {
   "cell_type": "code",
   "execution_count": 118,
   "id": "0abea4a4",
   "metadata": {},
   "outputs": [
    {
     "name": "stdout",
     "output_type": "stream",
     "text": [
      "2156582117904 2156581963600\n",
      "2156581976656 2156581976656\n",
      "2156581977136 2156582117904\n"
     ]
    }
   ],
   "source": [
    "kr_py = \"파이썬\"\n",
    "\n",
    "print(id(kr_py), id(\"파이썬\"))\n",
    "print(id(\"파이썬\"), id(\"파이썬\"))\n",
    "print(id(\"파이썬\"), id(kr_py))\n",
    "# 변수에 넣은 \"파이썬\", 같은 줄에서 선언된 \"파이썬\"만 id가 같다"
   ]
  },
  {
   "cell_type": "code",
   "execution_count": 136,
   "id": "35851942",
   "metadata": {},
   "outputs": [
    {
     "name": "stdout",
     "output_type": "stream",
     "text": [
      "b'Python' <class 'bytes'>\n",
      "{'encoding': 'ascii', 'confidence': 1.0, 'language': ''} <class 'dict'>\n",
      "b'\\xed\\x8c\\x8c\\xec\\x9d\\xb4\\xec\\x8d\\xac' <class 'bytes'>\n",
      "{'encoding': 'utf-8', 'confidence': 0.87625, 'language': ''}\n"
     ]
    }
   ],
   "source": [
    "# encoding type check library\n",
    "import chardet\n",
    "\n",
    "encoded_en_py = en_py.encode()\n",
    "print(encoded_en_py, type(encoded_en_py))\n",
    "\n",
    "en_detect = chardet.detect(encoded_en_py)\n",
    "print(en_detect, type(en_detect))\n",
    "\n",
    "encoded_kr_py = kr_py.encode()\n",
    "print(encoded_kr_py, type(encoded_kr_py))\n",
    "\n",
    "kr_detect = chardet.detect(encoded_kr_py)\n",
    "print(kr_detect)"
   ]
  },
  {
   "cell_type": "markdown",
   "id": "d0863c56",
   "metadata": {},
   "source": [
    "[Python documentation: class str](https://docs.python.org/3/library/stdtypes.html#str)   \n",
    "\n",
    "[Python documentation: str.encode() method](https://docs.python.org/3/library/stdtypes.html?highlight=encode#str.encode) ` \n",
    "\\> Python doucmentation에서 str type의 기본 encoding은 \"utf-8\"이라고 명시 돼 있으나,   \n",
    "실제 확인 해 본 결과\n",
    "- 영어 string 인코딩 == 'ascii'\n",
    "- 한글 string 인코딩 == 'utf-8'"
   ]
  },
  {
   "cell_type": "markdown",
   "id": "bc3c99e1",
   "metadata": {},
   "source": [
    "- [codecs.open() method documentation](https://docs.python.org/3/library/codecs.html?highlight=codecs%20open#codecs.open)"
   ]
  },
  {
   "cell_type": "code",
   "execution_count": 146,
   "id": "bbe731a7",
   "metadata": {},
   "outputs": [],
   "source": [
    "# codecs library를 활용한 file IO\n",
    "import codecs\n",
    "\n",
    "f_write = codecs.open(\"C:/Users/EthanJ/develop/PLAYDATA/Python_basic/encoding_test.csv\", \"w\", \"utf-8\")\n",
    "# \"utf-8\" 인코딩으로 파일 입력\n",
    "\n",
    "f_write.write(en_py)\n",
    "f_write.write(',')\n",
    "f_write.write(kr_py)\n",
    "\n",
    "f_write.close()                                        "
   ]
  },
  {
   "cell_type": "code",
   "execution_count": 147,
   "id": "b08ec4e9",
   "metadata": {},
   "outputs": [
    {
     "ename": "UnicodeDecodeError",
     "evalue": "'cp949' codec can't decode byte 0xed in position 7: illegal multibyte sequence",
     "output_type": "error",
     "traceback": [
      "\u001b[1;31m---------------------------------------------------------------------------\u001b[0m",
      "\u001b[1;31mUnicodeDecodeError\u001b[0m                        Traceback (most recent call last)",
      "Input \u001b[1;32mIn [147]\u001b[0m, in \u001b[0;36m<cell line: 3>\u001b[1;34m()\u001b[0m\n\u001b[0;32m      1\u001b[0m f_read \u001b[38;5;241m=\u001b[39m codecs\u001b[38;5;241m.\u001b[39mopen(\u001b[38;5;124m\"\u001b[39m\u001b[38;5;124mC:/Users/EthanJ/develop/PLAYDATA/Python_basic/encoding_test.csv\u001b[39m\u001b[38;5;124m\"\u001b[39m, \u001b[38;5;124m\"\u001b[39m\u001b[38;5;124mr\u001b[39m\u001b[38;5;124m\"\u001b[39m)\n\u001b[1;32m----> 3\u001b[0m \u001b[38;5;28mprint\u001b[39m(\u001b[43mf_read\u001b[49m\u001b[38;5;241;43m.\u001b[39;49m\u001b[43mread\u001b[49m\u001b[43m(\u001b[49m\u001b[43m)\u001b[49m)\n\u001b[0;32m      5\u001b[0m f_read\u001b[38;5;241m.\u001b[39mclose()\n",
      "\u001b[1;31mUnicodeDecodeError\u001b[0m: 'cp949' codec can't decode byte 0xed in position 7: illegal multibyte sequence"
     ]
    }
   ],
   "source": [
    "f_read = codecs.open(\"C:/Users/EthanJ/develop/PLAYDATA/Python_basic/encoding_test.csv\", \"r\")\n",
    "\n",
    "print(f_read.read()) # UnicodeDecodeError\n",
    "\n",
    "f_read.close()"
   ]
  },
  {
   "cell_type": "code",
   "execution_count": null,
   "id": "a9da88cb",
   "metadata": {},
   "outputs": [],
   "source": [
    "---------------------------------------------------------------------------\n",
    "UnicodeDecodeError                        Traceback (most recent call last)\n",
    "Input In [139], in <cell line: 3>()\n",
    "      1 f_read = codecs.open(\"C:/Users/EthanJ/develop/PLAYDATA/Python_basic/encoding_test.csv\", \"r\")\n",
    "----> 3 print(f_read.read())\n",
    "      5 f_read.close()\n",
    "\n",
    "UnicodeDecodeError: 'cp949' codec can't decode byte 0xed in position 7: illegal multibyte sequence"
   ]
  },
  {
   "cell_type": "markdown",
   "id": "f73dc59c",
   "metadata": {},
   "source": [
    "- `codecs.open(\"file path\", \"w\", encoding=\"utf-8\")` > utf-8 인코딩으로 입력 > 이상 없음\n",
    "- `codecs.open(\"file path\", \"r\"(, encoding=None))` > Python 자체 인코딩으로 읽기 > UnicodeDecodeError: `cp949` codecs decoding중 Error 발생 > specific encoding 지정하지 않을 시 > cp949 encoding으로 파일 인식"
   ]
  },
  {
   "cell_type": "code",
   "execution_count": 149,
   "id": "33fd86ae",
   "metadata": {
    "scrolled": true
   },
   "outputs": [
    {
     "name": "stdout",
     "output_type": "stream",
     "text": [
      "Python,파이썬\n"
     ]
    }
   ],
   "source": [
    "# codecs.open() method의 parameter로 StreamWriterReader의 encoding을 지정(utf-8)\n",
    "f_read = codecs.open(\"C:/Users/EthanJ/develop/PLAYDATA/Python_basic/encoding_test.csv\", \"r\", encoding=\"utf-8\")\n",
    "\n",
    "print(f_read.read())\n",
    "# encoding 지정 후 실행 가능\n",
    "\n",
    "f_read.close()   "
   ]
  },
  {
   "cell_type": "code",
   "execution_count": null,
   "id": "815b5344",
   "metadata": {},
   "outputs": [],
   "source": []
  }
 ],
 "metadata": {
  "kernelspec": {
   "display_name": "Python 3 (ipykernel)",
   "language": "python",
   "name": "python3"
  },
  "language_info": {
   "codemirror_mode": {
    "name": "ipython",
    "version": 3
   },
   "file_extension": ".py",
   "mimetype": "text/x-python",
   "name": "python",
   "nbconvert_exporter": "python",
   "pygments_lexer": "ipython3",
   "version": "3.9.12"
  }
 },
 "nbformat": 4,
 "nbformat_minor": 5
}
