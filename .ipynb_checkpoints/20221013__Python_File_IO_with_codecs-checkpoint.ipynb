{
 "cells": [
  {
   "cell_type": "markdown",
   "id": "7e41dcab",
   "metadata": {},
   "source": [
    "# Python File IO with codecs\n",
    "# codecs 라이브러리를 활용한 파이썬 파일 입출력"
   ]
  },
  {
   "cell_type": "markdown",
   "id": "fd6ac4ef",
   "metadata": {},
   "source": [
    "## codecs 라이브러리\n",
    "\n",
    "-   Python ver.3.5. > 내장 라이브러리로 바뀜(예전에는 pip로 설치해야 했었음)\n",
    "\n",
    "-   파이썬으로 텍스트파일을 제어할 수 있도록(읽어오기, 쓰기) 도와줌\n",
    "\n",
    "-   콘솔창에 출력된 내용을 txt파일로 옮겨서 출력할 때 사용\n",
    "\n",
    "-   특이사항\n",
    "    -   ~~개행은 \"\\\\r\\\\n\"으로 처리함~~ 현재는 \"\\\\n\"으로 개행 처리 가능\n",
    "    -   mode\n",
    "        -   w: 기존에 있던 자료 없에고 새 파일 입력\n",
    "        -   a: 기존에 있던 자료에 이어서 계속 입력\n",
    "        -   r: 기존 파일에 있던 내용 읽어오기"
   ]
  },
  {
   "cell_type": "code",
   "execution_count": 21,
   "id": "3ca034b8",
   "metadata": {},
   "outputs": [],
   "source": [
    "# codecs library import\n",
    "\n",
    "import codecs"
   ]
  },
  {
   "cell_type": "markdown",
   "id": "a5f5bb15",
   "metadata": {},
   "source": [
    "### mode=\"w\""
   ]
  },
  {
   "cell_type": "code",
   "execution_count": 22,
   "id": "53c6de36",
   "metadata": {},
   "outputs": [],
   "source": [
    "# codecs.open() return값 > txt file 그 자체처럼 사용함\n",
    "# codecs.open(\"txt file 절대경로\" > 없으면 file 생성, (mode=\"mode\"), (encoding=\"인코딩 방식\",))\n",
    "# mode option default == r\n",
    "# encoding option default == utf-8\n",
    "\n",
    "# 경로의 '\\' > '/'로 replace 필수\n",
    "f = codecs.open(\"C:/Users/EthanJ/develop/PLAYDATA/Python_basic/File_IO/txt_file_test.txt\", mode=\"w\")\n",
    "\n",
    "# type(f) == <class '_io.TextIOWrapper'>\n",
    "\n",
    "# .write(\"things to write\") > txt file 내부에 작성\n",
    "# \"Hello world[n]\" 10번 작성\n",
    "\n",
    "for i in range(10):\n",
    "    f.write(\"Hello world[%s]\\n\" %(i+1))\n",
    "\n",
    "# .close() 종료 필수 > 미종료시 temp 처리됨 > txt file 변경사항 적용 안됨\n",
    "f.close()"
   ]
  },
  {
   "cell_type": "markdown",
   "id": "0e9efecb",
   "metadata": {},
   "source": [
    "> txt_file_text.txt"
   ]
  },
  {
   "cell_type": "markdown",
   "id": "e6d6766d",
   "metadata": {},
   "source": [
    "### mode=\"r\""
   ]
  },
  {
   "cell_type": "code",
   "execution_count": 23,
   "id": "8dec4da6",
   "metadata": {},
   "outputs": [
    {
     "name": "stdout",
     "output_type": "stream",
     "text": [
      "<class 'str'>\n",
      "Hello world[1]\n",
      "\n",
      "Hello world[2]\n",
      "\n",
      "<class 'str'> 15\n",
      "<class 'str'> 15\n",
      "<class 'str'> 15\n",
      "<class 'str'> 15\n",
      "<class 'str'> 15\n",
      "<class 'str'> 15\n",
      "<class 'str'> 15\n",
      "<class 'str'> 16\n",
      "<class 'str'> 0\n",
      "<class 'str'> 0\n",
      "<class 'str'> 0\n",
      "<class 'str'> 0\n",
      "<class 'str'> 0\n",
      "<class 'str'> 0\n",
      "<class 'str'> 0\n"
     ]
    }
   ],
   "source": [
    "# 기존 text file 읽기 > mode=\"r\"\n",
    "f = codecs.open(\"C:/Users/EthanJ/develop/PLAYDATA/Python_basic/File_IO/txt_file_test.txt\", mode=\"r\")\n",
    "\n",
    "# .readline() > 한 줄만 읽기 > io stream header 한 줄 아래로 이동\n",
    "read_line1 = f.readline()\n",
    "read_line2 = f.readline()\n",
    "\n",
    "# return type == str\n",
    "print(type(read_line1))\n",
    "\n",
    "print(read_line1)\n",
    "print(read_line2)\n",
    "\n",
    "# .readline() > file text line수보다 많이 실행하면 >\n",
    "# > 이미 io stream header가 EOF로 이동 > empty string return\n",
    "for line in range(15):\n",
    "    my_line = f.readline()\n",
    "    print(type(my_line), len(my_line))\n",
    "\n",
    "f.close()"
   ]
  },
  {
   "cell_type": "code",
   "execution_count": 24,
   "id": "a83e7afd",
   "metadata": {},
   "outputs": [
    {
     "name": "stdout",
     "output_type": "stream",
     "text": [
      "<class 'list'>\n",
      "<class 'str'>\n",
      "['Hello world[1]\\n', 'Hello world[2]\\n', 'Hello world[3]\\n', 'Hello world[4]\\n', 'Hello world[5]\\n', 'Hello world[6]\\n', 'Hello world[7]\\n', 'Hello world[8]\\n', 'Hello world[9]\\n', 'Hello world[10]\\n']\n",
      "[]\n"
     ]
    }
   ],
   "source": [
    "f = codecs.open(\"C:/Users/EthanJ/develop/PLAYDATA/Python_basic/File_IO/txt_file_test.txt\", mode=\"r\")\n",
    "\n",
    "# .readlines() > 줄 단위, 각 줄을 string item으로 가진 list type으로 전부 읽어오기 > EOF로 io stream header 이동\n",
    "read_lines = f.readlines()\n",
    "\n",
    "print(type(read_lines)) # == list\n",
    "print(type(read_lines[0])) # == str\n",
    "\n",
    "print(read_lines)\n",
    "\n",
    "# 한 번 실행 시 io stream header가 EOF로 이동 > 두 번 이상 실행시 이미 EOF에 위치 > empty list return\n",
    "print(f.readlines())\n",
    "\n",
    "f.close()"
   ]
  },
  {
   "cell_type": "code",
   "execution_count": 25,
   "id": "0e3c88cb",
   "metadata": {},
   "outputs": [
    {
     "name": "stdout",
     "output_type": "stream",
     "text": [
      "Hello world[1]\n",
      "Hello world[2]\n",
      "Hello world[3]\n",
      "Hello world[4]\n",
      "Hello world[5]\n",
      "Hello world[6]\n",
      "Hello world[7]\n",
      "Hello world[8]\n",
      "Hello world[9]\n",
      "Hello world[10]\n",
      "\n",
      "<class 'str'>\n",
      "\n"
     ]
    }
   ],
   "source": [
    "f = codecs.open(\"C:/Users/EthanJ/develop/PLAYDATA/Python_basic/File_IO/txt_file_test.txt\", mode=\"r\")\n",
    "\n",
    "# .read() > txt file 전체 문자열을 단일 string으로 읽어오기 > io stream header가 EOF로 이동\n",
    "f_read = f.read()\n",
    "\n",
    "print(f_read)\n",
    "print(type(f_read))\n",
    "\n",
    "# 한 번 실행 시 io stream header가 EOF로 이동 > 두 번 이상 실행시 이미 EOF에 위치 > empty str return\n",
    "print(f.read())\n",
    "\n",
    "\n",
    "f.close()"
   ]
  },
  {
   "cell_type": "markdown",
   "id": "cb88b785",
   "metadata": {},
   "source": [
    "- - -\n",
    "\n",
    "## csv 파일 다루기\n",
    "data를 ,(comma)로 구분 된 형태의 파일 > excel 형식으로 읽기 가능!\n",
    "\n",
    "<br>\n",
    "\n",
    "### \\> txt파일 csv로 변환"
   ]
  },
  {
   "cell_type": "code",
   "execution_count": 26,
   "id": "577d1ba4",
   "metadata": {},
   "outputs": [],
   "source": [
    "# 저장된 result.txt 읽어오기\n",
    "r = codecs.open(\"C:/Users/EthanJ/develop/PLAYDATA/Python_basic/File_IO/result.txt\", mode=\"r\")\n",
    "\n",
    "# txt > csv로 변환 > \"utf-8\" endcoding은 excel 실행 시 한글 깨짐 > \"utf-8-sig\" encoding 사용\n",
    "w = codecs.open(\"C:/Users/EthanJ/develop/PLAYDATA/Python_basic/File_IO/result_csv.csv\", encoding=\"utf-8-sig\", mode=\"w\")\n",
    "\n",
    "w.write(r.read())\n",
    "\n",
    "r.close()\n",
    "w.close()"
   ]
  },
  {
   "cell_type": "markdown",
   "id": "c246e897",
   "metadata": {},
   "source": [
    "> result_csv.csv"
   ]
  },
  {
   "cell_type": "markdown",
   "id": "6e7f95c4",
   "metadata": {},
   "source": [
    "### \\> csv파일 작성"
   ]
  },
  {
   "cell_type": "code",
   "execution_count": 27,
   "id": "9d99a137",
   "metadata": {},
   "outputs": [],
   "source": [
    "w = codecs.open(\"C:/Users/EthanJ/develop/PLAYDATA/Python_basic/File_IO/person_csv.csv\", 'w', \"utf-8-sig\")\n",
    "\n",
    "w.write(\"순번, 이름, 성별, 나이\\n\")\n",
    "\n",
    "n_list = [1, 2, 3, 4]\n",
    "str_name = [\"김가람\", \"이나람\",\"박다람\", \"최라람\"]\n",
    "sex_m_f = [\"M\", \"F\", \"F\", \"M\"]\n",
    "n_age = [\"24\", \"23\", \"35\", \"21\"]\n",
    "\n",
    "for i in range(4):\n",
    "    this_line = \"%s,%s,%s,%s\\n\" %(n_list[i], str_name[i], sex_m_f[i], n_age[i])\n",
    "    w.write(this_line)\n",
    "\n",
    "w.close()"
   ]
  },
  {
   "cell_type": "markdown",
   "id": "3788f123",
   "metadata": {},
   "source": [
    "> person_csv.csv"
   ]
  },
  {
   "cell_type": "code",
   "execution_count": null,
   "id": "dc2cde07",
   "metadata": {},
   "outputs": [],
   "source": []
  },
  {
   "cell_type": "code",
   "execution_count": null,
   "id": "1b82fa73",
   "metadata": {},
   "outputs": [],
   "source": []
  }
 ],
 "metadata": {
  "kernelspec": {
   "display_name": "Python 3 (ipykernel)",
   "language": "python",
   "name": "python3"
  },
  "language_info": {
   "codemirror_mode": {
    "name": "ipython",
    "version": 3
   },
   "file_extension": ".py",
   "mimetype": "text/x-python",
   "name": "python",
   "nbconvert_exporter": "python",
   "pygments_lexer": "ipython3",
   "version": "3.9.12"
  }
 },
 "nbformat": 4,
 "nbformat_minor": 5
}
