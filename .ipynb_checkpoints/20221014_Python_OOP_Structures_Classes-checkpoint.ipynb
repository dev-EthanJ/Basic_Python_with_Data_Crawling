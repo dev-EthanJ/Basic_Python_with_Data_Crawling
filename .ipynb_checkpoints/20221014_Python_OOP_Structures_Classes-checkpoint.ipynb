{
 "cells": [
  {
   "cell_type": "markdown",
   "id": "d24c6593",
   "metadata": {},
   "source": [
    "# Python OOP with Structures and Classes\n",
    "# 파이썬 객체 지향 프로그래밍 with 구조체와 클래스"
   ]
  },
  {
   "cell_type": "markdown",
   "id": "45e04eb7",
   "metadata": {},
   "source": [
    "## 1. 구조체\n",
    "\n",
    "- 클래스: C언어의 구조체에서 확장된 개념 > 클래스 이전에 구조체 학습\n",
    "\n",
    "- 구조체: 배열과 달리 인덱스가 아닌 \"변수명\"으로 object를 사용"
   ]
  },
  {
   "cell_type": "markdown",
   "id": "ebed0eff",
   "metadata": {},
   "source": [
    "### 1.1. 추상화 (abstraction)\n",
    "\n",
    "- 추상화란? 대상의 모든 요소 중에서    \n",
    "일부 관점(기준)으로 바라본 요소를 추출해서 표현하는 것\n",
    "\n",
    "- 예를 들어, 사람을 프로그래밍적 관점에서 표현하면, 인간의 모든 구성 중에서   \n",
    "숫자로 표현 가능한 것, bool type으로 표현할 수 있는 것 등으로 추려서 표현하는 것\n",
    "\n",
    "- 추상화(abstraction)를 통해 programming 개발에 사용 가능!"
   ]
  },
  {
   "cell_type": "markdown",
   "id": "43987f4e",
   "metadata": {},
   "source": [
    "- 추상화 예시\n",
    "\n",
    "1. 고양이의 요소(item): 털 색, 무게, 품종, 나이, 선호 간식, 집 주소, 성별, 점프력, 울음소리 등\n",
    "\n",
    "2. 동물병원에 등록할 때 > 주인, 이름, 나이, 품종만 골라서 정의 가능\n",
    "\n",
    "> 개발시, 개발자가 고려할 수 있는(혹은 기능이 요구하는 최소한의) 사항만을 프로그래밍"
   ]
  },
  {
   "cell_type": "markdown",
   "id": "a590cafd",
   "metadata": {},
   "source": [
    "### 1.2. 구조체 구현 문법"
   ]
  },
  {
   "cell_type": "code",
   "execution_count": 2,
   "id": "ea019fb7",
   "metadata": {},
   "outputs": [],
   "source": [
    "# 클래스(를 구조체로 사용한) 구현 문법\n",
    "# class: 설계도 처럼 작용 > 실제 객체(object) 생성 전까지 class 선언 자체로는 기능하지 않는다\n",
    "class Cat:\n",
    "    name = \"\"\n",
    "    age = 0\n",
    "    cat_type = \"\"\n",
    "    owner = \"\""
   ]
  },
  {
   "cell_type": "code",
   "execution_count": 3,
   "id": "0453371f",
   "metadata": {},
   "outputs": [
    {
     "name": "stdout",
     "output_type": "stream",
     "text": [
      "<__main__.Cat object at 0x000001F61C2ACC40>\n",
      "<class '__main__.Cat'>\n"
     ]
    }
   ],
   "source": [
    "# 실제로는 class object 생성을 해줘야 기능한다\n",
    "# 클래스 생성자를 통해 받은 return값 == 객체(objet) == 인스턴스(instance)\n",
    "cat1 = Cat()\n",
    "\n",
    "print(cat1)\n",
    "print(Cat)"
   ]
  },
  {
   "cell_type": "code",
   "execution_count": 4,
   "id": "b54fd3eb",
   "metadata": {
    "scrolled": true
   },
   "outputs": [
    {
     "name": "stdout",
     "output_type": "stream",
     "text": [
      "룰루\n",
      "2\n",
      "스코티시 폴드\n",
      "이미영\n"
     ]
    }
   ],
   "source": [
    "cat1.name = \"룰루\"\n",
    "cat1.age = 2\n",
    "cat1.cat_type = \"스코티시 폴드\"\n",
    "cat1.owner = \"이미영\"\n",
    "\n",
    "print(cat1.name)\n",
    "print(cat1.age)\n",
    "print(cat1.cat_type)\n",
    "print(cat1.owner)"
   ]
  },
  {
   "cell_type": "code",
   "execution_count": 6,
   "id": "ce73b957",
   "metadata": {},
   "outputs": [
    {
     "name": "stdout",
     "output_type": "stream",
     "text": [
      "이름 : 룰루, 나이 : 2, 품종 : 스코티시 폴드, 주인 : 이미영\n"
     ]
    }
   ],
   "source": [
    "print(\"이름 : %s, 나이 : %s, 품종 : %s, 주인 : %s\" %\n",
    "      (cat1.name, cat1.age, cat1.cat_type, cat1.owner))"
   ]
  },
  {
   "cell_type": "markdown",
   "id": "0b15f98c",
   "metadata": {},
   "source": [
    "### 1.3. 구조체의 요소에 대한 함수\n",
    "\n",
    "-  class Cat instance에 대한 정보를 하나하나 print()로 조회해야 해서 불편   \n",
    "\\> class Cat이 사용할 수 있는 fuction 사용하면 같은 기능을 함수 단위로 사용 가능"
   ]
  },
  {
   "cell_type": "code",
   "execution_count": 10,
   "id": "650887e1",
   "metadata": {},
   "outputs": [],
   "source": [
    "# class Cat instance가 사용할 수 있는 function\n",
    "def show_cat_info(cat):\n",
    "    print(\"이름 : %s, 나이 : %s, 품종 : %s, 주인 : %s\" %\n",
    "      (cat.name, cat.age, cat.cat_type, cat.owner))"
   ]
  },
  {
   "cell_type": "code",
   "execution_count": 11,
   "id": "61f2ce74",
   "metadata": {},
   "outputs": [],
   "source": [
    "# class Cat instance가 사용할 수 있는지 비교 > class Dog instance 선언\n",
    "class Dog:\n",
    "    name = \"\"\n",
    "    age = 0\n",
    "    dog_type =  \"\"\n",
    "    address = \"\"\n",
    "    \n",
    "dog1 = Dog()\n",
    "dog1.name = \"구슬이\"\n",
    "dog1.age = 6\n",
    "dog1.dog_type = \"시고르자브종\"\n",
    "dog1.address = \"별내별가람\""
   ]
  },
  {
   "cell_type": "code",
   "execution_count": 19,
   "id": "6dfd7c4f",
   "metadata": {
    "scrolled": true
   },
   "outputs": [
    {
     "name": "stdout",
     "output_type": "stream",
     "text": [
      "이름 : 룰루, 나이 : 2, 품종 : 스코티시 폴드, 주인 : 이미영\n"
     ]
    },
    {
     "ename": "AttributeError",
     "evalue": "'Dog' object has no attribute 'cat_type'",
     "output_type": "error",
     "traceback": [
      "\u001b[1;31m---------------------------------------------------------------------------\u001b[0m",
      "\u001b[1;31mAttributeError\u001b[0m                            Traceback (most recent call last)",
      "Input \u001b[1;32mIn [19]\u001b[0m, in \u001b[0;36m<cell line: 2>\u001b[1;34m()\u001b[0m\n\u001b[0;32m      1\u001b[0m show_cat_info(cat1)\n\u001b[1;32m----> 2\u001b[0m \u001b[43mshow_cat_info\u001b[49m\u001b[43m(\u001b[49m\u001b[43mdog1\u001b[49m\u001b[43m)\u001b[49m\n",
      "Input \u001b[1;32mIn [10]\u001b[0m, in \u001b[0;36mshow_cat_info\u001b[1;34m(cat)\u001b[0m\n\u001b[0;32m      2\u001b[0m \u001b[38;5;28;01mdef\u001b[39;00m \u001b[38;5;21mshow_cat_info\u001b[39m(cat):\n\u001b[0;32m      3\u001b[0m     \u001b[38;5;28mprint\u001b[39m(\u001b[38;5;124m\"\u001b[39m\u001b[38;5;124m이름 : \u001b[39m\u001b[38;5;132;01m%s\u001b[39;00m\u001b[38;5;124m, 나이 : \u001b[39m\u001b[38;5;132;01m%s\u001b[39;00m\u001b[38;5;124m, 품종 : \u001b[39m\u001b[38;5;132;01m%s\u001b[39;00m\u001b[38;5;124m, 주인 : \u001b[39m\u001b[38;5;132;01m%s\u001b[39;00m\u001b[38;5;124m\"\u001b[39m \u001b[38;5;241m%\u001b[39m\n\u001b[1;32m----> 4\u001b[0m       (cat\u001b[38;5;241m.\u001b[39mname, cat\u001b[38;5;241m.\u001b[39mage, \u001b[43mcat\u001b[49m\u001b[38;5;241;43m.\u001b[39;49m\u001b[43mcat_type\u001b[49m, cat\u001b[38;5;241m.\u001b[39mowner))\n",
      "\u001b[1;31mAttributeError\u001b[0m: 'Dog' object has no attribute 'cat_type'"
     ]
    }
   ],
   "source": [
    "show_cat_info(cat1) # 정상 함수 call\n",
    "show_cat_info(dog1) # AttriuteError"
   ]
  },
  {
   "cell_type": "code",
   "execution_count": null,
   "id": "1a141ff6",
   "metadata": {},
   "outputs": [],
   "source": [
    "이름 : 룰루, 나이 : 2, 품종 : 스코티시 폴드, 주인 : 이미영\n",
    "---------------------------------------------------------------------------\n",
    "AttributeError                            Traceback (most recent call last)\n",
    "Input In [12], in <cell line: 2>()\n",
    "      1 show_cat_info(cat1)\n",
    "----> 2 show_cat_info(dog1)\n",
    "\n",
    "Input In [10], in show_cat_info(cat)\n",
    "      2 def show_cat_info(cat):\n",
    "      3     print(\"이름 : %s, 나이 : %s, 품종 : %s, 주인 : %s\" %\n",
    "----> 4       (cat.name, cat.age, cat.cat_type, cat.owner))\n",
    "\n",
    "AttributeError: 'Dog' object has no attribute 'cat_type'"
   ]
  },
  {
   "cell_type": "markdown",
   "id": "a30f529e",
   "metadata": {},
   "source": [
    "### 1.4. Dynamic variable vs. Static variable\n",
    "\\> Programming language를 variable type으로 나눌 때\n",
    "\n",
    "1. 동적 변수 언어 (Dynamic variable)   \n",
    ": 변수 자료형을 정하지 않아서, 넣고 싶은 자료형을 자유롭게 넣을 수 있음\n",
    "    \n",
    "2. 정적 변수 언어 (Static variable)   \n",
    ": 변수 자료형을 정해서 선언하면, 그 이후로는 선언한 자료형으로만 저장 가능\n",
    "\n",
    "\\> Python은 **동적 변수 언어**에 해당한다"
   ]
  },
  {
   "cell_type": "markdown",
   "id": "7c9c56ea",
   "metadata": {},
   "source": [
    "### 1.5. class외부에서 선언 한 function > class 전용 method로 사용 불가능\n",
    "\n",
    "- 함수 내부에서 obj.(_variable identifier_)을 조회 > 변수명 기준 > 사용 가능 함수인지 check\n",
    "\n",
    "- 같은 variable identifier지만 다른 data type을 가진 object.var   \n",
    "\\> Python은 **Dynamic variable** > 자료형 상관X, 변수명 같아서 함수 사용 가능"
   ]
  },
  {
   "cell_type": "code",
   "execution_count": 17,
   "id": "d353c713",
   "metadata": {
    "scrolled": false
   },
   "outputs": [
    {
     "name": "stdout",
     "output_type": "stream",
     "text": [
      "붕붕이, 4000원, EthanJ\n",
      "My bag, 10000, 1\n"
     ]
    }
   ],
   "source": [
    "class Car:\n",
    "    name = \"붕붕이\"\n",
    "    price = \"4000원\" # Car obj.price data type = str\n",
    "    owner_id = \"EthanJ\" # Car obj.owner_id data type = str\n",
    "    \n",
    "class Bag:\n",
    "    name = \"My bag\" \n",
    "    price = 10000 # Bag obj.price data type = int\n",
    "    owner_id = 1 # Bag obj.owner_id data type = int\n",
    "    \n",
    "my_car = Car()\n",
    "my_bag = Bag()\n",
    "\n",
    "def show_obj_info(obj):\n",
    "    print(\"%s, %s, %s\" %(obj.name, obj.price, obj.owner_id))\n",
    "\n",
    "\n",
    "show_obj_info(my_car)\n",
    "show_obj_info(my_bag)"
   ]
  },
  {
   "cell_type": "markdown",
   "id": "0fce6c08",
   "metadata": {},
   "source": [
    "- 다른 class의 instance들, 각 instance의 data type이 다른 variable들(==`obj.var`)     \n",
    "\n",
    "\\> 같은 함수 사용 가능 > programming 중 오해의 소지 다분함 > \"구조체 전용 함수\" 필요"
   ]
  },
  {
   "cell_type": "markdown",
   "id": "fd0d670e",
   "metadata": {},
   "source": [
    "## 2. class\n",
    "\n",
    "- 특정 구조체만 사용 할 전용 함수를 외부에 선언할 필요가 있는가?\n",
    "\n",
    "\\> 특정 구조체에서만 사용할 함수를 외부에 선언 > 혼란 야기\n",
    "\n",
    "<br>\n",
    "\n",
    "- 클래스 = 변수 + 함수를 같은 소속(class)으로 선언\n",
    "\n",
    "- 클래스 내부에 선언된 함수 == _method_ == 해당 class만 사용 가능한 전용 함수"
   ]
  },
  {
   "cell_type": "markdown",
   "id": "fb7b9e64",
   "metadata": {},
   "source": [
    "### 2.1. class method\n",
    "\n",
    "- method는 대부분 `self` keyword를 parameter로 선언 > instance 자신을 의미    \n",
    "\\> 실제 method 사용시에는 `self` 입력 생략\n",
    "\n",
    "- 클래스 내부의 변수를 지칭 할 때도 `self` 사용 > `self.var`  "
   ]
  },
  {
   "cell_type": "code",
   "execution_count": 1,
   "id": "d8a05db3",
   "metadata": {},
   "outputs": [
    {
     "name": "stdout",
     "output_type": "stream",
     "text": [
      "8 코어, 16GB RAM, 900000원\n"
     ]
    }
   ],
   "source": [
    "class Laptop:\n",
    "    n_cpu_core = 0\n",
    "    ram_capacity = 0\n",
    "    won_price = 0\n",
    "    \n",
    "    def get_spec(self):\n",
    "        print(\"%s 코어, %sGB RAM, %s원\" %(self.n_cpu_core,\n",
    "                                       self.ram_capacity, self.won_price))\n",
    "\n",
    "my_laptop = Laptop()\n",
    "\n",
    "my_laptop.n_cpu_core = 8\n",
    "my_laptop.ram_capacity = 16\n",
    "my_laptop.won_price = 900000\n",
    "\n",
    "my_laptop.get_spec()"
   ]
  },
  {
   "cell_type": "markdown",
   "id": "135a18b3",
   "metadata": {},
   "source": [
    "### 2.2. `self` keyword\n",
    "\n",
    "- `self`는 클래스로 생성한 객체(== instance, object) 자신의 주소를 나타낸다.\n",
    "\n",
    "- 자신의 주소를 나타내야 하는 이유는, 같은 class의 인스턴스들의 양식은 같지만 내용물은 독립적으로 저장되기 때문."
   ]
  },
  {
   "cell_type": "markdown",
   "id": "d21f23a3",
   "metadata": {},
   "source": [
    "- Computer 객체 생성, cpu, ram, ssd에 임의의 값 지정, method 호출로 console에 정보 출력"
   ]
  },
  {
   "cell_type": "code",
   "execution_count": 21,
   "id": "9fabf8f5",
   "metadata": {},
   "outputs": [
    {
     "name": "stdout",
     "output_type": "stream",
     "text": [
      "CPU = Ryzen7 4000series, RAM = 16GB, SSD = 512GB\n"
     ]
    }
   ],
   "source": [
    "class Computer():\n",
    "    cpu = \"cpu\"\n",
    "    ram = 0\n",
    "    ssd = 0\n",
    "    \n",
    "    def get_info(self):\n",
    "        print(\"CPU = {cpu}, RAM = {ram}GB, SSD = {ssd}GB\".format(cpu = self.cpu,\n",
    "                                                                 ram = self.ram, ssd = self.ssd))\n",
    "    def get_double_info(self, com):\n",
    "        print(\"CPU = {cpu}, RAM = {ram}GB, SSD = {ssd}GB\".format(cpu = self.cpu,\n",
    "                                                                 ram = self.ram, ssd = self.ssd)\n",
    "             ,\"\\nCPU = {cpu}, RAM = {ram}GB, SSD = {ssd}GB\".format(cpu = com.cpu,\n",
    "                                                                 ram = com.ram, ssd = com.ssd))\n",
    "    \n",
    "com1 = Computer()\n",
    "com1.cpu = \"Ryzen7 4000series\"\n",
    "com1.ram = 16\n",
    "com1.ssd = 512\n",
    "\n",
    "com1.get_info()"
   ]
  },
  {
   "cell_type": "markdown",
   "id": "f2316964",
   "metadata": {},
   "source": [
    "- 함수 선언시 method에 2개의 parameter `def [method](self, obj)`     \n",
    "\\> method 사용: `self.[method](obj)`    \n",
    "\\>`self.var`은 호출 객체의 variable, `obj.var`은 param obj의 variable"
   ]
  },
  {
   "cell_type": "code",
   "execution_count": 22,
   "id": "6a3b1edc",
   "metadata": {},
   "outputs": [
    {
     "name": "stdout",
     "output_type": "stream",
     "text": [
      "CPU = Ryzen7 4000series, RAM = 16GB, SSD = 512GB \n",
      "CPU = intelCorei7, RAM = 32GB, SSD = 256GB\n"
     ]
    }
   ],
   "source": [
    "com2 = Computer()\n",
    "com2.cpu = \"intelCorei7\"\n",
    "com2.ram = 32\n",
    "com2.ssd = 256\n",
    "\n",
    "com1.get_double_info(com2)"
   ]
  },
  {
   "cell_type": "code",
   "execution_count": null,
   "id": "fc7501d2",
   "metadata": {},
   "outputs": [],
   "source": []
  },
  {
   "cell_type": "code",
   "execution_count": null,
   "id": "6e84df27",
   "metadata": {},
   "outputs": [],
   "source": []
  }
 ],
 "metadata": {
  "kernelspec": {
   "display_name": "Python 3 (ipykernel)",
   "language": "python",
   "name": "python3"
  },
  "language_info": {
   "codemirror_mode": {
    "name": "ipython",
    "version": 3
   },
   "file_extension": ".py",
   "mimetype": "text/x-python",
   "name": "python",
   "nbconvert_exporter": "python",
   "pygments_lexer": "ipython3",
   "version": "3.9.12"
  }
 },
 "nbformat": 4,
 "nbformat_minor": 5
}
