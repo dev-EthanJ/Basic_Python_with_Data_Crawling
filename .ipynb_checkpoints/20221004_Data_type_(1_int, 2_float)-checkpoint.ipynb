{
 "cells": [
  {
   "cell_type": "markdown",
   "id": "5f1c6f18",
   "metadata": {},
   "source": [
    "# Python Data type (int, float)\n",
    "# 파이썬 자료형 (정수, 실수)\n",
    "## Why 숫자형부터 시작?\n",
    "- 컴퓨터가 이해할 수 있는 단 하나의 언어: 기계어(machine language) with 0, 1\n",
    "\n",
    "## > 숫자형\n",
    "- 종류\n",
    "    - 정수: 0, 양의 정수, 음의 정수\n",
    "    - 실수: 소수점을 포함하는 숫자\n",
    "    - 8진수 (0o or 0O로 시작): e.g. 0o34, 0o25\n",
    "    - 16진수 (0x로 시작): e.g. 0x2A, 0xFF\n",
    "    - 2진수 (0b로 시작): e.g. 0b10, 0b11\n",
    "- 8bit == 1byte"
   ]
  },
  {
   "cell_type": "markdown",
   "id": "0efe7645",
   "metadata": {},
   "source": [
    "## 1) 정수형 (int)"
   ]
  },
  {
   "cell_type": "code",
   "execution_count": 1,
   "id": "b75439af",
   "metadata": {},
   "outputs": [],
   "source": [
    "#양수, 음수, 0\n",
    "a = 10\n",
    "b = -20\n",
    "c = 0"
   ]
  },
  {
   "cell_type": "code",
   "execution_count": 2,
   "id": "8f5defd8",
   "metadata": {},
   "outputs": [
    {
     "name": "stdout",
     "output_type": "stream",
     "text": [
      "10\n"
     ]
    }
   ],
   "source": [
    "# 출력 함수 > print(변수명)\n",
    "print(a)"
   ]
  },
  {
   "cell_type": "code",
   "execution_count": 3,
   "id": "0a89e390",
   "metadata": {},
   "outputs": [
    {
     "name": "stdout",
     "output_type": "stream",
     "text": [
      "a\n"
     ]
    }
   ],
   "source": [
    "# print(string) > string \" \"안의 내용 출력\n",
    "print(\"a\")"
   ]
  },
  {
   "cell_type": "code",
   "execution_count": 4,
   "id": "45799edc",
   "metadata": {},
   "outputs": [
    {
     "name": "stdout",
     "output_type": "stream",
     "text": [
      "Hello world\n"
     ]
    }
   ],
   "source": [
    "print(\"Hello world\")"
   ]
  },
  {
   "cell_type": "code",
   "execution_count": 5,
   "id": "5f8abf86",
   "metadata": {},
   "outputs": [
    {
     "data": {
      "text/plain": [
       "int"
      ]
     },
     "execution_count": 5,
     "metadata": {},
     "output_type": "execute_result"
    }
   ],
   "source": [
    "# data type을 확인하는 함수 > type()\n",
    "type(a)"
   ]
  },
  {
   "cell_type": "code",
   "execution_count": 6,
   "id": "0a8e7079",
   "metadata": {},
   "outputs": [
    {
     "data": {
      "text/plain": [
       "int"
      ]
     },
     "execution_count": 6,
     "metadata": {},
     "output_type": "execute_result"
    }
   ],
   "source": [
    "type(b)"
   ]
  },
  {
   "cell_type": "code",
   "execution_count": 7,
   "id": "e3a2e75a",
   "metadata": {},
   "outputs": [
    {
     "data": {
      "text/plain": [
       "int"
      ]
     },
     "execution_count": 7,
     "metadata": {},
     "output_type": "execute_result"
    }
   ],
   "source": [
    "type(c)"
   ]
  },
  {
   "cell_type": "markdown",
   "id": "42dfa06a",
   "metadata": {},
   "source": [
    "## 2) 실수형 (float)"
   ]
  },
  {
   "cell_type": "code",
   "execution_count": 8,
   "id": "683a7278",
   "metadata": {},
   "outputs": [],
   "source": [
    "# 실수 data type == float\n",
    "a = 1.3\n",
    "b = -2.4\n",
    "c = 0.0"
   ]
  },
  {
   "cell_type": "code",
   "execution_count": 9,
   "id": "12f5df76",
   "metadata": {},
   "outputs": [
    {
     "data": {
      "text/plain": [
       "float"
      ]
     },
     "execution_count": 9,
     "metadata": {},
     "output_type": "execute_result"
    }
   ],
   "source": [
    "# 실수 타입 확인\n",
    "type(a)"
   ]
  },
  {
   "cell_type": "code",
   "execution_count": 10,
   "id": "0ed54cb0",
   "metadata": {},
   "outputs": [
    {
     "data": {
      "text/plain": [
       "float"
      ]
     },
     "execution_count": 10,
     "metadata": {},
     "output_type": "execute_result"
    }
   ],
   "source": [
    "type(b)"
   ]
  },
  {
   "cell_type": "code",
   "execution_count": 11,
   "id": "eb030fb3",
   "metadata": {},
   "outputs": [
    {
     "data": {
      "text/plain": [
       "float"
      ]
     },
     "execution_count": 11,
     "metadata": {},
     "output_type": "execute_result"
    }
   ],
   "source": [
    "type(c)"
   ]
  },
  {
   "cell_type": "code",
   "execution_count": 12,
   "id": "a9a3c198",
   "metadata": {},
   "outputs": [
    {
     "name": "stdout",
     "output_type": "stream",
     "text": [
      "<class 'int'> <class 'float'>\n"
     ]
    }
   ],
   "source": [
    "# 0 vs 0.0\n",
    "print(type(0), type(0.0))"
   ]
  },
  {
   "cell_type": "code",
   "execution_count": 13,
   "id": "298733c3",
   "metadata": {},
   "outputs": [],
   "source": [
    "# 정수와 실수가 다른 숫자로 인식되는 이유: 2의 보수(정수) vs floating point(실수)"
   ]
  }
 ],
 "metadata": {
  "kernelspec": {
   "display_name": "Python 3 (ipykernel)",
   "language": "python",
   "name": "python3"
  },
  "language_info": {
   "codemirror_mode": {
    "name": "ipython",
    "version": 3
   },
   "file_extension": ".py",
   "mimetype": "text/x-python",
   "name": "python",
   "nbconvert_exporter": "python",
   "pygments_lexer": "ipython3",
   "version": "3.9.12"
  }
 },
 "nbformat": 4,
 "nbformat_minor": 5
}
