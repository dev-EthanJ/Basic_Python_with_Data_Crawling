{
 "cells": [
  {
   "cell_type": "markdown",
   "id": "ec0fb783",
   "metadata": {},
   "source": [
    "# Python Data type 파이썬 자료형\n",
    "## 4) 리스트(List)\n",
    "- 여러 개의 아이템들을 저장하는 객체 = 여러 개의 값(다양한 data type)을 저장하는 그릇\n",
    "\n",
    "- 문법 기호 : [아이템1, 아이템2, 아이템3 .... ]\n",
    "\n",
    "- 용어 : 아이템 = 요소\n",
    "\n",
    "- 아이템으로 가질 수 있는 데이터 타입 : 문자, 숫자, 리스트, 딕셔너리 ...\n",
    "\n",
    "- 종류\n",
    "    - 아이템이 없는 리스트\n",
    "    - 1차원 리스트\n",
    "    - 다차원 리스트\n",
    "        \n",
    "- 특징\n",
    "    - 인덱스 활용\n",
    "    - 다차원 리스트의 구조에 대한 이해"
   ]
  },
  {
   "cell_type": "markdown",
   "id": "1589ff4f",
   "metadata": {},
   "source": [
    "### 1. 생성하기"
   ]
  },
  {
   "cell_type": "code",
   "execution_count": 1,
   "id": "dda0be45",
   "metadata": {},
   "outputs": [
    {
     "name": "stdout",
     "output_type": "stream",
     "text": [
      "<class 'list'> <class 'list'>\n",
      "[] []\n"
     ]
    }
   ],
   "source": [
    "# 아이템이 없는 리스트 == 빈 리스트 생성하기 \n",
    "# 문법 : []\n",
    "# 함수 : list()\n",
    "\n",
    "a = []\n",
    "a2 = list()\n",
    "\n",
    "print(type(a), type(a2))\n",
    "print(a, a2)"
   ]
  },
  {
   "cell_type": "code",
   "execution_count": 2,
   "id": "2f4204f5",
   "metadata": {
    "scrolled": true
   },
   "outputs": [
    {
     "data": {
      "text/plain": [
       "['a', 10, 1.1, [1, 23.1, 'a']]"
      ]
     },
     "execution_count": 2,
     "metadata": {},
     "output_type": "execute_result"
    }
   ],
   "source": [
    "# 모든 데이터 타입을 아이템으로 가질 수 있다.\n",
    "\n",
    "a3 = ['a', 10, 1.1, [1, 23.1, 'a']]\n",
    "a3"
   ]
  },
  {
   "cell_type": "code",
   "execution_count": 3,
   "id": "4ededc8e",
   "metadata": {},
   "outputs": [
    {
     "data": {
      "text/plain": [
       "[1, 23.1, 'a']"
      ]
     },
     "execution_count": 3,
     "metadata": {},
     "output_type": "execute_result"
    }
   ],
   "source": [
    "#리스트가 하나의 요소로 들어감\n",
    "\n",
    "a3[3]"
   ]
  },
  {
   "cell_type": "code",
   "execution_count": 4,
   "id": "23a12803",
   "metadata": {},
   "outputs": [
    {
     "name": "stdout",
     "output_type": "stream",
     "text": [
      "a\n"
     ]
    }
   ],
   "source": [
    "# n차원 리스트 > 인덱스 n번 해야 출력 가능, 리스트 속의 리스트가 몇 개니?\n",
    "# 2차원 리스트 > 인덱스 2번 해야 출력가능 \n",
    "# 2차원 데이터 > 마치 좌표처럼 데이터를 지목해 출력 가능\n",
    "\n",
    "a3 = ['a', 10, 1.1, [1, 23.1, 'a']]\n",
    "print(a3[3][2])"
   ]
  },
  {
   "cell_type": "code",
   "execution_count": 5,
   "id": "69977f50",
   "metadata": {
    "scrolled": true
   },
   "outputs": [
    {
     "data": {
      "text/plain": [
       "[[1, 2, 3, 4, 5], [1, 2, 3, 4, 5], [1, 2, 3, 4, 5]]"
      ]
     },
     "execution_count": 5,
     "metadata": {},
     "output_type": "execute_result"
    }
   ],
   "source": [
    "[[1, 2, 3, 4, 5], [1, 2, 3, 4, 5], [1, 2, 3, 4, 5]]"
   ]
  },
  {
   "cell_type": "markdown",
   "id": "0e1fe129",
   "metadata": {},
   "source": [
    "### 2. 인덱싱, 슬라이싱\n",
    "- 리스트를 인덱스 번호로 접근하면 해당하는 위치의 값(아이템)을 가져온다.\n",
    "\n",
    "- 복습\n",
    "     - 첫 번째 인덱스 번호 ==  0\n",
    "     - 마지막 인덱스 번호 ==  -1\n",
    "\n",
    "### 인덱싱(indexing)\n",
    "- 특정 위치에 있는 하나의 아이템에 접근 > \"하나\"의 item"
   ]
  },
  {
   "cell_type": "code",
   "execution_count": 6,
   "id": "9a79da27",
   "metadata": {},
   "outputs": [
    {
     "data": {
      "text/plain": [
       "1"
      ]
     },
     "execution_count": 6,
     "metadata": {},
     "output_type": "execute_result"
    }
   ],
   "source": [
    "#리스트 생성하기\n",
    "\n",
    "a = [1, 2, 3, 4, 5, 6, 7, 8, 9]\n",
    "\n",
    "#첫 번째 아이템 인덱스 번호: 0\n",
    "#인덱싱 문법 : 객체[인덱스 번호]\n",
    "\n",
    "a[0]"
   ]
  },
  {
   "cell_type": "code",
   "execution_count": 7,
   "id": "378758a5",
   "metadata": {},
   "outputs": [
    {
     "data": {
      "text/plain": [
       "6"
      ]
     },
     "execution_count": 7,
     "metadata": {},
     "output_type": "execute_result"
    }
   ],
   "source": [
    "#리스트에서 아이템 6 가져오기\n",
    "\n",
    "a[5]"
   ]
  },
  {
   "cell_type": "code",
   "execution_count": 8,
   "id": "47628cb7",
   "metadata": {},
   "outputs": [
    {
     "name": "stdout",
     "output_type": "stream",
     "text": [
      "9\n",
      "9\n",
      "9\n"
     ]
    }
   ],
   "source": [
    "#리스트의 마지막 값 확인하기\n",
    "\n",
    "print(a[8])\n",
    "print(a[-1])\n",
    "print(a[len(a)-1])"
   ]
  },
  {
   "cell_type": "code",
   "execution_count": 9,
   "id": "de6777b7",
   "metadata": {},
   "outputs": [
    {
     "data": {
      "text/plain": [
       "9"
      ]
     },
     "execution_count": 9,
     "metadata": {},
     "output_type": "execute_result"
    }
   ],
   "source": [
    "#len()은 인덱스 번호를 가지는 모든 자료의 길이를 세어준다. \n",
    "\n",
    "len(a)"
   ]
  },
  {
   "cell_type": "markdown",
   "id": "c01e8406",
   "metadata": {},
   "source": [
    "### 슬라이싱(slicing)\n",
    "- 정의 복습 : 연속된 법위에 있는 하나 혹은 하나 이상의 여러 개 아이템에 접근한다\n",
    "- 문법 : 리스트[시작 index : 끝 index : (:간격)] > (끝 index -1)까지만 접근 "
   ]
  },
  {
   "cell_type": "code",
   "execution_count": 10,
   "id": "d42d756a",
   "metadata": {},
   "outputs": [
    {
     "data": {
      "text/plain": [
       "[1, 2, 3]"
      ]
     },
     "execution_count": 10,
     "metadata": {},
     "output_type": "execute_result"
    }
   ],
   "source": [
    "# 리스트의 0~2번째 아이템까지 확인하기\n",
    "\n",
    "# 시작 index : 0\n",
    "# 끝 index : 3 (3 - 1 = 2)까지 접근\n",
    "\n",
    "a[0:3]"
   ]
  },
  {
   "cell_type": "code",
   "execution_count": 11,
   "id": "a94e97a6",
   "metadata": {},
   "outputs": [
    {
     "name": "stdout",
     "output_type": "stream",
     "text": [
      "[3, 4, 5, 6, 7, 8, 9]\n",
      "[3, 4, 5, 6, 7, 8, 9]\n"
     ]
    }
   ],
   "source": [
    "# 리스트의 3번째~끝까지 아이템 확인하기\n",
    "# 시작 index == 2\n",
    "# 끝 index == null (개념상 len(list))\n",
    "\n",
    "print(a[2:])\n",
    "print(a[2:len(a)])"
   ]
  },
  {
   "cell_type": "markdown",
   "id": "cbb1a6e5",
   "metadata": {},
   "source": [
    "### 3. 아이템 추가하기 : 연산자와 함수를 이용한 리스트 아이템 추가\n",
    "- 산술연산자 : +, *\n",
    "- 리스트의 함수(method) : list.append(item), list.extend(item), list.insert(index, item)\n",
    "\n",
    "### 산술연산자\n",
    "- 종류 : +, *\n",
    "- 특징 : return value (!= None) > 원본 반영X"
   ]
  },
  {
   "cell_type": "code",
   "execution_count": 12,
   "id": "faa00599",
   "metadata": {},
   "outputs": [
    {
     "data": {
      "text/plain": [
       "[1, 2, 3, 4, 5, 6]"
      ]
     },
     "execution_count": 12,
     "metadata": {},
     "output_type": "execute_result"
    }
   ],
   "source": [
    "#리스트끼리 연결 : +\n",
    "\n",
    "a = [1, 2, 3]\n",
    "b = [4, 5, 6]\n",
    "a + b"
   ]
  },
  {
   "cell_type": "code",
   "execution_count": 13,
   "id": "8072ded8",
   "metadata": {},
   "outputs": [
    {
     "data": {
      "text/plain": [
       "[4, 5, 6, 4, 5, 6, 4, 5, 6]"
      ]
     },
     "execution_count": 13,
     "metadata": {},
     "output_type": "execute_result"
    }
   ],
   "source": [
    "#리스트 대상 곱하기 : *\n",
    "\n",
    "b * 3 \n",
    "# b + b + b"
   ]
  },
  {
   "cell_type": "markdown",
   "id": "3ace28fa",
   "metadata": {},
   "source": [
    "- enumerate는 리스트가 있는 경우 순서와 리스트의 값을 전달하는 기능을 합니다."
   ]
  },
  {
   "cell_type": "markdown",
   "id": "81be0ec9",
   "metadata": {},
   "source": [
    "### 4. 리스트 타입의 함수 (methods of list)\n",
    "#### 종류\n",
    "- list.append(item) : parameter item을 통째로 list last item으로 추가 > 1개의 아이템만 추가 가능\n",
    "- list.extend(data) : data의 item을 뽑아서 list last item으로 추가 > 여러 개의 item 추가 가능\n",
    "- list.insert(index, item) : index 지정 item 삽입, item 통째로 추가\n",
    "\n",
    "#### 참고 연산자 : in 연산자 > 결과값 bool type"
   ]
  },
  {
   "cell_type": "code",
   "execution_count": 14,
   "id": "475c2c96",
   "metadata": {},
   "outputs": [
    {
     "data": {
      "text/plain": [
       "[1, 2, 3]"
      ]
     },
     "execution_count": 14,
     "metadata": {},
     "output_type": "execute_result"
    }
   ],
   "source": [
    "# 리스트 생성\n",
    "\n",
    "a = [1, 2, 3]\n",
    "a"
   ]
  },
  {
   "cell_type": "code",
   "execution_count": 15,
   "id": "7d7bad22",
   "metadata": {},
   "outputs": [
    {
     "data": {
      "text/plain": [
       "[1, 2, 3, 4]"
      ]
     },
     "execution_count": 15,
     "metadata": {},
     "output_type": "execute_result"
    }
   ],
   "source": [
    "# list.append(item)\n",
    "# 문법 : [대상 list].append([추가할 item])\n",
    "\n",
    "a.append(4)\n",
    "a"
   ]
  },
  {
   "cell_type": "code",
   "execution_count": 16,
   "id": "9d11f671",
   "metadata": {},
   "outputs": [
    {
     "name": "stdout",
     "output_type": "stream",
     "text": [
      "[1, 2, 3, 4, [5, 6]]\n",
      "[5, 6]\n"
     ]
    }
   ],
   "source": [
    "# 추가할 item == list라면?\n",
    "\n",
    "a.append([5, 6])\n",
    "print(a)\n",
    "print(a[4])"
   ]
  },
  {
   "cell_type": "code",
   "execution_count": 17,
   "id": "dded34ca",
   "metadata": {},
   "outputs": [
    {
     "name": "stdout",
     "output_type": "stream",
     "text": [
      "[1, 2, 3, 4, [5, 6]]\n",
      "[1, 2, 3, 4, [5, 6], 7, 8, 9]\n",
      "[1, 2, 3, 4, [5, 6], 7, 8, 9, 'a', 'b', 'c']\n"
     ]
    }
   ],
   "source": [
    "# list.extend(data)\n",
    "# 문법 : [대상 list].extend(data)\n",
    "\n",
    "# append(item) vs. extend(data) : extend(data) > item을 가진 data type만 parameter로 받을 수 있다\n",
    "# > parameter data의 item을 개별적으로 받아서 caller list에 대입\n",
    "# extend(data) : parameter data의 item 개수만큼 index 연장 vs. append(item) : index += 1\n",
    "\n",
    "print(a)\n",
    "\n",
    "a.extend([7, 8, 9])\n",
    "print(a)\n",
    "\n",
    "a.extend({'a':97, 'b':98, 'c':99})\n",
    "print(a)"
   ]
  },
  {
   "cell_type": "code",
   "execution_count": 18,
   "id": "a7e0a937",
   "metadata": {},
   "outputs": [
    {
     "name": "stdout",
     "output_type": "stream",
     "text": [
      "[1, 2, 3, 4, [5, 6], 7, 8, 9, 'a', 'b', 'c', 10]\n"
     ]
    }
   ],
   "source": [
    "# extend(data) > 하나의 item만 넣어도 무조건 item가진 data(e.g. list)로 call 해야 함\n",
    "\n",
    "a.extend([10])\n",
    "print(a)"
   ]
  },
  {
   "cell_type": "code",
   "execution_count": 19,
   "id": "57aa6340",
   "metadata": {},
   "outputs": [
    {
     "name": "stdout",
     "output_type": "stream",
     "text": [
      "[100, 1, 2, 3, 4, [5, 6], 7, 8, 9, 'a', 'b', 'c', 10]\n"
     ]
    }
   ],
   "source": [
    "# insert(index, item)\n",
    "# 문법 : [대상 list].insert([index], [추가할 item])\n",
    "\n",
    "# item 추가가 지정 index에 실행됨\n",
    "# vs. append(item) : 둘 다 하나의 index 번호에 모든 data를 추가\n",
    "\n",
    "a.insert(0, 100)\n",
    "print(a)"
   ]
  },
  {
   "cell_type": "code",
   "execution_count": 20,
   "id": "57cec309",
   "metadata": {},
   "outputs": [
    {
     "data": {
      "text/plain": [
       "[[99, 98], 100, 1, 2, 3, 4, [5, 6], 7, 8, 9, 'a', 'b', 'c', 10]"
      ]
     },
     "execution_count": 20,
     "metadata": {},
     "output_type": "execute_result"
    }
   ],
   "source": [
    "# list.insert(item) > list item 교체 X, 추가 O > 실제로 소실되는 자료는 없음 > 내부적으로 (index += 1) 발생\n",
    "\n",
    "a.insert(0, [99, 98])\n",
    "a"
   ]
  },
  {
   "cell_type": "code",
   "execution_count": 21,
   "id": "46fcd6e1",
   "metadata": {},
   "outputs": [
    {
     "name": "stdout",
     "output_type": "stream",
     "text": [
      "True\n",
      "False\n",
      "True\n"
     ]
    }
   ],
   "source": [
    "# in 연산자 > 특정 item이 list 내에 있는지 여부 출력\n",
    "# 문법 : [item] in [list]\n",
    "\n",
    "print(4 in a)\n",
    "print(5 in a)\n",
    "print(5 in a[6])"
   ]
  },
  {
   "cell_type": "code",
   "execution_count": 22,
   "id": "3a5f51e6",
   "metadata": {},
   "outputs": [
    {
     "name": "stdout",
     "output_type": "stream",
     "text": [
      "False\n"
     ]
    }
   ],
   "source": [
    "# not in 연산자 > 특정 item이 list 내에 없는지 여부 출력\n",
    "# 문법 : [item] not in [list]\n",
    "\n",
    "print(10 not in a)"
   ]
  },
  {
   "cell_type": "markdown",
   "id": "b831f977",
   "metadata": {},
   "source": [
    "### > 연습문제"
   ]
  },
  {
   "cell_type": "code",
   "execution_count": 23,
   "id": "98be5399",
   "metadata": {},
   "outputs": [],
   "source": [
    "# 1) 빈 리스트 생성\n",
    "\n",
    "list1 = []\n",
    "# (list1 = []) == (list1 = list())"
   ]
  },
  {
   "cell_type": "code",
   "execution_count": 24,
   "id": "db629763",
   "metadata": {},
   "outputs": [],
   "source": [
    "# 2) 1)번 리스트에 숫자 1, 2, 3을 아이템으로 추가\n",
    "\n",
    "list1.extend([1, 2, 3])"
   ]
  },
  {
   "cell_type": "code",
   "execution_count": 25,
   "id": "5c2cd61a",
   "metadata": {},
   "outputs": [],
   "source": [
    "# 3) 2)번 리스트의 2번째 index에 문자 100을 item으로 추가\n",
    "\n",
    "list1.insert(2, \"100\")"
   ]
  },
  {
   "cell_type": "code",
   "execution_count": 26,
   "id": "c20d2528",
   "metadata": {},
   "outputs": [],
   "source": [
    "# 4) 3)번 리스트의 마지막에 문자 A, B를 아이템으로 가진 list를 item으로 추가\n",
    "\n",
    "list1.append(['A', 'B'])"
   ]
  },
  {
   "cell_type": "code",
   "execution_count": 27,
   "id": "dd85c7bb",
   "metadata": {},
   "outputs": [
    {
     "name": "stdout",
     "output_type": "stream",
     "text": [
      "[1, 2, '100', 3, ['A', 'B'], 1, 2, '100', 3, ['A', 'B']]\n"
     ]
    }
   ],
   "source": [
    "# 5) 4)번 리스트의 아이템을 2번 반복해서 가지는 리스트를 출력\n",
    "\n",
    "print(list1 * 2)"
   ]
  },
  {
   "cell_type": "markdown",
   "id": "e57243d6",
   "metadata": {},
   "source": [
    "### 5. 아이템 수정하기\n",
    "- indexing, slicing을 이용해서 item을 수정할 수 있다."
   ]
  },
  {
   "cell_type": "code",
   "execution_count": 28,
   "id": "6d0e9f60",
   "metadata": {},
   "outputs": [
    {
     "data": {
      "text/plain": [
       "[1, 2, 3, 4, 5]"
      ]
     },
     "execution_count": 28,
     "metadata": {},
     "output_type": "execute_result"
    }
   ],
   "source": [
    "# 리스트 a 생성\n",
    "\n",
    "a = list()\n",
    "a = [1, 2, 3, 4, 5]\n",
    "a"
   ]
  },
  {
   "cell_type": "code",
   "execution_count": 29,
   "id": "e2079819",
   "metadata": {},
   "outputs": [
    {
     "data": {
      "text/plain": [
       "[[10, 20], 2, 3, 4, 5]"
      ]
     },
     "execution_count": 29,
     "metadata": {},
     "output_type": "execute_result"
    }
   ],
   "source": [
    "# 0번 index의 item을 [10, 20]으로 수정 > indexing\n",
    "\n",
    "a[0] = [10, 20]\n",
    "a"
   ]
  },
  {
   "cell_type": "code",
   "execution_count": 30,
   "id": "bf286aa2",
   "metadata": {},
   "outputs": [
    {
     "name": "stdout",
     "output_type": "stream",
     "text": [
      "[1, 2, 3, 4, 5]\n",
      "[10, 20, 3, 4, 5]\n"
     ]
    }
   ],
   "source": [
    "# 연속된 범위에 있는 여러개의 item 수정 > slicing\n",
    "\n",
    "a2 = [1, 2, 3, 4, 5]\n",
    "print(a2)\n",
    "\n",
    "a2[:2] = [10, 20]\n",
    "print(a2)"
   ]
  },
  {
   "cell_type": "code",
   "execution_count": 31,
   "id": "e35f0738",
   "metadata": {},
   "outputs": [
    {
     "data": {
      "text/plain": [
       "[100, 20, 3, 4, 5]"
      ]
     },
     "execution_count": 31,
     "metadata": {},
     "output_type": "execute_result"
    }
   ],
   "source": [
    "# slicing으로 값 할당시 주의점 > 전달값 1개여도 item가진 data로 할당해야 함\n",
    "# > 동작원리가 list.extend(data)와 동일\n",
    "\n",
    "a2[0:1] = [100]\n",
    "a2\n",
    "\n",
    "# indexing == append()\n",
    "# slicing == extend()"
   ]
  },
  {
   "cell_type": "markdown",
   "id": "d003e7eb",
   "metadata": {},
   "source": [
    "### > 연습문제\n",
    "아래 조건에 맞추어 리스트를 수정하세요.\n",
    "\n",
    "    [ 10, 99, 3, '사과', 73, '바나나' ]\n",
    "    \n",
    "조건1)  '사과'를 'apple'로 수정\n",
    "\n",
    "조건2)  99, 3 을 9, 33으로 수정\n",
    "\n",
    "조건3)  73 을 [ 73, 74 ] 로 수정"
   ]
  },
  {
   "cell_type": "code",
   "execution_count": 32,
   "id": "0a084ac9",
   "metadata": {},
   "outputs": [],
   "source": [
    "list_test = [10, 99, 3, '사과', 73, '바나나']\n",
    "# 조건1)\n",
    "\n",
    "list_test[3] = 'apple'"
   ]
  },
  {
   "cell_type": "code",
   "execution_count": 33,
   "id": "ad0ab53b",
   "metadata": {},
   "outputs": [],
   "source": [
    "# 조건 2)\n",
    "\n",
    "list_test[1:3] = [9, 33]"
   ]
  },
  {
   "cell_type": "code",
   "execution_count": 34,
   "id": "6abcae98",
   "metadata": {},
   "outputs": [
    {
     "name": "stdout",
     "output_type": "stream",
     "text": [
      "[10, 9, 33, 'apple', [73, 74], '바나나']\n"
     ]
    }
   ],
   "source": [
    "# 조건 3)\n",
    "\n",
    "list_test[4] = [73, 74]\n",
    "print(list_test)"
   ]
  },
  {
   "cell_type": "markdown",
   "id": "a724e041",
   "metadata": {},
   "source": [
    "### 6. item 삭제하기\n",
    "- slicing + empty list\n",
    "- del 키워드 + indexing or slicing\n",
    "- list.remove(item) > 값을 기준으로 삭제\n",
    "- list.pop()<br>\n",
    " \\> parameter에 아무것도 입력하지 않거나, -1 입력시 > 마지막 index item 삭제<br>\n",
    "- list.pop(index)<br>\n",
    " \\> 특정 index 지정해서 item 삭제도 가능"
   ]
  },
  {
   "cell_type": "code",
   "execution_count": 35,
   "id": "c7a4a3de",
   "metadata": {},
   "outputs": [],
   "source": [
    "# 리스트 생성\n",
    "\n",
    "a1 = [10, 20, 30, 40, 50]\n",
    "a2 = [10, 20, 30, 40, 50]"
   ]
  },
  {
   "cell_type": "code",
   "execution_count": 36,
   "id": "8ab12690",
   "metadata": {},
   "outputs": [
    {
     "name": "stdout",
     "output_type": "stream",
     "text": [
      "[20, 30, 40, 50]\n"
     ]
    }
   ],
   "source": [
    "# 하나의 item 삭제 > (1) slicing + empty list\n",
    "# index 0 item 삭제\n",
    "\n",
    "a1[:1] = []\n",
    "print(a1)"
   ]
  },
  {
   "cell_type": "code",
   "execution_count": 37,
   "id": "539e5598",
   "metadata": {},
   "outputs": [
    {
     "name": "stdout",
     "output_type": "stream",
     "text": [
      "[[], 20, 30, 40, 50]\n"
     ]
    }
   ],
   "source": [
    "# if indexing + empty list 대입 > empty list 그대로 들어감!!\n",
    "\n",
    "a2[0] = []\n",
    "print(a2)\n",
    "# indexing만으로는 item 삭제 불가능!"
   ]
  },
  {
   "cell_type": "code",
   "execution_count": 38,
   "id": "8d5753e7",
   "metadata": {},
   "outputs": [
    {
     "name": "stdout",
     "output_type": "stream",
     "text": [
      "[20, 30, 40]\n"
     ]
    }
   ],
   "source": [
    "# 하나의 item 삭제 > (2) del 키워드 + indexing\n",
    "\n",
    "del a1[-1]\n",
    "print(a1)"
   ]
  },
  {
   "cell_type": "code",
   "execution_count": 39,
   "id": "6e8eb9a6",
   "metadata": {},
   "outputs": [],
   "source": [
    "# indexing없이 del 키워드 + list > list 객체 자체 삭제\n",
    "\n",
    "del a2\n",
    "# print(a2) # > NameError: name 'a2' is not defined"
   ]
  },
  {
   "cell_type": "code",
   "execution_count": 40,
   "id": "7512efe7",
   "metadata": {},
   "outputs": [],
   "source": [
    "# 하나의 item 삭제(3) > list.remove(item) 함수\n",
    "# 문법 : list.remove(삭제할 item(!= index))\n",
    "\n",
    "a = [1, 2, 3, 3, 3, 4, 5]"
   ]
  },
  {
   "cell_type": "code",
   "execution_count": 41,
   "id": "d8a4c21a",
   "metadata": {},
   "outputs": [
    {
     "data": {
      "text/plain": [
       "[1, 2, 3, 3, 3, 4]"
      ]
     },
     "execution_count": 41,
     "metadata": {},
     "output_type": "execute_result"
    }
   ],
   "source": [
    "# value 5 item delete\n",
    "\n",
    "a.remove(5)\n",
    "a"
   ]
  },
  {
   "cell_type": "code",
   "execution_count": 42,
   "id": "d58943a1",
   "metadata": {},
   "outputs": [
    {
     "data": {
      "text/plain": [
       "[1, 2, 3, 3, 4]"
      ]
     },
     "execution_count": 42,
     "metadata": {},
     "output_type": "execute_result"
    }
   ],
   "source": [
    "# 중복된 value item 존재 시 > 가장 앞선 item 하나만 삭제\n",
    "\n",
    "a.remove(3)\n",
    "a"
   ]
  },
  {
   "cell_type": "code",
   "execution_count": 43,
   "id": "ae1c561a",
   "metadata": {},
   "outputs": [
    {
     "data": {
      "text/plain": [
       "[1, 2]"
      ]
     },
     "execution_count": 43,
     "metadata": {},
     "output_type": "execute_result"
    }
   ],
   "source": [
    "# del 키워드 > not only 단일 item but also 연속된 범위(slicing) items 삭제도 가능\n",
    "\n",
    "del a[2:]\n",
    "a"
   ]
  },
  {
   "cell_type": "code",
   "execution_count": 44,
   "id": "06f942cc",
   "metadata": {},
   "outputs": [
    {
     "name": "stdout",
     "output_type": "stream",
     "text": [
      "[1, 2, 3, 4, 5, 6]\n",
      "6\n",
      "[1, 2, 3, 4, 5]\n"
     ]
    }
   ],
   "source": [
    "# 하나의 item 삭제 > (4) list.pop() 함수\n",
    "\n",
    "a = [1, 2, 3, 4, 5]\n",
    "a.append(6)\n",
    "print(a)\n",
    "\n",
    "# list.pop() > parameter index 미기입 > 마지막 index item 삭제 > item의 value를 확인시켜주고 삭제\n",
    "# last item 삭제하는 메소드들 > 보통 삭제할 value 확인시켜주고 삭제\n",
    "\n",
    "print(a.pop())\n",
    "print(a)"
   ]
  },
  {
   "cell_type": "code",
   "execution_count": 45,
   "id": "189a2bec",
   "metadata": {},
   "outputs": [
    {
     "name": "stdout",
     "output_type": "stream",
     "text": [
      "[1, 2, 3, 4, 5]\n",
      "3\n",
      "[1, 2, 4, 5]\n"
     ]
    }
   ],
   "source": [
    "# list.pop(index) > index 지정 > 입력된 index의 item 삭제\n",
    "\n",
    "print(a)\n",
    "\n",
    "print(a.pop(2))\n",
    "print(a)"
   ]
  },
  {
   "cell_type": "markdown",
   "id": "8851f1b0",
   "metadata": {},
   "source": [
    "### 7. item 정렬\n",
    "- 함수\n",
    "    - sort() : 기본동작 > 오름차순 정렬\n",
    "    - reverse() : 기존 list를 뒤집어서 정렬"
   ]
  },
  {
   "cell_type": "code",
   "execution_count": 46,
   "id": "def3abac",
   "metadata": {},
   "outputs": [
    {
     "name": "stdout",
     "output_type": "stream",
     "text": [
      "[3, 4, 1, 5, 2]\n",
      "None\n",
      "[1, 2, 3, 4, 5]\n"
     ]
    }
   ],
   "source": [
    "# 값의 오름차순으로 정렬 : list.sort()\n",
    "# 기본 동작 > sort(reverse = False) > 오름차순\n",
    "# method return None > caller list 값 변경\n",
    "\n",
    "a = [3, 4, 1, 5, 2]\n",
    "print(a)\n",
    "\n",
    "print(a.sort())\n",
    "print(a)"
   ]
  },
  {
   "cell_type": "code",
   "execution_count": 47,
   "id": "88f3214a",
   "metadata": {},
   "outputs": [
    {
     "name": "stdout",
     "output_type": "stream",
     "text": [
      "[5, 4, 3, 2, 1]\n"
     ]
    }
   ],
   "source": [
    "# 값을 내림차순으로 정렬하는 경우 > list.sort(reverse = True)\n",
    "\n",
    "a.sort(reverse = True)\n",
    "print(a)"
   ]
  },
  {
   "cell_type": "code",
   "execution_count": 48,
   "id": "19a83bf4",
   "metadata": {},
   "outputs": [
    {
     "name": "stdout",
     "output_type": "stream",
     "text": [
      "None\n",
      "[17, 74, 34, 42, 10]\n"
     ]
    }
   ],
   "source": [
    "# 값을 인덱스 기준으로 반대로 뒤집기 : list.reverse()\n",
    "# method return None > caller changed\n",
    "\n",
    "b = [10, 42, 34, 74, 17]\n",
    "print(b.reverse())\n",
    "print(b)"
   ]
  },
  {
   "cell_type": "markdown",
   "id": "cf325b8d",
   "metadata": {},
   "source": [
    "### 8. item 개수 세기\n",
    "- 함수\n",
    "    - list.count(item) : item이 list 내부에 몇 개 있는지 개수를 보여줌\n",
    "    - len(list) : 파이썬 내장함수, list 내부 total item 개수 보여줌"
   ]
  },
  {
   "cell_type": "code",
   "execution_count": 49,
   "id": "d6e951f6",
   "metadata": {},
   "outputs": [
    {
     "name": "stdout",
     "output_type": "stream",
     "text": [
      "1\n",
      "2\n"
     ]
    }
   ],
   "source": [
    "# 특정 item의 개수 : list.count(item)\n",
    "\n",
    "a = [1, 2, 3, 3, 4, 5, 6]\n",
    "print(a.count(6))\n",
    "\n",
    "b = ['a', \"abc\", 5, 6, \"a\", a]\n",
    "print(b.count('a'))"
   ]
  },
  {
   "cell_type": "code",
   "execution_count": 50,
   "id": "5048a37b",
   "metadata": {
    "scrolled": true
   },
   "outputs": [
    {
     "data": {
      "text/plain": [
       "7"
      ]
     },
     "execution_count": 50,
     "metadata": {},
     "output_type": "execute_result"
    }
   ],
   "source": [
    "# list의 total item 개수 : len(list)\n",
    "\n",
    "len(a)"
   ]
  },
  {
   "cell_type": "markdown",
   "id": "0d885028",
   "metadata": {},
   "source": [
    "### 9. 리스트 복사하기\n",
    "- 할당 기호(=) > shallow copy\n",
    "- list.copy() > deep copy\n",
    "- list(data) > deep copy\n",
    "- slicing + 할당 > deep copy"
   ]
  },
  {
   "cell_type": "code",
   "execution_count": 51,
   "id": "35640cae",
   "metadata": {},
   "outputs": [
    {
     "name": "stdout",
     "output_type": "stream",
     "text": [
      "[1, 2, 3, 4, 5] [1, 2, 3, 4, 5]\n"
     ]
    }
   ],
   "source": [
    "# 1. 할당기호(=)로 복사하기 > shallow copy\n",
    "\n",
    "a = [1, 2, 3, 4, 5]\n",
    "b = a \n",
    "# 할당기호(=)로 복사 > 주소값 복사 > shallow copy\n",
    "\n",
    "print(a, b)"
   ]
  },
  {
   "cell_type": "code",
   "execution_count": 52,
   "id": "68bdee54",
   "metadata": {},
   "outputs": [
    {
     "name": "stdout",
     "output_type": "stream",
     "text": [
      "1712804248128 1712804248128\n"
     ]
    }
   ],
   "source": [
    "# 변수가 가리키는 주소 출력 함수 : id(variable)\n",
    "\n",
    "print(id(a), id(b))"
   ]
  },
  {
   "cell_type": "code",
   "execution_count": 53,
   "id": "2eda52af",
   "metadata": {},
   "outputs": [
    {
     "name": "stdout",
     "output_type": "stream",
     "text": [
      "[10, 2, 3, 4, 5] [10, 2, 3, 4, 5]\n"
     ]
    }
   ],
   "source": [
    "# = 을 이용해 복사한 결과 > shallow copy\n",
    "\n",
    "a[0] = 10\n",
    "print(a, b)"
   ]
  },
  {
   "cell_type": "code",
   "execution_count": 54,
   "id": "4479bc92",
   "metadata": {},
   "outputs": [
    {
     "name": "stdout",
     "output_type": "stream",
     "text": [
      "1712804248128 1712804253824\n"
     ]
    }
   ],
   "source": [
    "# 2. list.copy() method로 복사하기 > deep copy\n",
    "\n",
    "c = a.copy()\n",
    "print(id(a), id(c)) \n",
    "# 다른 주소 가리킴"
   ]
  },
  {
   "cell_type": "code",
   "execution_count": 55,
   "id": "c77a4c17",
   "metadata": {},
   "outputs": [
    {
     "name": "stdout",
     "output_type": "stream",
     "text": [
      "[10, 20, 3, 4, 5] [10, 20, 3, 4, 5] [10, 2, 3, 4, 5]\n"
     ]
    }
   ],
   "source": [
    "# deep copy > a를 변경해도 c는 영향받지 않는다\n",
    "\n",
    "a[1] = 20\n",
    "print(a, b, c)"
   ]
  },
  {
   "cell_type": "code",
   "execution_count": 56,
   "id": "1de2a9c9",
   "metadata": {},
   "outputs": [
    {
     "name": "stdout",
     "output_type": "stream",
     "text": [
      "1712804378688 1712804253824\n"
     ]
    }
   ],
   "source": [
    "# 3. list(data) 함수로 복사 > deep copy\n",
    "# list(data) > 해당 data를 새로 할당해 list로 만든다\n",
    "\n",
    "d = list(c)\n",
    "print(id(d), id(c))"
   ]
  },
  {
   "cell_type": "code",
   "execution_count": 57,
   "id": "553f8c58",
   "metadata": {},
   "outputs": [
    {
     "name": "stdout",
     "output_type": "stream",
     "text": [
      "[10, 2, 30, 4, 5] [10, 2, 3, 4, 5]\n"
     ]
    }
   ],
   "source": [
    "# deep copy > c를 변경해도 d는 영향받지 않는다\n",
    "\n",
    "c[2] = 30\n",
    "print(c, d)"
   ]
  },
  {
   "cell_type": "code",
   "execution_count": 58,
   "id": "b5bf9f9b",
   "metadata": {},
   "outputs": [
    {
     "name": "stdout",
     "output_type": "stream",
     "text": [
      "1712804296896 1712804378688\n"
     ]
    }
   ],
   "source": [
    "# 4. slicing으로 (전체) 범위 지정해 할당 > deep copy\n",
    "\n",
    "e = d[:]\n",
    "print(id(e), id(d))"
   ]
  },
  {
   "cell_type": "code",
   "execution_count": 59,
   "id": "de18be1b",
   "metadata": {},
   "outputs": [
    {
     "name": "stdout",
     "output_type": "stream",
     "text": [
      "[10, 2, 3, 40, 5] [10, 2, 3, 4, 5]\n"
     ]
    }
   ],
   "source": [
    "# deep copy > d를 변경해도 e는 영향받지 않는다\n",
    "\n",
    "d[3] = 40\n",
    "print(d, e)"
   ]
  },
  {
   "cell_type": "markdown",
   "id": "9e5532ad",
   "metadata": {},
   "source": [
    "### 연습문제\n",
    "1. a 리스트를 이용하여 다음과 같은 문자열을 출력하시오.<br>\n",
    "    a = ['Life', 'is', 'too', 'short', 'you', 'need', 'python']<br>\n",
    "    출력문 : you too"
   ]
  },
  {
   "cell_type": "code",
   "execution_count": 60,
   "id": "cfb101a2",
   "metadata": {},
   "outputs": [
    {
     "name": "stdout",
     "output_type": "stream",
     "text": [
      "you too\n"
     ]
    }
   ],
   "source": [
    "a = ['Life', 'is', 'too', 'short', 'you', 'need', 'python']\n",
    "\n",
    "print(a[4], a[2])"
   ]
  },
  {
   "cell_type": "markdown",
   "id": "53b4a9c3",
   "metadata": {},
   "source": [
    "2. a 리스트의 길이를 구하시오."
   ]
  },
  {
   "cell_type": "code",
   "execution_count": 61,
   "id": "ac8a4138",
   "metadata": {},
   "outputs": [
    {
     "name": "stdout",
     "output_type": "stream",
     "text": [
      "7\n"
     ]
    }
   ],
   "source": [
    "length = len(a)\n",
    "print(length)"
   ]
  },
  {
   "cell_type": "markdown",
   "id": "d0d7b981",
   "metadata": {},
   "source": [
    "3. a 리스트의 첫번째 아이템에 길이를 추가하세요."
   ]
  },
  {
   "cell_type": "code",
   "execution_count": 62,
   "id": "d9eb02ee",
   "metadata": {},
   "outputs": [
    {
     "name": "stdout",
     "output_type": "stream",
     "text": [
      "[7, 'Life', 'is', 'too', 'short', 'you', 'need', 'python']\n"
     ]
    }
   ],
   "source": [
    "a.insert(0, len(a))\n",
    "print(a)"
   ]
  },
  {
   "cell_type": "markdown",
   "id": "98813868",
   "metadata": {},
   "source": [
    "4. 아래와 같이 정렬되지 않은 리스트를 만들고 내림차순 정렬로 바꿔보세요.<br>\n",
    "    [1, 4, 9, 2, 6, 10]"
   ]
  },
  {
   "cell_type": "code",
   "execution_count": 63,
   "id": "6f8f3801",
   "metadata": {},
   "outputs": [
    {
     "name": "stdout",
     "output_type": "stream",
     "text": [
      "[10, 9, 6, 4, 2, 1]\n"
     ]
    }
   ],
   "source": [
    "list_sort = [1, 4, 9, 2, 6, 10]\n",
    "list_sort.sort(reverse = True)\n",
    "print(list_sort)"
   ]
  }
 ],
 "metadata": {
  "kernelspec": {
   "display_name": "Python 3 (ipykernel)",
   "language": "python",
   "name": "python3"
  },
  "language_info": {
   "codemirror_mode": {
    "name": "ipython",
    "version": 3
   },
   "file_extension": ".py",
   "mimetype": "text/x-python",
   "name": "python",
   "nbconvert_exporter": "python",
   "pygments_lexer": "ipython3",
   "version": "3.9.12"
  }
 },
 "nbformat": 4,
 "nbformat_minor": 5
}
