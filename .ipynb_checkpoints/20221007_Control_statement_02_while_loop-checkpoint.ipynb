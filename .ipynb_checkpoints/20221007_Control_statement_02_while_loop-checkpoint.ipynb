{
 "cells": [
  {
   "cell_type": "markdown",
   "id": "2ccfd6ef",
   "metadata": {},
   "source": [
    "# 파이썬 제어문 Python Control statement\n",
    "## 2. while 반복문 (+조건문) while loop\n",
    "- 주어진 조건을 판단하여 조건이 참일 동안 특정한 명령문을 반복적으로 수행하는 것\n",
    "\n",
    "▶ 기본 문법 \n",
    "\n",
    "        while 조건문:\n",
    "            반복적으로 수행할 문장1\n",
    "            반복적으로 수행할 문장2\n",
    "            ...\n",
    "            \n",
    "\n",
    "▶ 주의해야할 문법 : \n",
    "- 조건문 뒤에 반드시 콜론(:)을 써야 한다.\n",
    "\n",
    "- 조건문이 있는 문장 하위에 속하는 실행문장들은 반드시 한 번 들여쓰기 되어야 한다. ( 자동 / tab / space 4번)\n",
    "\n",
    "- 무한반복문에 대한 이해와 관련된 키워드(break, continue 등)를 활용할 수 있어야 한다.\n",
    "\n",
    "\n",
    "\n",
    "\n",
    "▶ 무한반복문 : 조건문이 무조건 참인 경우, while 반복문은 무한히 반복된다.\n",
    "\n",
    "- break 키워드 : 특정 조건을 만족할 경우 제어문을 빠져나가 반복을 종료한다.\n",
    "\n",
    "- continue : 특정 조건을 만족할 경우 반복문을 종료하는 것이 아니라 반복문의 시작으로 돌아간다."
   ]
  },
  {
   "cell_type": "code",
   "execution_count": 1,
   "id": "84ae8811",
   "metadata": {},
   "outputs": [
    {
     "name": "stdout",
     "output_type": "stream",
     "text": [
      "Hello world\n",
      "Hello world\n",
      "Hello world\n"
     ]
    }
   ],
   "source": [
    "# Hello world 3번 출력\n",
    "\n",
    "loop = 0\n",
    "\n",
    "while loop <= 2:\n",
    "    loop += 1\n",
    "    print(\"Hello world\") "
   ]
  },
  {
   "cell_type": "code",
   "execution_count": 2,
   "id": "54b712b5",
   "metadata": {},
   "outputs": [
    {
     "name": "stdout",
     "output_type": "stream",
     "text": [
      "무한루프 1\n",
      "무한루프 2\n",
      "무한루프 3\n"
     ]
    }
   ],
   "source": [
    "# while문의 조건식이 무조건 참으로만 판단되는 경우 > 무한루프\n",
    "# 이 경우 보통 break문을 조합해 종료\n",
    "\n",
    "a = 1\n",
    "\n",
    "while True:\n",
    "    print(\"무한루프\", a)\n",
    "    \n",
    "    if a > 2:\n",
    "        break\n",
    "    \n",
    "    a += 1"
   ]
  },
  {
   "cell_type": "code",
   "execution_count": 3,
   "id": "78fd162e",
   "metadata": {},
   "outputs": [
    {
     "name": "stdout",
     "output_type": "stream",
     "text": [
      "3\n",
      "5\n",
      "7\n",
      "9\n"
     ]
    }
   ],
   "source": [
    "# continue > 돌던 바퀴만 스킵, 전체 반복문 실행은 유지\n",
    "\n",
    "a = 1\n",
    "\n",
    "while a < 10:\n",
    "    a += 1\n",
    "    \n",
    "    if a % 2 == 0:\n",
    "        continue\n",
    "    \n",
    "    print(a)"
   ]
  },
  {
   "cell_type": "markdown",
   "id": "95616c3b",
   "metadata": {},
   "source": [
    "### > 연습문제\n",
    "\n",
    "- 초기식에는 score 변수에 100을 저장\n",
    "\n",
    "- while문에서 score가 60점 이상인 경우에만 다시 score에 input()으로 새 점수를 입력 \n",
    "\n",
    "- 입력받은 점수들은 리스트 자료형인 score_list에 저장하시오.\n",
    "\n",
    "- 60점 미만의 점수가 score에 저장되면 반복문을 탈출하고\n",
    "\n",
    "- 이후 score_list에 저장된 점수는 모두 내림차순 정렬해서 출력하시오."
   ]
  },
  {
   "cell_type": "code",
   "execution_count": 4,
   "id": "dfe680b0",
   "metadata": {},
   "outputs": [
    {
     "name": "stdout",
     "output_type": "stream",
     "text": [
      "점수를 입력해주세요. : 80\n",
      "점수를 입력해주세요. : 70\n",
      "점수를 입력해주세요. : 50\n",
      "[80, 70, 50]\n"
     ]
    }
   ],
   "source": [
    "# 첫 번째 바퀴가 무조건 True여야 while문이 작동 > True가 되도록 적당한 숫자넣기\n",
    "\n",
    "score = 100\n",
    "# 점수를 적재받을 빈 리스트 선언\n",
    "\n",
    "score_list = []\n",
    "# 60점 이상인 경우에만 다시 추가로 실행하기\n",
    "\n",
    "while score >= 60:\n",
    "    score = int(input('점수를 입력해주세요. : ')) # score 변수 < 점수 (재)입력받기\n",
    "\n",
    "    score_list.append(score) # 입력받은 점수 리스트 item으로 추가\n",
    "\n",
    "# 탈출한 후에(들여쓰기 X) 점수 내림차순 정렬\n",
    "\n",
    "score_list.sort(reverse=True) \n",
    "print(score_list)"
   ]
  },
  {
   "cell_type": "code",
   "execution_count": 5,
   "id": "67ce3be9",
   "metadata": {},
   "outputs": [
    {
     "name": "stdout",
     "output_type": "stream",
     "text": [
      "1\n",
      "[2, 7, 5, 8, 10, 3]\n",
      "None\n",
      "[2, 3, 5, 7, 8, 10]\n"
     ]
    }
   ],
   "source": [
    "# method return값 유무 차이\n",
    "# return None > 원본(caller) item 영향 O\n",
    "# return != None > 원본(caller) item 영향 X\n",
    "\n",
    "score_test = [2, 7, 5, 8, 10, 3]\n",
    "\n",
    "print(score_test.count(5)) # return item > caller item 영향 X\n",
    "print(score_test)\n",
    "\n",
    "print(score_test.sort()) # return None > caller item 영향 O\n",
    "print(score_test)"
   ]
  },
  {
   "cell_type": "code",
   "execution_count": 6,
   "id": "ba89d7e5",
   "metadata": {
    "scrolled": true
   },
   "outputs": [
    {
     "name": "stdout",
     "output_type": "stream",
     "text": [
      "None\n",
      "[2, 3, 5, 7, 8, 10, 4]\n"
     ]
    }
   ],
   "source": [
    "# list.append(item) > return None > caller item 영향 O\n",
    "\n",
    "print(score_test.append(4)) \n",
    "print(score_test)"
   ]
  },
  {
   "cell_type": "code",
   "execution_count": 7,
   "id": "3a6b6e79",
   "metadata": {},
   "outputs": [
    {
     "name": "stdout",
     "output_type": "stream",
     "text": [
      "['test1', 'test2', 'test3']\n",
      "test1,test2,test3\n"
     ]
    }
   ],
   "source": [
    "# str.split(item) > return item > caller item 영향 X\n",
    "\n",
    "a = \"test1,test2,test3\"\n",
    "print(a.split(\",\"))\n",
    "\n",
    "print(a)"
   ]
  }
 ],
 "metadata": {
  "kernelspec": {
   "display_name": "Python 3 (ipykernel)",
   "language": "python",
   "name": "python3"
  },
  "language_info": {
   "codemirror_mode": {
    "name": "ipython",
    "version": 3
   },
   "file_extension": ".py",
   "mimetype": "text/x-python",
   "name": "python",
   "nbconvert_exporter": "python",
   "pygments_lexer": "ipython3",
   "version": "3.9.12"
  }
 },
 "nbformat": 4,
 "nbformat_minor": 5
}
