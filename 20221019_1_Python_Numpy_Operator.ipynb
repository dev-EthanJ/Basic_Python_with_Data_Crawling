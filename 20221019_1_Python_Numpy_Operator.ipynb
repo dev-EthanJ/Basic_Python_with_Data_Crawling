{
 "cells": [
  {
   "cell_type": "markdown",
   "id": "658c5896",
   "metadata": {},
   "source": [
    "# Python NumPy Operation <br> 파이썬 NumPy 연산"
   ]
  },
  {
   "cell_type": "code",
   "execution_count": 2,
   "id": "221c3ca0",
   "metadata": {},
   "outputs": [],
   "source": [
    "import numpy as np"
   ]
  },
  {
   "cell_type": "markdown",
   "id": "9288edc1",
   "metadata": {},
   "source": [
    "## 1. 산술연산\n",
    "\n",
    "1. 더하기: `+`, `add()`\n",
    "\n",
    "2. 빼기: `-`, `subtract()`\n",
    "\n",
    "3. 나누기: `/`, `divide()`\n",
    "\n",
    "4. 곱하기: `*`, `multiply()`\n",
    "\n",
    "5. 지수곱: `exp()`\n",
    "\n",
    "6. 제곱근: `sqru()`\n",
    "\n",
    "7. 로그: `log()`\n",
    "\n",
    "8. 내적(행렬곱): `dot()`"
   ]
  },
  {
   "cell_type": "code",
   "execution_count": 4,
   "id": "943ab395",
   "metadata": {},
   "outputs": [],
   "source": [
    "# Numpy 객체 정보를 확인하기 위한 사용자 함수 정의 : 객체타입, 구조, 차원, 데이터타입\n",
    "def np_print(arr):\n",
    "    text=\"\"\"\n",
    "    type : {}\n",
    "    shape : {}\n",
    "    dimension : {}\n",
    "    dtype : {}\n",
    "    data : \\n {}\"\"\".format(type(arr), arr.shape, arr.ndim, arr.dtype, arr)\n",
    "    print(text)"
   ]
  },
  {
   "cell_type": "markdown",
   "id": "2c570dcd",
   "metadata": {},
   "source": [
    "<br>\n",
    "\n",
    "- -1 <= x < 10 지정범위에서 1씩 증가하는 숫자를 데이터로 가진 3행 * 3열 배열"
   ]
  },
  {
   "cell_type": "code",
   "execution_count": 39,
   "id": "eac460cd",
   "metadata": {},
   "outputs": [
    {
     "name": "stdout",
     "output_type": "stream",
     "text": [
      "\n",
      "    type : <class 'numpy.ndarray'>\n",
      "    shape : (3, 3)\n",
      "    dimension : 2\n",
      "    dtype : int32\n",
      "    data : \n",
      " [[1 2 3]\n",
      " [4 5 6]\n",
      " [7 8 9]]\n"
     ]
    }
   ],
   "source": [
    "ndarr_10 = np.arange(1, 10).reshape(3, 3)\n",
    "\n",
    "np_print(ndarr_10)"
   ]
  },
  {
   "cell_type": "markdown",
   "id": "8693f90d",
   "metadata": {},
   "source": [
    "<br>\n",
    "\n",
    "- 4이상 13미만, 1씩 증가하는 정수 data, 3행 * 3열 배열"
   ]
  },
  {
   "cell_type": "code",
   "execution_count": 40,
   "id": "38b184b7",
   "metadata": {},
   "outputs": [
    {
     "name": "stdout",
     "output_type": "stream",
     "text": [
      "\n",
      "    type : <class 'numpy.ndarray'>\n",
      "    shape : (3, 3)\n",
      "    dimension : 2\n",
      "    dtype : int32\n",
      "    data : \n",
      " [[ 4  5  6]\n",
      " [ 7  8  9]\n",
      " [10 11 12]]\n"
     ]
    }
   ],
   "source": [
    "ndarr_13 = np.arange(4, 13).reshape(3, 3)\n",
    "\n",
    "np_print(ndarr_13)"
   ]
  },
  {
   "cell_type": "markdown",
   "id": "5804bc96",
   "metadata": {},
   "source": [
    "<br>\n",
    "\n",
    "- 10 ~ 21, 1씩 증가하는 정수, 3행 * 4열 배열"
   ]
  },
  {
   "cell_type": "code",
   "execution_count": 51,
   "id": "9e50d6b9",
   "metadata": {},
   "outputs": [
    {
     "name": "stdout",
     "output_type": "stream",
     "text": [
      "\n",
      "    type : <class 'numpy.ndarray'>\n",
      "    shape : (3, 4)\n",
      "    dimension : 2\n",
      "    dtype : int32\n",
      "    data : \n",
      " [[10 11 12 13]\n",
      " [14 15 16 17]\n",
      " [18 19 20 21]]\n"
     ]
    }
   ],
   "source": [
    "ndarr_21 = np.arange(10, 22).reshape(3, 4)\n",
    "\n",
    "np_print(ndarr_21)"
   ]
  },
  {
   "cell_type": "markdown",
   "id": "89091a0e",
   "metadata": {},
   "source": [
    "<br>\n",
    "\n",
    "### 1.1. 더하기\n",
    "\n",
    "- 산술연산자: `+`\n",
    "\n",
    "- numpy method: `np.add(ndarr1, ndarr2)`"
   ]
  },
  {
   "cell_type": "code",
   "execution_count": 19,
   "id": "bd8b2181",
   "metadata": {},
   "outputs": [
    {
     "name": "stdout",
     "output_type": "stream",
     "text": [
      "[[1 2 3]\n",
      " [4 5 6]\n",
      " [7 8 9]]\n",
      "[[ 4  5  6]\n",
      " [ 7  8  9]\n",
      " [10 11 12]]\n"
     ]
    }
   ],
   "source": [
    "print(ndarr_10)\n",
    "\n",
    "print(ndarr_13)"
   ]
  },
  {
   "cell_type": "markdown",
   "id": "cd4eb277",
   "metadata": {},
   "source": [
    "<br>\n",
    "\n",
    "- 산술 연산자 `+`"
   ]
  },
  {
   "cell_type": "code",
   "execution_count": 20,
   "id": "f7a60e23",
   "metadata": {},
   "outputs": [
    {
     "data": {
      "text/plain": [
       "array([[ 5,  7,  9],\n",
       "       [11, 13, 15],\n",
       "       [17, 19, 21]])"
      ]
     },
     "execution_count": 20,
     "metadata": {},
     "output_type": "execute_result"
    }
   ],
   "source": [
    "ndarr_10 + ndarr_13"
   ]
  },
  {
   "cell_type": "markdown",
   "id": "2c582e0a",
   "metadata": {},
   "source": [
    "<br>\n",
    "\n",
    "- numpy method `np.add(ndarr1, ndarr2)`"
   ]
  },
  {
   "cell_type": "code",
   "execution_count": 22,
   "id": "4f5619ec",
   "metadata": {},
   "outputs": [
    {
     "data": {
      "text/plain": [
       "array([[ 5,  7,  9],\n",
       "       [11, 13, 15],\n",
       "       [17, 19, 21]])"
      ]
     },
     "execution_count": 22,
     "metadata": {},
     "output_type": "execute_result"
    }
   ],
   "source": [
    "np.add(ndarr_10, ndarra_13)"
   ]
  },
  {
   "cell_type": "markdown",
   "id": "dd926245",
   "metadata": {},
   "source": [
    "<br>\n",
    "\n",
    "- `shape`(행 * 열)이 다른 `ndarray`끼리 합연산 > **VauleError**"
   ]
  },
  {
   "cell_type": "code",
   "execution_count": 23,
   "id": "2ff187b7",
   "metadata": {},
   "outputs": [
    {
     "ename": "ValueError",
     "evalue": "operands could not be broadcast together with shapes (3,3) (3,4) ",
     "output_type": "error",
     "traceback": [
      "\u001b[1;31m---------------------------------------------------------------------------\u001b[0m",
      "\u001b[1;31mValueError\u001b[0m                                Traceback (most recent call last)",
      "Input \u001b[1;32mIn [23]\u001b[0m, in \u001b[0;36m<cell line: 1>\u001b[1;34m()\u001b[0m\n\u001b[1;32m----> 1\u001b[0m \u001b[43mndarray_3_3_10\u001b[49m\u001b[43m \u001b[49m\u001b[38;5;241;43m+\u001b[39;49m\u001b[43m \u001b[49m\u001b[43mndarray_3_4_21\u001b[49m\n",
      "\u001b[1;31mValueError\u001b[0m: operands could not be broadcast together with shapes (3,3) (3,4) "
     ]
    }
   ],
   "source": [
    "ndarr_10 + ndarr_21"
   ]
  },
  {
   "cell_type": "markdown",
   "id": "dfdc1e8b",
   "metadata": {},
   "source": [
    "### 1.3. 빼기\n",
    "\n",
    "- 산술연산자 `-`\n",
    "\n",
    "- numpy method `np.subtract(ndarr1, ndarr2)`\n",
    "\n",
    "\n",
    "<br>\n",
    "\n",
    "- 산술연산자 `-`"
   ]
  },
  {
   "cell_type": "code",
   "execution_count": 76,
   "id": "0c09a852",
   "metadata": {},
   "outputs": [
    {
     "data": {
      "text/plain": [
       "array([[-3, -3, -3],\n",
       "       [-3, -3, -3],\n",
       "       [-3, -3, -3]])"
      ]
     },
     "execution_count": 76,
     "metadata": {},
     "output_type": "execute_result"
    }
   ],
   "source": [
    "ndarr_10 - ndarr_13"
   ]
  },
  {
   "cell_type": "markdown",
   "id": "4c1745c9",
   "metadata": {},
   "source": [
    "<br>\n",
    "\n",
    "- numpy method `np.subtract()`"
   ]
  },
  {
   "cell_type": "code",
   "execution_count": 27,
   "id": "ce9bb31a",
   "metadata": {},
   "outputs": [
    {
     "data": {
      "text/plain": [
       "array([[-3, -3, -3],\n",
       "       [-3, -3, -3],\n",
       "       [-3, -3, -3]])"
      ]
     },
     "execution_count": 27,
     "metadata": {},
     "output_type": "execute_result"
    }
   ],
   "source": [
    "np.subtract(ndarr_10, ndarr_13)"
   ]
  },
  {
   "cell_type": "markdown",
   "id": "d7b5978d",
   "metadata": {},
   "source": [
    "<br>\n",
    "\n",
    "- 뺄셈: parameter 순서에 따라 결과 다름 \n",
    "\n",
    "\\> `(np.subtract(a, b) == a - b) != (np.subtract(b, a) == b - a)`"
   ]
  },
  {
   "cell_type": "code",
   "execution_count": 28,
   "id": "08264ea6",
   "metadata": {},
   "outputs": [
    {
     "data": {
      "text/plain": [
       "array([[3, 3, 3],\n",
       "       [3, 3, 3],\n",
       "       [3, 3, 3]])"
      ]
     },
     "execution_count": 28,
     "metadata": {},
     "output_type": "execute_result"
    }
   ],
   "source": [
    "np.subtract(ndarr_13, ndarr_10)"
   ]
  },
  {
   "cell_type": "markdown",
   "id": "d295a703",
   "metadata": {},
   "source": [
    "<br>\n",
    "\n",
    "### 1.3. 나누기"
   ]
  },
  {
   "cell_type": "code",
   "execution_count": 33,
   "id": "d166cdab",
   "metadata": {},
   "outputs": [
    {
     "data": {
      "text/plain": [
       "array([[0.25      , 0.4       , 0.5       ],\n",
       "       [0.57142857, 0.625     , 0.66666667],\n",
       "       [0.7       , 0.72727273, 0.75      ]])"
      ]
     },
     "execution_count": 33,
     "metadata": {},
     "output_type": "execute_result"
    }
   ],
   "source": [
    "ndarr_10 / ndarr_13"
   ]
  },
  {
   "cell_type": "markdown",
   "id": "a9b5f78f",
   "metadata": {},
   "source": [
    "- $n → ∞$에서, $(n-3)/n → 1$\n",
    "\n",
    "<br>\n",
    "\n",
    "- 산술method `np.divide(ndarray1, ndarray2)`"
   ]
  },
  {
   "cell_type": "code",
   "execution_count": 34,
   "id": "df28db9c",
   "metadata": {},
   "outputs": [
    {
     "data": {
      "text/plain": [
       "array([[4.        , 2.5       , 2.        ],\n",
       "       [1.75      , 1.6       , 1.5       ],\n",
       "       [1.42857143, 1.375     , 1.33333333]])"
      ]
     },
     "execution_count": 34,
     "metadata": {},
     "output_type": "execute_result"
    }
   ],
   "source": [
    "np.divide(ndarr_13, ndarr_10)"
   ]
  },
  {
   "cell_type": "markdown",
   "id": "5d4ad16f",
   "metadata": {},
   "source": [
    "- $n → ∞$에서, $n/(n-3) → 1$"
   ]
  },
  {
   "cell_type": "markdown",
   "id": "7ee6f8f0",
   "metadata": {},
   "source": [
    "<br>\n",
    "\n",
    "### 1.4. 곱하기\n",
    "\n",
    "- 산술연산자\n",
    "\n",
    "- 산술method"
   ]
  },
  {
   "cell_type": "code",
   "execution_count": null,
   "id": "51f97fae",
   "metadata": {},
   "outputs": [],
   "source": []
  },
  {
   "cell_type": "code",
   "execution_count": null,
   "id": "111a4be7",
   "metadata": {},
   "outputs": [],
   "source": []
  },
  {
   "cell_type": "code",
   "execution_count": null,
   "id": "7aed73bf",
   "metadata": {},
   "outputs": [],
   "source": []
  },
  {
   "cell_type": "markdown",
   "id": "fe479fa8",
   "metadata": {},
   "source": [
    "<br>\n",
    "\n",
    "### 1.5. 지수곱 표현\n",
    "\n",
    "- 지수(exponent): 부동 소수점(floating point)로 숫자를 표시할 때, 거듭제곱을 사용하여 표현   \n",
    "\\> 2.14e+2 = 2.14\n",
    "\n",
    "- `np.exp(ndarray)`: 밑(base)이 자연상수 e인 지수함수로 변환 (y = e ** x)"
   ]
  },
  {
   "cell_type": "markdown",
   "id": "d5ca0525",
   "metadata": {},
   "source": [
    "<br>\n",
    "\n",
    "- 지수곱 산술method: `np.exp(ndarray)`"
   ]
  },
  {
   "cell_type": "code",
   "execution_count": 37,
   "id": "e87092fd",
   "metadata": {},
   "outputs": [
    {
     "name": "stdout",
     "output_type": "stream",
     "text": [
      "[[1 2 3]\n",
      " [4 5 6]\n",
      " [7 8 9]]\n"
     ]
    },
    {
     "data": {
      "text/plain": [
       "array([[2.71828183e+00, 7.38905610e+00, 2.00855369e+01],\n",
       "       [5.45981500e+01, 1.48413159e+02, 4.03428793e+02],\n",
       "       [1.09663316e+03, 2.98095799e+03, 8.10308393e+03]])"
      ]
     },
     "execution_count": 37,
     "metadata": {},
     "output_type": "execute_result"
    }
   ],
   "source": [
    "print(ndarr_10)\n",
    "np.exp(ndarr_10)"
   ]
  },
  {
   "cell_type": "markdown",
   "id": "f4114c5b",
   "metadata": {},
   "source": [
    "<br>\n",
    "\n",
    "### 1.6. 제곱근\n",
    "\n",
    "- 산술method `np.sqrt(ndarr)`\n",
    "\n",
    "<img src='img/sqrt.gif' width='400' height='200' align='left'>"
   ]
  },
  {
   "cell_type": "markdown",
   "id": "66ab1e47",
   "metadata": {},
   "source": [
    "- **n이하의 소수 개수** 구하기 > **n의 제곱근이하의 소수개수**와 동일한 결과    \n",
    "\\> 소인수분해 할 때, 제곱근이 중심이 되어 양쪽이 역방향 대칭 > 제곱근까지만 구해도 된다\n",
    "\n",
    "<br>\n",
    "\n",
    "- \"_에라토스테네스의 체_\": n 이하의 소수 개수 구하기 > 2 이상 n 이하의 소수의 배수를 제외하면 소수만 남는다\n",
    "\n"
   ]
  },
  {
   "cell_type": "code",
   "execution_count": null,
   "id": "a24d781c",
   "metadata": {},
   "outputs": [],
   "source": []
  },
  {
   "cell_type": "code",
   "execution_count": null,
   "id": "d999dbdb",
   "metadata": {},
   "outputs": [],
   "source": []
  },
  {
   "cell_type": "markdown",
   "id": "dd974db1",
   "metadata": {},
   "source": [
    "### 1.7. 내적(행렬곱)\n",
    "\n",
    "- `np.dot(a, b)`\n",
    "\n",
    "<img src='img/dotProduct.png' width='400' height='200' align='left'>"
   ]
  },
  {
   "cell_type": "code",
   "execution_count": 42,
   "id": "58e0a0be",
   "metadata": {},
   "outputs": [
    {
     "name": "stdout",
     "output_type": "stream",
     "text": [
      "[[ 48  54  60]\n",
      " [111 126 141]\n",
      " [174 198 222]]\n"
     ]
    }
   ],
   "source": [
    "print(np.dot(ndarr_10, ndarr_13))"
   ]
  },
  {
   "cell_type": "markdown",
   "id": "2cc1da7f",
   "metadata": {},
   "source": [
    "<br>\n",
    "\n",
    "## 2. Numpy 배열 연산 Numpy `ndarray` operator\n",
    "\n",
    "### 2.2. 비교 연산\n",
    "\n",
    "1. 요소\n",
    "   \n",
    "   - 값에 대한 비교: `==`, `!=`\n",
    "   \n",
    "   - 크기에 대한 비교 : `>`, `<`, `>=`, `<=`\n",
    "   \n",
    "2. 배열\n",
    "\n",
    "    - 두 배열 전체에 대한 비교: `array_equal(ndarr1, ndarr2)`\n"
   ]
  },
  {
   "cell_type": "markdown",
   "id": "b30abcb0",
   "metadata": {},
   "source": [
    "<br>\n",
    "\n",
    "- 값에 대한 비교 > `==`, `!=`\n",
    "\n",
    "- 두 배열 item에 대하여 값이 동일한지 비교\n",
    "\n",
    "- return값: 각 item마다의 비교 결과(bool type)가 배열로 표현"
   ]
  },
  {
   "cell_type": "code",
   "execution_count": 43,
   "id": "d2e57de6",
   "metadata": {},
   "outputs": [
    {
     "data": {
      "text/plain": [
       "array([[False, False, False],\n",
       "       [False, False, False],\n",
       "       [False, False, False]])"
      ]
     },
     "execution_count": 43,
     "metadata": {},
     "output_type": "execute_result"
    }
   ],
   "source": [
    "ndarr_10 == ndarr_13"
   ]
  },
  {
   "cell_type": "code",
   "execution_count": 44,
   "id": "d6dd959c",
   "metadata": {},
   "outputs": [
    {
     "data": {
      "text/plain": [
       "array([[ True,  True,  True],\n",
       "       [ True,  True,  True],\n",
       "       [ True,  True,  True]])"
      ]
     },
     "execution_count": 44,
     "metadata": {},
     "output_type": "execute_result"
    }
   ],
   "source": [
    "ndarr_10 != ndarr_13"
   ]
  },
  {
   "cell_type": "code",
   "execution_count": 53,
   "id": "269385ad",
   "metadata": {},
   "outputs": [
    {
     "name": "stderr",
     "output_type": "stream",
     "text": [
      "C:\\Users\\EthanJ\\AppData\\Local\\Temp\\ipykernel_1924\\2236796607.py:1: DeprecationWarning: elementwise comparison failed; this will raise an error in the future.\n",
      "  ndarr_10 == ndarr_21\n"
     ]
    },
    {
     "data": {
      "text/plain": [
       "False"
      ]
     },
     "execution_count": 53,
     "metadata": {},
     "output_type": "execute_result"
    }
   ],
   "source": [
    "ndarr_10 == ndarr_21"
   ]
  },
  {
   "cell_type": "markdown",
   "id": "8f4fd073",
   "metadata": {},
   "source": [
    "- `ndarray shape`이 같은 대상에 대해서만 비교해야 함"
   ]
  },
  {
   "cell_type": "markdown",
   "id": "ac77e2c4",
   "metadata": {},
   "source": [
    "<br>\n",
    "\n",
    "- 크기에 대한 비교 > 배열의 item별로 각각 비교 > bool type 배열 return"
   ]
  },
  {
   "cell_type": "code",
   "execution_count": 46,
   "id": "380bcdd7",
   "metadata": {},
   "outputs": [
    {
     "data": {
      "text/plain": [
       "array([[False, False, False],\n",
       "       [False, False, False],\n",
       "       [False, False, False]])"
      ]
     },
     "execution_count": 46,
     "metadata": {},
     "output_type": "execute_result"
    }
   ],
   "source": [
    "ndarr_10 > ndarr_13"
   ]
  },
  {
   "cell_type": "markdown",
   "id": "b4588d11",
   "metadata": {},
   "source": [
    "<br>\n",
    "\n",
    "- 두 배열 전체에 대한 비교: `array_equal(ndarr1, ndarr2)` > 하나의 True/False로 반환"
   ]
  },
  {
   "cell_type": "code",
   "execution_count": 48,
   "id": "5f0cdc40",
   "metadata": {},
   "outputs": [
    {
     "data": {
      "text/plain": [
       "False"
      ]
     },
     "execution_count": 48,
     "metadata": {},
     "output_type": "execute_result"
    }
   ],
   "source": [
    "np.array_equal(ndarr_10, ndarr_13)"
   ]
  },
  {
   "cell_type": "code",
   "execution_count": 49,
   "id": "bebf67c9",
   "metadata": {},
   "outputs": [
    {
     "data": {
      "text/plain": [
       "True"
      ]
     },
     "execution_count": 49,
     "metadata": {},
     "output_type": "execute_result"
    }
   ],
   "source": [
    "np.array_equal(ndarr_10, ndarr_10)"
   ]
  },
  {
   "cell_type": "markdown",
   "id": "de8ef298",
   "metadata": {},
   "source": [
    "<br>\n",
    "\n",
    "## 3. 집계 함수\n",
    "\n",
    "    - Numpy 배열에 대해 집계 함수를 적용할 때는 반드시 axis로 설정된 기준에 따라 연산 수행\n",
    "    - 별도로 값을 지정하지 않으면 기본값은 axis = None으로 지정\n",
    "    - axis\n",
    "        - axis = None   \n",
    "        전체 데이터를 하나의 배열로 간주하고 집계 함수의 연산 범위를 전체 배열로 지정\n",
    "\n",
    "<br>\n",
    "\n",
    "<img src='img/axis_None.jpg' width='150' height='150' align='left'>       \n",
    "        <br>\n",
    "        <br>\n",
    "        <br>\n",
    "        <br>\n",
    "        <br>\n",
    "        <br>\n",
    "        <br>\n",
    "        <br>\n",
    "        <br>\n",
    "        <br>\n",
    "        - axis = 0 <br>\n",
    "        열을 기준으로 동일한 열에 있는 요소를 하나의 그룹으로 묶어 집계 함수의 연산 범위로 지정\n",
    "        <br>\n",
    "        <img src='img/axis_0.jpg' width='150' height='150' align='left'>\n",
    "        <br>\n",
    "        <br>\n",
    "        <br>\n",
    "        <br>\n",
    "        <br>\n",
    "        <br>\n",
    "        <br>\n",
    "        <br>\n",
    "        <br>\n",
    "        <br>\n",
    "        - axis = 1 <br>\n",
    "        행을 기준으로 동일한 행에 있는 요소를 하나의 그룹으로 묶어 집계 함수의 연산 범위로 지정\n",
    "        <br>\n",
    "        <img src='img/axis_1.jpg' width='150' height='150' align='left'>\n",
    "        <br>\n",
    "        <br>\n",
    "        <br>\n",
    "        <br>\n",
    "        <br>\n",
    "        <br>\n",
    "        <br>\n",
    "        <br>\n",
    "        <br>\n",
    "        <br>\n",
    "    - 집계 함수 : 배열객체에 대한 메소드로 사용하거나 Numpy 라이브러리의 메소드로 사용하는 두 가지 방법\n",
    "        - 합계 : sum()\n",
    "        - 최소값 : min()\n",
    "        - 최대값 : max()\n",
    "        - 누적 합계 : cumsum()\n",
    "        - 평균 : mean()\n",
    "        - 중앙값 : median()\n",
    "            - 크기 순으로 나열된 데이터에 대해 중앙에 위치하는 값\n",
    "        - 상관계수 : corrcoef()\n",
    "            - 데이터 간의 상관관계를 나타내는 수치(-1 <= r <= 1)\n",
    "        - 표준편차 : std()\n",
    "            - 분산의 제곱근, 데이터가 평균으로부터 흩어져 있는 정도\n",
    "            - 분산 = 편차(요소-전체평균)제곱의 평균\n",
    "        - 고유값 : unique()"
   ]
  },
  {
   "cell_type": "markdown",
   "id": "03d4fc1a",
   "metadata": {},
   "source": [
    "### 3.1. 합계"
   ]
  },
  {
   "cell_type": "markdown",
   "id": "5a14a368",
   "metadata": {},
   "source": [
    "합계: 전체 기준 > 모든 요소에 대한 합\n",
    "\n",
    "1. 배열 타입의 method: `ndarr.sum()`\n",
    "\n",
    "2. numpy method: `np.sum(ndarr)`"
   ]
  },
  {
   "cell_type": "code",
   "execution_count": 54,
   "id": "f56b7201",
   "metadata": {},
   "outputs": [
    {
     "data": {
      "text/plain": [
       "45"
      ]
     },
     "execution_count": 54,
     "metadata": {},
     "output_type": "execute_result"
    }
   ],
   "source": [
    "ndarr_10.sum()"
   ]
  },
  {
   "cell_type": "code",
   "execution_count": 55,
   "id": "1df1355f",
   "metadata": {},
   "outputs": [
    {
     "data": {
      "text/plain": [
       "45"
      ]
     },
     "execution_count": 55,
     "metadata": {},
     "output_type": "execute_result"
    }
   ],
   "source": [
    "np.sum(ndarr_10)"
   ]
  },
  {
   "cell_type": "markdown",
   "id": "35e918e5",
   "metadata": {},
   "source": [
    "<br>\n",
    "\n",
    "- 합계 > row, 행별, 가로축별 합산\n",
    "\n",
    "- method`ndarr.sum()`, np method`np.sum(ndarr)`의 parameter: `axis=1`\n",
    "\n",
    "- return값: \\[0번 row의 합, 1번 row의 합, 2번 row의 합, ..., n번 row의 합\\]"
   ]
  },
  {
   "cell_type": "code",
   "execution_count": 58,
   "id": "c0f2e96b",
   "metadata": {},
   "outputs": [
    {
     "name": "stdout",
     "output_type": "stream",
     "text": [
      "[46 62 78]\n",
      "[[10 11 12 13]\n",
      " [14 15 16 17]\n",
      " [18 19 20 21]]\n"
     ]
    }
   ],
   "source": [
    "print(ndarr_21.sum(axis=1))\n",
    "\n",
    "print(ndarr_21)"
   ]
  },
  {
   "cell_type": "markdown",
   "id": "4a1941ab",
   "metadata": {},
   "source": [
    "<br>\n",
    "\n",
    "- 합계 > column, 열별, 세로축별 합산 > `axis=0`\n",
    "\n",
    "- method `ndarr.sum()`, numpy method`np.sum(ndarr)` parameter: **`axis=0`**\n",
    "\n",
    "- return값: \\[0번 col의 합, 1번 col의 합, 2번 col의 합, ..., n번 col의 합\\]"
   ]
  },
  {
   "cell_type": "code",
   "execution_count": 60,
   "id": "24236136",
   "metadata": {},
   "outputs": [
    {
     "name": "stdout",
     "output_type": "stream",
     "text": [
      "[12 15 18]\n",
      "[[1 2 3]\n",
      " [4 5 6]\n",
      " [7 8 9]]\n"
     ]
    }
   ],
   "source": [
    "print(ndarr_10.sum(axis=0))\n",
    "\n",
    "print(ndarr_10)"
   ]
  },
  {
   "cell_type": "markdown",
   "id": "adee8746",
   "metadata": {},
   "source": [
    "### 3.2. 최소값, 최대값"
   ]
  },
  {
   "cell_type": "markdown",
   "id": "75eb086a",
   "metadata": {},
   "source": [
    "<br>\n",
    "\n",
    "- 최소값 > 전체 기준\n",
    "\n",
    "1. `ndarray` method: `ndarr.min()`\n",
    "    \n",
    "2. numpy method: `np.min(ndarr)`"
   ]
  },
  {
   "cell_type": "code",
   "execution_count": 61,
   "id": "159da70e",
   "metadata": {},
   "outputs": [
    {
     "name": "stdout",
     "output_type": "stream",
     "text": [
      "10\n",
      "1\n"
     ]
    }
   ],
   "source": [
    "print(ndarr_21.min())\n",
    "\n",
    "print(np.min(ndarr_10))"
   ]
  },
  {
   "cell_type": "markdown",
   "id": "b28b8d6f",
   "metadata": {},
   "source": [
    "<br>\n",
    "\n",
    "- c.f. Python list에서 최소값 찾기"
   ]
  },
  {
   "cell_type": "code",
   "execution_count": 62,
   "id": "17343a5a",
   "metadata": {},
   "outputs": [
    {
     "data": {
      "text/plain": [
       "1"
      ]
     },
     "execution_count": 62,
     "metadata": {},
     "output_type": "execute_result"
    }
   ],
   "source": [
    "x_list = [1, 2, 3, 4]\n",
    "\n",
    "min(x_list)"
   ]
  },
  {
   "cell_type": "markdown",
   "id": "b20fdf9a",
   "metadata": {},
   "source": [
    "<br>\n",
    "\n",
    "- 최소값 > 각 가로축(row)별 최소값 찾기 > `axis=1`\n",
    "\n",
    "- return값 > \\[0번 row min, 1번 row min, ... n번 row min\\]\n",
    "\n",
    "- `ndarr.min(axis=1)`\n",
    "\n",
    "- `np.min(ndarr, axis=1)`"
   ]
  },
  {
   "cell_type": "code",
   "execution_count": 81,
   "id": "78e49252",
   "metadata": {},
   "outputs": [
    {
     "name": "stdout",
     "output_type": "stream",
     "text": [
      "[[ 4  5  6]\n",
      " [ 7  8  9]\n",
      " [10 11 12]]\n",
      "[ 4  7 10]\n",
      "[ 4  7 10]\n"
     ]
    }
   ],
   "source": [
    "print(ndarr_13)\n",
    "\n",
    "print(ndarr_13.min(axis=1))\n",
    "\n",
    "print(np.min(ndarr_13, axis=1))"
   ]
  },
  {
   "cell_type": "markdown",
   "id": "4e769c37",
   "metadata": {},
   "source": [
    "<br>\n",
    "\n",
    "- 최소값 > 각 세로축(col)별 최소값 찾기 > `axis=0`\n",
    "\n",
    "- return값 > \\[0번 col min, 1번 col min, ... n번 col min\\]\n",
    "\n",
    "- `ndarr.min(axis=0)`\n",
    "\n",
    "- `np.min(ndarr, axis=0)`"
   ]
  },
  {
   "cell_type": "code",
   "execution_count": 82,
   "id": "58189512",
   "metadata": {},
   "outputs": [
    {
     "name": "stdout",
     "output_type": "stream",
     "text": [
      "[1 2 3]\n",
      "[1 2 3]\n"
     ]
    }
   ],
   "source": [
    "print(ndarr_10.min(axis=0))\n",
    "\n",
    "print(np.min(ndarr_10, axis=0))"
   ]
  },
  {
   "cell_type": "code",
   "execution_count": null,
   "id": "1ebf5a7a",
   "metadata": {},
   "outputs": [],
   "source": [
    "### 3.3. 최대값"
   ]
  },
  {
   "cell_type": "markdown",
   "id": "a0ce853b",
   "metadata": {},
   "source": [
    "<br>\n",
    "\n",
    "- 최대값 > 전체 기준"
   ]
  },
  {
   "cell_type": "markdown",
   "id": "1b199387",
   "metadata": {},
   "source": [
    "<br>\n",
    "\n",
    "- 최대값 > 가로축(row) 기준 > `axis=1`"
   ]
  },
  {
   "cell_type": "markdown",
   "id": "04d5a0fd",
   "metadata": {},
   "source": [
    "<br>\n",
    "\n",
    "- 최대값 > 세로축(col) 기준 > `axis=0`"
   ]
  },
  {
   "cell_type": "markdown",
   "id": "f7effb0e",
   "metadata": {},
   "source": [
    "### 3.3. 누적 합계"
   ]
  },
  {
   "cell_type": "markdown",
   "id": "77d86421",
   "metadata": {},
   "source": [
    "<br>\n",
    "\n",
    "- 누적 합계 > 전체 기준\n",
    "\n",
    "1. `ndarray` method: `ndarr.cumsum()`\n",
    "\n",
    "2. numpy method: `np.cumsum()`\n",
    "   \n",
    "    \\> return: 누적합 요소를 가진 `ndarray`"
   ]
  },
  {
   "cell_type": "code",
   "execution_count": 77,
   "id": "16b9757e",
   "metadata": {},
   "outputs": [
    {
     "name": "stdout",
     "output_type": "stream",
     "text": [
      "\n",
      "    type : <class 'numpy.ndarray'>\n",
      "    shape : (3, 4)\n",
      "    dimension : 2\n",
      "    dtype : int32\n",
      "    data : \n",
      " [[10 11 12 13]\n",
      " [14 15 16 17]\n",
      " [18 19 20 21]]\n",
      "\n",
      "186\n",
      "\n",
      "[ 10  21  33  46  60  75  91 108 126 145 165 186]\n"
     ]
    }
   ],
   "source": [
    "np_print(ndarr_21)\n",
    "print()\n",
    "\n",
    "print(ndarr_21.sum())\n",
    "print()\n",
    "\n",
    "print(ndarr_21.cumsum())"
   ]
  },
  {
   "cell_type": "markdown",
   "id": "cd8dd73b",
   "metadata": {},
   "source": [
    "- 누적 합계: 가로축(row) 기준\n",
    "\n",
    "1. `ndarray` method: `ndarr.cumsum(axis=1)`\n",
    "\n",
    "2. numpy method: `np.cumsum(ndarr, axis=1)`"
   ]
  },
  {
   "cell_type": "code",
   "execution_count": 80,
   "id": "c3f4f8b5",
   "metadata": {},
   "outputs": [
    {
     "data": {
      "text/plain": [
       "array([[1, 2, 3],\n",
       "       [4, 5, 6],\n",
       "       [7, 8, 9]])"
      ]
     },
     "execution_count": 80,
     "metadata": {},
     "output_type": "execute_result"
    }
   ],
   "source": [
    "ndarr_10"
   ]
  },
  {
   "cell_type": "code",
   "execution_count": 78,
   "id": "1665f082",
   "metadata": {},
   "outputs": [
    {
     "data": {
      "text/plain": [
       "array([[ 1,  2,  3],\n",
       "       [ 5,  7,  9],\n",
       "       [12, 15, 18]], dtype=int32)"
      ]
     },
     "execution_count": 78,
     "metadata": {},
     "output_type": "execute_result"
    }
   ],
   "source": [
    "ndarr_10.cumsum(axis=1)"
   ]
  },
  {
   "cell_type": "code",
   "execution_count": 79,
   "id": "b1973273",
   "metadata": {},
   "outputs": [
    {
     "data": {
      "text/plain": [
       "array([[ 1,  2,  3],\n",
       "       [ 5,  7,  9],\n",
       "       [12, 15, 18]], dtype=int32)"
      ]
     },
     "execution_count": 79,
     "metadata": {},
     "output_type": "execute_result"
    }
   ],
   "source": [
    "np.cumsum(ndarr_10, axis=1)"
   ]
  },
  {
   "cell_type": "markdown",
   "id": "ab9fe789",
   "metadata": {},
   "source": [
    "### 3.4. 평균"
   ]
  },
  {
   "cell_type": "markdown",
   "id": "6966c2da",
   "metadata": {},
   "source": [
    "<br>\n",
    "\n",
    "- 평균: 전체 기준\n",
    "    \n",
    "1. `ndarray` method: `ndarr.mean()`\n",
    "\n",
    "2. `numpy` method: `np.mean(ndarr)`"
   ]
  },
  {
   "cell_type": "markdown",
   "id": "0f97a59b",
   "metadata": {},
   "source": [
    "- 평균: 가로축(row) 기준 > `axis=1`\n",
    "\n",
    "1. `ndarray` method: `ndarr.mean(axis=1)`\n",
    "\n",
    "2. `numpy` method: `np.mean(ndarr, axis=1)`\n",
    "\n",
    "- return > `[row 0 mean, row 1 mean, ..., row n mean]`"
   ]
  },
  {
   "cell_type": "code",
   "execution_count": 85,
   "id": "887261b3",
   "metadata": {},
   "outputs": [
    {
     "name": "stdout",
     "output_type": "stream",
     "text": [
      "[[10 11 12 13]\n",
      " [14 15 16 17]\n",
      " [18 19 20 21]]\n",
      "[11.5 15.5 19.5]\n",
      "[11.5 15.5 19.5]\n"
     ]
    }
   ],
   "source": [
    "print(ndarr_21)\n",
    "\n",
    "print(ndarr_21.mean(axis=1))\n",
    "\n",
    "print(np.mean(ndarr_21, axis=1))"
   ]
  },
  {
   "cell_type": "markdown",
   "id": "48bc9005",
   "metadata": {},
   "source": [
    "<br>\n",
    "\n",
    "- 평균: 세로축(col) 기준 > `axis=0`\n",
    "    \n",
    "- `ndarr.mean(axis=0)`\n",
    "\n",
    "- `np.mean(ndarr, axis=0)`"
   ]
  },
  {
   "cell_type": "code",
   "execution_count": 86,
   "id": "d21c8f6f",
   "metadata": {},
   "outputs": [
    {
     "name": "stdout",
     "output_type": "stream",
     "text": [
      "[[ 4  5  6]\n",
      " [ 7  8  9]\n",
      " [10 11 12]]\n",
      "[7. 8. 9.]\n",
      "[7. 8. 9.]\n"
     ]
    }
   ],
   "source": [
    "print(ndarr_13)\n",
    "\n",
    "print(ndarr_13.mean(axis=0))\n",
    "\n",
    "print(np.mean(ndarr_13, axis=0))"
   ]
  },
  {
   "cell_type": "markdown",
   "id": "83ae7e7a",
   "metadata": {},
   "source": [
    "### 3.5. 중앙값"
   ]
  },
  {
   "cell_type": "markdown",
   "id": "17552d54",
   "metadata": {},
   "source": [
    "- 중앙값: 전체 기준\n",
    "\n",
    "- `numpy` method: `np.median()` > `ndarr.mean()` 사용 불가\n",
    "\n",
    "- 중앙값 > ((첫 index + 끝 index) / 2) index value\n",
    "\n",
    "- 짝수 index 중앙값 > index $n.5$ > (index $n$ value) + (index $n+1$ value) $ / 2$"
   ]
  },
  {
   "cell_type": "markdown",
   "id": "150e0135",
   "metadata": {},
   "source": [
    "<br>\n",
    "\n",
    "- 중앙값: 가로축(row) 기준 > exis=1\n",
    "\n",
    "- `np.median(ndarr, exis=1)`"
   ]
  },
  {
   "cell_type": "code",
   "execution_count": 89,
   "id": "df1f1347",
   "metadata": {},
   "outputs": [
    {
     "name": "stdout",
     "output_type": "stream",
     "text": [
      "[[ 4  5  6]\n",
      " [ 7  8  9]\n",
      " [10 11 12]]\n",
      "[ 5.  8. 11.]\n"
     ]
    }
   ],
   "source": [
    "print(ndarr_13)\n",
    "\n",
    "print(np.median(ndarr_13, axis=1))"
   ]
  },
  {
   "cell_type": "markdown",
   "id": "a5b904d9",
   "metadata": {},
   "source": [
    "### 3.6. 상관계수"
   ]
  },
  {
   "cell_type": "markdown",
   "id": "0c15f99f",
   "metadata": {},
   "source": [
    "- 상관계수: 두 data간의 상관관계 (positive and negative)를 수치화 $-1 \\leq x \\leq 1$\n",
    "\n",
    "- `numpy` method: `np.corrcoef(ndarr1, ndarr2)`"
   ]
  },
  {
   "cell_type": "markdown",
   "id": "4ee66da5",
   "metadata": {},
   "source": [
    "<br>\n",
    "\n",
    "e.g.   \n",
    "**성적** 에 대해 _사교육비_ 와 _공부시간_ 의 증감추세선의 관계 == 상관관계    \n",
    "data **A** 에 대해 _B_ data set과 _C_ data set의 영향력의 관계 == 상관관계"
   ]
  },
  {
   "cell_type": "markdown",
   "id": "b45bab93",
   "metadata": {},
   "source": [
    "<br>\n",
    "\n",
    "- 서로 다른 배열 2개를 활용한 상관계수 matrix\n",
    "\n",
    "- return > 대칭형 matrix > 대각성분을 경계로 상-하위 삼각형 중 하나만 따져도 됨\n",
    "\n",
    "- 우하향 대각선 > 자기 자신과의 상관관계"
   ]
  },
  {
   "cell_type": "code",
   "execution_count": 96,
   "id": "2b2ec0e2",
   "metadata": {},
   "outputs": [
    {
     "name": "stdout",
     "output_type": "stream",
     "text": [
      "[[1.         0.72615657]\n",
      " [0.72615657 1.        ]] \n",
      "\n",
      "[7, 9, 2, 4, 1] \n",
      "\n",
      "[[ 1.         -0.77648425]\n",
      " [-0.77648425  1.        ]]\n"
     ]
    }
   ],
   "source": [
    "x = [15, 12, 27, 37, 29]\n",
    "y = [1, 4, 2, 9, 7]\n",
    "\n",
    "\n",
    "print(np.corrcoef(x, y), \"\\n\")\n",
    "\n",
    "y.reverse()\n",
    "print(y, \"\\n\")\n",
    "\n",
    "print(np.corrcoef(x, y))"
   ]
  },
  {
   "cell_type": "markdown",
   "id": "8d0c7d16",
   "metadata": {},
   "source": [
    "- (상관계수) $\\le 0.3$: 의미 없는 두 data\n",
    "- (상관계수) $\\ge 0.9$: 같은 data set인지 check 필요"
   ]
  },
  {
   "cell_type": "markdown",
   "id": "094cd3f9",
   "metadata": {},
   "source": [
    "<br>\n",
    "\n",
    "- `numpy` > 3개 data set을 이용한 상관관계 비교 불가능"
   ]
  },
  {
   "cell_type": "markdown",
   "id": "6742344c",
   "metadata": {},
   "source": [
    "<br>\n",
    "\n",
    "### 3.7. 표준편차\n",
    "\n",
    "1. `ndarray` method: `ndarr.std()`\n",
    "\n",
    "2. `numpy` method: `np.std(ndarr)`"
   ]
  },
  {
   "cell_type": "code",
   "execution_count": 98,
   "id": "ad8f90eb",
   "metadata": {},
   "outputs": [
    {
     "data": {
      "text/plain": [
       "array([[1, 2, 3],\n",
       "       [4, 5, 6],\n",
       "       [7, 8, 9]])"
      ]
     },
     "execution_count": 98,
     "metadata": {},
     "output_type": "execute_result"
    }
   ],
   "source": [
    "ndarr_10"
   ]
  },
  {
   "cell_type": "markdown",
   "id": "41c43108",
   "metadata": {},
   "source": [
    "<br>\n",
    "\n",
    "- 전체 표준편차"
   ]
  },
  {
   "cell_type": "code",
   "execution_count": 99,
   "id": "01e107eb",
   "metadata": {},
   "outputs": [
    {
     "name": "stdout",
     "output_type": "stream",
     "text": [
      "2.581988897471611\n",
      "2.581988897471611\n"
     ]
    }
   ],
   "source": [
    "print(ndarr_10.std())\n",
    "\n",
    "print(np.std(ndarr_10))"
   ]
  },
  {
   "cell_type": "markdown",
   "id": "df8dd168",
   "metadata": {},
   "source": [
    "<br>\n",
    "\n",
    "- 가로축(row, x축) > `axis=1`"
   ]
  },
  {
   "cell_type": "code",
   "execution_count": 103,
   "id": "2e16b073",
   "metadata": {},
   "outputs": [
    {
     "name": "stdout",
     "output_type": "stream",
     "text": [
      "[0.81649658 0.81649658 0.81649658]\n",
      "[0.81649658 0.81649658 0.81649658]\n"
     ]
    }
   ],
   "source": [
    "print(ndarr_10.std(axis=1))\n",
    "\n",
    "print(np.std(ndarr_10, axis=1))"
   ]
  },
  {
   "cell_type": "markdown",
   "id": "d7c95730",
   "metadata": {},
   "source": [
    "<br>\n",
    "\n",
    "- 세로축(col, y축) > `axis=0`"
   ]
  },
  {
   "cell_type": "markdown",
   "id": "77059fff",
   "metadata": {},
   "source": [
    "#### 3.8. 브로드캐스팅(BroadCasting)\n",
    "\n",
    "- 서로 다른 구조(shape)를 가진 배열에 대해 연산을 수행할 때   \n",
    "\\> 구조(shape)를 맞추는 과정\n",
    "\n",
    "- 배열과 스칼라값 간의 연산 or 배열과 배열 간의 연산\n",
    "\n",
    "- BroadCasting Rule: 두 배열 사이 관계: 축의 길이($y = row, x = col$)    \n",
    "\\> 일치 or 하나의 길이 == 1\n",
    "\n",
    "<img src='img/broadcast.png' width='600' height='400' align='left'>"
   ]
  },
  {
   "cell_type": "markdown",
   "id": "fbb70a35",
   "metadata": {},
   "source": [
    "- **배열과 값(single value, scalar)**\n",
    "\n",
    "   \\> scalar를 배열의 구조와 동일한 배열로 변형하여 연산 수행"
   ]
  },
  {
   "cell_type": "markdown",
   "id": "ffeacad9",
   "metadata": {},
   "source": [
    "<br>\n",
    "\n",
    "- 구조가 다른 배열간의 연산\n",
    "\n",
    "- `ndarr_10` 배열의 모든 요소에 각각 10씩 더하기"
   ]
  },
  {
   "cell_type": "code",
   "execution_count": 105,
   "id": "9cb1c586",
   "metadata": {},
   "outputs": [
    {
     "data": {
      "text/plain": [
       "array([[11, 12, 13],\n",
       "       [14, 15, 16],\n",
       "       [17, 18, 19]])"
      ]
     },
     "execution_count": 105,
     "metadata": {},
     "output_type": "execute_result"
    }
   ],
   "source": [
    "ndarr_10 + 10"
   ]
  },
  {
   "cell_type": "markdown",
   "id": "ee1881b0",
   "metadata": {},
   "source": [
    "<br>\n",
    "\n",
    "- scalar > 배열 변형\n",
    "\n",
    "- 3행 * 3열 shape: 모든 요소가 10인 배열"
   ]
  },
  {
   "cell_type": "code",
   "execution_count": 107,
   "id": "d4f7dea2",
   "metadata": {
    "scrolled": true
   },
   "outputs": [
    {
     "name": "stdout",
     "output_type": "stream",
     "text": [
      "\n",
      "    type : <class 'numpy.ndarray'>\n",
      "    shape : (3, 3)\n",
      "    dimension : 2\n",
      "    dtype : int32\n",
      "    data : \n",
      " [[10 10 10]\n",
      " [10 10 10]\n",
      " [10 10 10]]\n"
     ]
    }
   ],
   "source": [
    "scalar_ndarr = np.full_like(ndarr_10, 10)\n",
    "\n",
    "np_print(scalar_ndarr)"
   ]
  },
  {
   "cell_type": "code",
   "execution_count": 108,
   "id": "43242f7c",
   "metadata": {},
   "outputs": [
    {
     "data": {
      "text/plain": [
       "array([[11, 12, 13],\n",
       "       [14, 15, 16],\n",
       "       [17, 18, 19]])"
      ]
     },
     "execution_count": 108,
     "metadata": {},
     "output_type": "execute_result"
    }
   ],
   "source": [
    "ndarr_10 + scalar_ndarr"
   ]
  },
  {
   "cell_type": "markdown",
   "id": "d94f7484",
   "metadata": {},
   "source": [
    "- **서로 다른 구조의 배열**\n",
    "\n",
    "- 행, 열의 최대 길이(col, row)를 기준으로 구조 생성한 배열로 변형해 연산 수행\n",
    "\n",
    "- 확장된 행, 열에 대해 기존 배열과 동일한 데이터로 구성"
   ]
  },
  {
   "cell_type": "markdown",
   "id": "d7f2fcd6",
   "metadata": {},
   "source": [
    "<br>\n",
    "\n",
    "- 1 * 4, value = 1 ~ 4, ndarr_x\n",
    "\n",
    "- 4 * 1, value = 1 ~ 4, ndarr_y"
   ]
  },
  {
   "cell_type": "code",
   "execution_count": 110,
   "id": "93c5bfa7",
   "metadata": {},
   "outputs": [],
   "source": [
    "ndarr_x = np.arange(1, 5).reshape(1, 4)\n",
    "\n",
    "ndarr_y = np.arange(1, 5).reshape(4, 1)"
   ]
  },
  {
   "cell_type": "code",
   "execution_count": 111,
   "id": "1b4115d4",
   "metadata": {},
   "outputs": [
    {
     "name": "stdout",
     "output_type": "stream",
     "text": [
      "\n",
      "    type : <class 'numpy.ndarray'>\n",
      "    shape : (1, 4)\n",
      "    dimension : 2\n",
      "    dtype : int32\n",
      "    data : \n",
      " [[1 2 3 4]]\n",
      "\n",
      "    type : <class 'numpy.ndarray'>\n",
      "    shape : (4, 1)\n",
      "    dimension : 2\n",
      "    dtype : int32\n",
      "    data : \n",
      " [[1]\n",
      " [2]\n",
      " [3]\n",
      " [4]]\n"
     ]
    }
   ],
   "source": [
    "np_print(ndarr_x)\n",
    "\n",
    "np_print(ndarr_y)"
   ]
  },
  {
   "cell_type": "markdown",
   "id": "099217a7",
   "metadata": {},
   "source": [
    "<br>\n",
    "\n",
    "- 배열 `ndarr_x`를 동일한 값, 4행으로 확장한 새로운 배열 생성\n",
    "\n",
    "- 행 증가 방향(y축) 배열 추가(세로길이 증가) method: `np.append(ndarr1, ndarr2, axis=0)`"
   ]
  },
  {
   "cell_type": "code",
   "execution_count": 116,
   "id": "5f9e060c",
   "metadata": {},
   "outputs": [
    {
     "name": "stdout",
     "output_type": "stream",
     "text": [
      "\n",
      "    type : <class 'numpy.ndarray'>\n",
      "    shape : (2, 4)\n",
      "    dimension : 2\n",
      "    dtype : int32\n",
      "    data : \n",
      " [[1 2 3 4]\n",
      " [1 2 3 4]]\n"
     ]
    }
   ],
   "source": [
    "new_x = np.append(ndarr_x, ndarr_x, axis=0)\n",
    "\n",
    "np_print(new_x)"
   ]
  },
  {
   "cell_type": "markdown",
   "id": "c8b1b7e0",
   "metadata": {},
   "source": [
    "<br>\n",
    "\n",
    "- 배열을 4행으로 확장하기"
   ]
  },
  {
   "cell_type": "code",
   "execution_count": 117,
   "id": "0823e3ec",
   "metadata": {},
   "outputs": [
    {
     "name": "stdout",
     "output_type": "stream",
     "text": [
      "\n",
      "    type : <class 'numpy.ndarray'>\n",
      "    shape : (4, 4)\n",
      "    dimension : 2\n",
      "    dtype : int32\n",
      "    data : \n",
      " [[1 2 3 4]\n",
      " [1 2 3 4]\n",
      " [1 2 3 4]\n",
      " [1 2 3 4]]\n"
     ]
    }
   ],
   "source": [
    "new_x = np.append(new_x, new_x, axis=0)\n",
    "\n",
    "np_print(new_x)"
   ]
  },
  {
   "cell_type": "markdown",
   "id": "52b0e4ad",
   "metadata": {},
   "source": [
    "<br>\n",
    "\n",
    "- 배열 `ndarr_y` > 위와 동일한 수순으로 4열까지 확장 > `axis=1`"
   ]
  },
  {
   "cell_type": "code",
   "execution_count": 118,
   "id": "a526423a",
   "metadata": {},
   "outputs": [
    {
     "name": "stdout",
     "output_type": "stream",
     "text": [
      "\n",
      "    type : <class 'numpy.ndarray'>\n",
      "    shape : (4, 4)\n",
      "    dimension : 2\n",
      "    dtype : int32\n",
      "    data : \n",
      " [[1 1 1 1]\n",
      " [2 2 2 2]\n",
      " [3 3 3 3]\n",
      " [4 4 4 4]]\n"
     ]
    }
   ],
   "source": [
    "new_y = np.append(ndarr_y, ndarr_y, axis=1)\n",
    "new_y = np.append(new_y, new_y, axis=1)\n",
    "\n",
    "np_print(new_y)"
   ]
  },
  {
   "cell_type": "markdown",
   "id": "7809dbde",
   "metadata": {},
   "source": [
    "<br>\n",
    "\n",
    "(1 * 4) + (4 * 1) vs. (4 * 4) + (4 * 4)"
   ]
  },
  {
   "cell_type": "code",
   "execution_count": 119,
   "id": "d8d15152",
   "metadata": {},
   "outputs": [
    {
     "name": "stdout",
     "output_type": "stream",
     "text": [
      "\n",
      "    type : <class 'numpy.ndarray'>\n",
      "    shape : (4, 4)\n",
      "    dimension : 2\n",
      "    dtype : int32\n",
      "    data : \n",
      " [[2 3 4 5]\n",
      " [3 4 5 6]\n",
      " [4 5 6 7]\n",
      " [5 6 7 8]]\n"
     ]
    }
   ],
   "source": [
    "np_print(ndarr_x + ndarr_y)"
   ]
  },
  {
   "cell_type": "code",
   "execution_count": 120,
   "id": "641a5c15",
   "metadata": {},
   "outputs": [
    {
     "name": "stdout",
     "output_type": "stream",
     "text": [
      "\n",
      "    type : <class 'numpy.ndarray'>\n",
      "    shape : (4, 4)\n",
      "    dimension : 2\n",
      "    dtype : int32\n",
      "    data : \n",
      " [[2 3 4 5]\n",
      " [3 4 5 6]\n",
      " [4 5 6 7]\n",
      " [5 6 7 8]]\n"
     ]
    }
   ],
   "source": [
    "np_print(new_x + new_y)"
   ]
  },
  {
   "cell_type": "code",
   "execution_count": null,
   "id": "3143b6c1",
   "metadata": {},
   "outputs": [],
   "source": []
  }
 ],
 "metadata": {
  "kernelspec": {
   "display_name": "Python 3 (ipykernel)",
   "language": "python",
   "name": "python3"
  },
  "language_info": {
   "codemirror_mode": {
    "name": "ipython",
    "version": 3
   },
   "file_extension": ".py",
   "mimetype": "text/x-python",
   "name": "python",
   "nbconvert_exporter": "python",
   "pygments_lexer": "ipython3",
   "version": "3.9.12"
  }
 },
 "nbformat": 4,
 "nbformat_minor": 5
}
