{
 "cells": [
  {
   "cell_type": "markdown",
   "id": "22972db0",
   "metadata": {},
   "source": [
    "## > Python Operator 파이썬 연산자\n",
    "\n",
    "- 산술 연산: +, -, *, /, //(몫), %(나머지)\n",
    "- 비교 연산: ==, !=, <=, >=, <, >\n",
    "- 논리 연산: and, or\n",
    "- 할당 연산: =, +=, -=, *=, /=, %="
   ]
  },
  {
   "cell_type": "markdown",
   "id": "0276505f",
   "metadata": {},
   "source": [
    "### 1. 산술 연산자 : 숫자를 계산하기 위한 문법"
   ]
  },
  {
   "cell_type": "code",
   "execution_count": 14,
   "id": "296110fe",
   "metadata": {},
   "outputs": [
    {
     "data": {
      "text/plain": [
       "13"
      ]
     },
     "execution_count": 14,
     "metadata": {},
     "output_type": "execute_result"
    }
   ],
   "source": [
    "# 덧셈: +\n",
    "\n",
    "# 정수 + 정수 == 정수\n",
    "10 + 3"
   ]
  },
  {
   "cell_type": "code",
   "execution_count": 15,
   "id": "b286ca11",
   "metadata": {},
   "outputs": [
    {
     "data": {
      "text/plain": [
       "15.700000000000001"
      ]
     },
     "execution_count": 15,
     "metadata": {},
     "output_type": "execute_result"
    }
   ],
   "source": [
    "# 실수 + 실수 == 실수\n",
    "13.3 + 2.4\n",
    "\n",
    "#floating point 문제로 정확한 표기 불가능"
   ]
  },
  {
   "cell_type": "code",
   "execution_count": 16,
   "id": "ec18f987",
   "metadata": {},
   "outputs": [
    {
     "data": {
      "text/plain": [
       "13.4"
      ]
     },
     "execution_count": 16,
     "metadata": {},
     "output_type": "execute_result"
    }
   ],
   "source": [
    "# 정수 + 실수 == 실수 (type promotion)\n",
    "10 + 3.4"
   ]
  },
  {
   "cell_type": "code",
   "execution_count": 17,
   "id": "604edaf6",
   "metadata": {},
   "outputs": [
    {
     "data": {
      "text/plain": [
       "-4.7"
      ]
     },
     "execution_count": 17,
     "metadata": {},
     "output_type": "execute_result"
    }
   ],
   "source": [
    "# 뺄셈: -\n",
    "\n",
    "# jupyter notebook은 print() 함수를 사용하지 않을 시 last line의 결과만 출력한다.\n",
    "# 모든 line의 결과를 화면에 보여주려면 매 line마다 print() 함수를 사용해야 한다.\n",
    "10 - 3\n",
    "3 - 7.7"
   ]
  },
  {
   "cell_type": "code",
   "execution_count": 18,
   "id": "1f57eb16",
   "metadata": {},
   "outputs": [
    {
     "name": "stdout",
     "output_type": "stream",
     "text": [
      "7\n",
      "-4.7\n"
     ]
    }
   ],
   "source": [
    "print(10 - 3)\n",
    "print(3 - 7.7)"
   ]
  },
  {
   "cell_type": "code",
   "execution_count": 19,
   "id": "fa91376c",
   "metadata": {},
   "outputs": [
    {
     "name": "stdout",
     "output_type": "stream",
     "text": [
      "1.0\n",
      "3.5\n"
     ]
    }
   ],
   "source": [
    "# 나눗셈: /\n",
    "\n",
    "# Python만 정수 / 정수 > 실수 출력\n",
    "# Java, C++등 대다수 언어는 정수 / 정수 > 정수 출력\n",
    "print(3 / 3)\n",
    "print(7 / 2)"
   ]
  },
  {
   "cell_type": "code",
   "execution_count": 20,
   "id": "f1013072",
   "metadata": {},
   "outputs": [
    {
     "name": "stdout",
     "output_type": "stream",
     "text": [
      "12\n",
      "-15\n"
     ]
    }
   ],
   "source": [
    "# 곱셈: *\n",
    "\n",
    "print(3 * 4)\n",
    "print(-3 * 5)"
   ]
  },
  {
   "cell_type": "code",
   "execution_count": 21,
   "id": "07717508",
   "metadata": {},
   "outputs": [
    {
     "name": "stdout",
     "output_type": "stream",
     "text": [
      "-17\n",
      "-5\n"
     ]
    }
   ],
   "source": [
    "# Python에서도 사칙연산의 우선순위를 괄호()로 조절할 수 있다\n",
    "print(3 - 4 * 5)\n",
    "print((3 - 4) * 5)\n",
    "\n",
    "# 사칙연산에는 원래 덧셈+, 뺄셈-밖에 없었다\n",
    "# 덧셈을 줄여서 곱셈*으로 표현했기 때문에 곱셈을 먼저 풀어서 계산해야 한다"
   ]
  },
  {
   "cell_type": "code",
   "execution_count": 22,
   "id": "a007d287",
   "metadata": {},
   "outputs": [
    {
     "name": "stdout",
     "output_type": "stream",
     "text": [
      "1.25\n",
      "1\n"
     ]
    }
   ],
   "source": [
    "# 정수 몫 반환: //\n",
    "\n",
    "print(5 / 4)\n",
    "print(5 // 4)"
   ]
  },
  {
   "cell_type": "code",
   "execution_count": 23,
   "id": "a598b54b",
   "metadata": {},
   "outputs": [
    {
     "name": "stdout",
     "output_type": "stream",
     "text": [
      "-1.25\n",
      "-2\n"
     ]
    }
   ],
   "source": [
    "# 나눗셈의 결과보다 작은 정수중에 가장 큰 정수\n",
    "print(-5 / 4)\n",
    "print(-5 // 4)\n",
    "# 소수부 버림 아님 주의!"
   ]
  },
  {
   "cell_type": "code",
   "execution_count": 24,
   "id": "05dfd93c",
   "metadata": {},
   "outputs": [
    {
     "name": "stdout",
     "output_type": "stream",
     "text": [
      "1\n",
      "3\n"
     ]
    }
   ],
   "source": [
    "# 정수 몫을 구하고 나머지 반환: %\n",
    "\n",
    "print(5 % 4)\n",
    "print(-5 % 4)\n",
    "\n",
    "# 음수의 나눗셈에는 사용 X"
   ]
  },
  {
   "cell_type": "code",
   "execution_count": 25,
   "id": "248560a1",
   "metadata": {},
   "outputs": [
    {
     "name": "stdout",
     "output_type": "stream",
     "text": [
      "8\n",
      "1.4142135623730951\n"
     ]
    }
   ],
   "source": [
    "# 지수: **\n",
    "\n",
    "print(2 ** 3)\n",
    "# 제곱근, 세제곱근등도 계산 가능\n",
    "print(2 ** 0.5)"
   ]
  },
  {
   "cell_type": "markdown",
   "id": "6b151704",
   "metadata": {},
   "source": [
    "### 2. 비교 연산자: 자료를 비교하기 위한 문법\n",
    "    - 비교 연산의 결과는 숫자type이 아닌 bool type\n",
    "    \n",
    "#### bool type\n",
    "    1. True: !=0인 숫자, 참인 조건식 등\n",
    "    2. False: 0, 거짓인 조건식 등\n",
    "    (Python은 T, F 대문자 표기)\n",
    "    \n",
    "- 값에 대한 비교: ==, !=\n",
    "- 크기에 대한 비교: >, <, >=, <="
   ]
  },
  {
   "cell_type": "code",
   "execution_count": 26,
   "id": "c59ee61d",
   "metadata": {},
   "outputs": [
    {
     "name": "stdout",
     "output_type": "stream",
     "text": [
      "True\n",
      "<class 'int'> <class 'float'>\n"
     ]
    }
   ],
   "source": [
    "# 두 값이 같은 지 비교: ==\n",
    "\n",
    "print(1 == 1.0)\n",
    "# (z == z.0) > 비교\"연산\"자 > type promotion 발생 > True 출력 \n",
    "print(type(1), type(1.0))\n",
    "# z와 z.0의 type은 다름 (z는 정수)"
   ]
  },
  {
   "cell_type": "code",
   "execution_count": 27,
   "id": "9e581901",
   "metadata": {},
   "outputs": [
    {
     "data": {
      "text/plain": [
       "True"
      ]
     },
     "execution_count": 27,
     "metadata": {},
     "output_type": "execute_result"
    }
   ],
   "source": [
    "# 두 값이 다른 지 비교: !=\n",
    "\n",
    "# 두 값이 다르면 > True, 두 값이 같으면 > False\n",
    "type(0) != type(0.0)"
   ]
  },
  {
   "cell_type": "code",
   "execution_count": 28,
   "id": "b0ca8c02",
   "metadata": {},
   "outputs": [
    {
     "data": {
      "text/plain": [
       "False"
      ]
     },
     "execution_count": 28,
     "metadata": {},
     "output_type": "execute_result"
    }
   ],
   "source": [
    "# 두 값의 크기를 비교: >=, <=, <, >\n",
    "\n",
    "2 >= 3"
   ]
  },
  {
   "cell_type": "code",
   "execution_count": 29,
   "id": "754e2cef",
   "metadata": {},
   "outputs": [
    {
     "name": "stdout",
     "output_type": "stream",
     "text": [
      "True\n",
      "True\n",
      "\n",
      "\n",
      "True\n",
      "False\n",
      "\n",
      "\n",
      "<class 'bool'> <class 'str'>\n"
     ]
    }
   ],
   "source": [
    "#True(bool type) vs \"True\"(str type)\n",
    "print(True)\n",
    "print(\"True\")\n",
    "print(\"\\n\")\n",
    "\n",
    "print((2 == 2) == True)\n",
    "print((2 == 2) == \"True\")\n",
    "print(\"\\n\")\n",
    "\n",
    "print(type(True), type(\"True\"))"
   ]
  },
  {
   "cell_type": "markdown",
   "id": "a019bd7b",
   "metadata": {},
   "source": [
    "### 3. 논리연산자\n",
    "    - 여러 개의 조건식을 활용하기 위한 연산자\n",
    "    - bool type 결과 반환 > True, False"
   ]
  },
  {
   "cell_type": "code",
   "execution_count": 30,
   "id": "f6835940",
   "metadata": {},
   "outputs": [
    {
     "name": "stdout",
     "output_type": "stream",
     "text": [
      "True\n",
      "False\n",
      "False\n"
     ]
    }
   ],
   "source": [
    "# and 연산자: (조건식1) and (조건식2) \n",
    "# > 둘 다 True > True\n",
    "# > 하나라도 False > False\n",
    "\n",
    "print(10 < 12 and 0 > -3) # True and True > True\n",
    "print(10 < 12 and 0 < -3) # True and False > False\n",
    "print(10 > 12 and 0 < -3) # False and False > False"
   ]
  },
  {
   "cell_type": "code",
   "execution_count": 31,
   "id": "52aca818",
   "metadata": {},
   "outputs": [
    {
     "name": "stdout",
     "output_type": "stream",
     "text": [
      "True\n",
      "True\n",
      "False\n"
     ]
    }
   ],
   "source": [
    "# or 연산자: (조건식1) or (조건식2)\n",
    "# > 하나라도 True > True\n",
    "# > 둘 다 False > False\n",
    "\n",
    "print(10 < 12 or 0 > -3) # True or True > True\n",
    "print(10 < 12 or 0 < -3) # True or False > True\n",
    "print(10 > 12 or 0 < -3) # False or False > False"
   ]
  },
  {
   "cell_type": "code",
   "execution_count": 32,
   "id": "5300b868",
   "metadata": {},
   "outputs": [
    {
     "name": "stdout",
     "output_type": "stream",
     "text": [
      "True\n",
      "False\n",
      "False\n",
      "True\n"
     ]
    }
   ],
   "source": [
    "# 자료의 참, 거짓 판단 함수 > bool(자료)\n",
    "\n",
    "print(bool(10))\n",
    "print(bool(0))\n",
    "print(bool(0.0))\n",
    "print(bool(-23))\n",
    "# data != 0 > True"
   ]
  },
  {
   "cell_type": "markdown",
   "id": "bd626dd5",
   "metadata": {},
   "source": [
    "### 4. 할당연산자\n",
    "    - 변수 할당\n",
    "    - 누적 연산"
   ]
  },
  {
   "cell_type": "code",
   "execution_count": 33,
   "id": "e787e199",
   "metadata": {},
   "outputs": [
    {
     "data": {
      "text/plain": [
       "10"
      ]
     },
     "execution_count": 33,
     "metadata": {},
     "output_type": "execute_result"
    }
   ],
   "source": [
    "# 변수명(l-value)에 변수값(r-value)를 할당(==초기화==저장)하는 연산자: =\n",
    "\n",
    "# x에 10을 할당/ 초기화/ 저장\n",
    "x = 10\n",
    "x"
   ]
  },
  {
   "cell_type": "code",
   "execution_count": 34,
   "id": "d8b865af",
   "metadata": {},
   "outputs": [
    {
     "data": {
      "text/plain": [
       "10"
      ]
     },
     "execution_count": 34,
     "metadata": {},
     "output_type": "execute_result"
    }
   ],
   "source": [
    "# 숫자형의 누적 합계: +=\n",
    "\n",
    "# 변수 result 에 누적합 저장\n",
    "result = 0\n",
    "\n",
    "result = result + x\n",
    "result"
   ]
  },
  {
   "cell_type": "code",
   "execution_count": 35,
   "id": "3017b0c0",
   "metadata": {},
   "outputs": [
    {
     "data": {
      "text/plain": [
       "10"
      ]
     },
     "execution_count": 35,
     "metadata": {},
     "output_type": "execute_result"
    }
   ],
   "source": [
    "result = 0\n",
    "\n",
    "result += x\n",
    "result\n",
    "# (a = a + b) == (a += b)"
   ]
  },
  {
   "cell_type": "code",
   "execution_count": 36,
   "id": "6f817708",
   "metadata": {},
   "outputs": [
    {
     "data": {
      "text/plain": [
       "5"
      ]
     },
     "execution_count": 36,
     "metadata": {},
     "output_type": "execute_result"
    }
   ],
   "source": [
    "# 숫자형의 누적 차: -=\n",
    "\n",
    "result -= 5\n",
    "result"
   ]
  },
  {
   "cell_type": "code",
   "execution_count": 37,
   "id": "31ad35fd",
   "metadata": {},
   "outputs": [
    {
     "data": {
      "text/plain": [
       "15"
      ]
     },
     "execution_count": 37,
     "metadata": {},
     "output_type": "execute_result"
    }
   ],
   "source": [
    "# 누적 곱: *=\n",
    "\n",
    "result *= 3\n",
    "result"
   ]
  },
  {
   "cell_type": "code",
   "execution_count": 38,
   "id": "44400a14",
   "metadata": {},
   "outputs": [
    {
     "name": "stdout",
     "output_type": "stream",
     "text": [
      "7.142857142857143\n",
      "1.1428571428571432\n",
      "0.24285714285714327\n"
     ]
    }
   ],
   "source": [
    "# 누적 몫: /=\n",
    "# 누적 나머지: %=\n",
    "\n",
    "result = 10\n",
    "\n",
    "result /= 1.4\n",
    "print(result)\n",
    "\n",
    "result %= 2\n",
    "print(result)\n",
    "\n",
    "# (실수 %= 실수) 가능!  \n",
    "result %= 0.3\n",
    "print(result)"
   ]
  },
  {
   "cell_type": "markdown",
   "id": "09a57645",
   "metadata": {},
   "source": [
    "### 연습문제 > 홍길동의 시험 성적 평균 구하기\n",
    "- 영어 80점, 국어 72점, 수학 90점, 사회 66점"
   ]
  },
  {
   "cell_type": "code",
   "execution_count": 39,
   "id": "7889c7bc",
   "metadata": {},
   "outputs": [],
   "source": [
    "eng = 80\n",
    "kor = 72\n",
    "math = 90\n",
    "soc = 66"
   ]
  },
  {
   "cell_type": "code",
   "execution_count": 40,
   "id": "b17d37d5",
   "metadata": {},
   "outputs": [],
   "source": [
    "# 총합 구해서 변수 total에 저장\n",
    "total = eng + kor + math + soc"
   ]
  },
  {
   "cell_type": "code",
   "execution_count": 41,
   "id": "cf3da861",
   "metadata": {},
   "outputs": [],
   "source": [
    "# 평균 구해서 avg 변수에 저장\n",
    "avg = total / 4"
   ]
  },
  {
   "cell_type": "code",
   "execution_count": 42,
   "id": "b02c0f73",
   "metadata": {},
   "outputs": [
    {
     "name": "stdout",
     "output_type": "stream",
     "text": [
      "총합 308\n",
      "평균 77.0\n"
     ]
    }
   ],
   "source": [
    "# print문을 이용해 총합과 평균 출력\n",
    "print(\"총합\", total)\n",
    "print(\"평균\", avg)"
   ]
  }
 ],
 "metadata": {
  "kernelspec": {
   "display_name": "Python 3 (ipykernel)",
   "language": "python",
   "name": "python3"
  },
  "language_info": {
   "codemirror_mode": {
    "name": "ipython",
    "version": 3
   },
   "file_extension": ".py",
   "mimetype": "text/x-python",
   "name": "python",
   "nbconvert_exporter": "python",
   "pygments_lexer": "ipython3",
   "version": "3.9.12"
  }
 },
 "nbformat": 4,
 "nbformat_minor": 5
}
