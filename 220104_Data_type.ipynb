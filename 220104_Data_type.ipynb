{
 "cells": [
  {
   "cell_type": "markdown",
   "id": "5f1c6f18",
   "metadata": {},
   "source": [
    "# Data type\n",
    "## Why 숫자형부터 시작?\n",
    "- 컴퓨터가 이해할 수 있는 단 하나의 언어 : 기계어(machine language) with 0, 1\n",
    "\n",
    "## > 숫자형\n",
    "- 종류\n",
    "    - 정수 : 0, 양의 정수, 음의 정수\n",
    "    - 실수 : 소수점을 포함하는 숫자\n",
    "    - 8진수 (0o or 0O로 시작) : e.g. 0o34, 0o25\n",
    "    - 16진수 (0x로 시작) : e.g. 0x2A, 0xFF\n",
    "    - 2진수 (0b로 시작) : e.g. 0b10, 0b11\n",
    "    \n"
   ]
  },
  {
   "cell_type": "code",
   "execution_count": null,
   "id": "35b1aa6a",
   "metadata": {},
   "outputs": [],
   "source": []
  }
 ],
 "metadata": {
  "kernelspec": {
   "display_name": "Python 3 (ipykernel)",
   "language": "python",
   "name": "python3"
  },
  "language_info": {
   "codemirror_mode": {
    "name": "ipython",
    "version": 3
   },
   "file_extension": ".py",
   "mimetype": "text/x-python",
   "name": "python",
   "nbconvert_exporter": "python",
   "pygments_lexer": "ipython3",
   "version": "3.9.12"
  }
 },
 "nbformat": 4,
 "nbformat_minor": 5
}
