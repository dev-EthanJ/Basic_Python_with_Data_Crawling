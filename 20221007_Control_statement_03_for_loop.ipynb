{
 "cells": [
  {
   "cell_type": "markdown",
   "id": "5ef4e1ae",
   "metadata": {},
   "source": [
    "# 파이썬 제어문 Python Control statement\n",
    "## 3) for 반복문 (for loop)\n",
    "- data(list, tuple, string, dict, ...)의 모든 item에 대하여, 처음부터 마지막까지 차례대로 접근 > 실행문 적용\n",
    "\n",
    "▶ 기본 문법 \n",
    "\n",
    "        for 임시변수 in data :\n",
    "            수행할 문장1\n",
    "            수행할 문장2\n",
    "            ...\n",
    "            \n",
    "\n",
    "▶ 임시변수 \n",
    "- for 반복문이 실행 > data의 item이 차례대로 임시변수에 할당 (임시변수 = item)\n",
    "- 기본적으로 변수는 할당문이 필수 존재, but 임시변수는 할당문이 필요 없는 객체"
   ]
  },
  {
   "cell_type": "code",
   "execution_count": 1,
   "id": "98428f7d",
   "metadata": {},
   "outputs": [
    {
     "name": "stdout",
     "output_type": "stream",
     "text": [
      "Hello world\n",
      "Hello world\n",
      "Hello world\n"
     ]
    }
   ],
   "source": [
    "# 하나의 아이템에 접근 : list 자료형\n",
    "\n",
    "a = [1, 2, 3]\n",
    "\n",
    "for i in a:\n",
    "    print(\"Hello world\")"
   ]
  },
  {
   "cell_type": "code",
   "execution_count": 2,
   "id": "a0d375f3",
   "metadata": {},
   "outputs": [
    {
     "name": "stdout",
     "output_type": "stream",
     "text": [
      "10\n",
      "20\n",
      "30\n",
      "30\n"
     ]
    }
   ],
   "source": [
    "# 하나의 아이템에 접근 : tuple 자료형\n",
    "\n",
    "tu = 10, 20, 30\n",
    "\n",
    "for qwer in tu:\n",
    "    print(qwer)\n",
    "# 임시변수 == int qwer\n",
    "\n",
    "print(qwer)"
   ]
  },
  {
   "cell_type": "code",
   "execution_count": 3,
   "id": "bf140399",
   "metadata": {},
   "outputs": [
    {
     "name": "stdout",
     "output_type": "stream",
     "text": [
      "False\n",
      "a\n",
      "b\n",
      "c\n",
      "a\n",
      "b\n",
      "c\n"
     ]
    }
   ],
   "source": [
    "# 하나의 아이템에 접근 : dictionary 자료형\n",
    "# dictionary 자료형 > 반복문 접근시 key값 기준으로 접근됨\n",
    "# for문에서 dictionary 접근 == dict.keys() item에 접근\n",
    "\n",
    "dict1 = {'a':1, 'b':2, 'c':3}\n",
    "print(1 in dict1)\n",
    "\n",
    "for k in dict1:\n",
    "    print(k)\n",
    "\n",
    "for k in dict1.keys():\n",
    "    print(k)"
   ]
  },
  {
   "cell_type": "code",
   "execution_count": 4,
   "id": "d23c6d62",
   "metadata": {},
   "outputs": [
    {
     "name": "stdout",
     "output_type": "stream",
     "text": [
      "dict_items([('a', 1), ('b', 2), ('c', 3)])\n",
      "[('a', 1), ('b', 2), ('c', 3)]\n"
     ]
    }
   ],
   "source": [
    "# dict.items() > key, value 쌍으로 tuple로 묶인 list 출력\n",
    "\n",
    "print(dict1.items())\n",
    "\n",
    "list_dict1 = list(dict1.items())\n",
    "print(list_dict1)"
   ]
  },
  {
   "cell_type": "code",
   "execution_count": 5,
   "id": "d31ef245",
   "metadata": {},
   "outputs": [
    {
     "name": "stdout",
     "output_type": "stream",
     "text": [
      "key 값 a value 값 1\n",
      "key 값 b value 값 2\n",
      "key 값 c value 값 3\n"
     ]
    }
   ],
   "source": [
    "# for문에서 data 접근 시, data item == tuple로 된 list data일 때\n",
    "# item(==tuple) 개수만큼 임시변수 할당 > 각 임시변수에 item 대입\n",
    "\n",
    "for k, v in dict1.items():\n",
    "    print('key 값', k, 'value 값', v)"
   ]
  },
  {
   "cell_type": "markdown",
   "id": "2290a20f",
   "metadata": {},
   "source": [
    "### range 함수\n",
    "- 지정된 시작값과 끝값 사이의 숫자들을 자동으로 생성하여 range 객체로 반환하는 함수\n",
    " `\n",
    "- 문법 : range(시작값, 끝값(, 간격)) \n",
    "- 특징 : 슬라이싱과 유사하게 끝나는 값은 포함 X"
   ]
  },
  {
   "cell_type": "code",
   "execution_count": 6,
   "id": "8a0676ac",
   "metadata": {},
   "outputs": [
    {
     "name": "stdout",
     "output_type": "stream",
     "text": [
      "range(1, 6)\n",
      "[1, 2, 3, 4, 5]\n"
     ]
    }
   ],
   "source": [
    "# range() > list() parameter로 넣어야 list로 인식\n",
    "# but 변환하지 않아도 for문 data로 사용가능\n",
    "\n",
    "print(range(1, 6))\n",
    "print(list(range(1, 6)))"
   ]
  },
  {
   "cell_type": "code",
   "execution_count": 7,
   "id": "7323b7aa",
   "metadata": {},
   "outputs": [
    {
     "name": "stdout",
     "output_type": "stream",
     "text": [
      "1\n",
      "2\n",
      "3\n",
      "4\n",
      "5\n"
     ]
    }
   ],
   "source": [
    "# 1 ~ 5까지 출력 > range() 함수 사용\n",
    "\n",
    "for i in range(1, 6):\n",
    "    print(i)"
   ]
  },
  {
   "cell_type": "code",
   "execution_count": 8,
   "id": "af8a8c68",
   "metadata": {},
   "outputs": [
    {
     "name": "stdout",
     "output_type": "stream",
     "text": [
      "0\n",
      "1\n",
      "2\n",
      "3\n",
      "4\n"
     ]
    }
   ],
   "source": [
    "# if range의 시작값 == 0 > 숫자를 하나만 넣는다\n",
    "# range(숫자) > 적힌 숫자만큼 loop\n",
    "\n",
    "for i in range(5):\n",
    "    print(i)"
   ]
  },
  {
   "cell_type": "code",
   "execution_count": 9,
   "id": "788aab28",
   "metadata": {},
   "outputs": [
    {
     "name": "stdout",
     "output_type": "stream",
     "text": [
      "5\n",
      "4\n",
      "3\n",
      "2\n",
      "1\n"
     ]
    }
   ],
   "source": [
    "# 세 번째 parameter는 증가값이 아닌 증감값 > 음수 가능\n",
    "# > 시작값이 끝값보다 큰 숫자에서 시작해야 함\n",
    "\n",
    "for i in range(5, 0, -1):\n",
    "    print(i)"
   ]
  },
  {
   "cell_type": "markdown",
   "id": "f54e76a2",
   "metadata": {},
   "source": [
    "### 중첩 반복문\n",
    "\n",
    "- 반복문 내부에 반복문을 작성하는 것 : 중첩 반복문\n",
    "\n",
    "- 반복 횟수 == (안쪽 반복문 loop 횟수) * (바깥쪽 반복문 loop 횟수)"
   ]
  },
  {
   "cell_type": "code",
   "execution_count": 10,
   "id": "ba31ccae",
   "metadata": {},
   "outputs": [
    {
     "name": "stdout",
     "output_type": "stream",
     "text": [
      "회원님 좌로가세요!\n",
      "회원님 우로가세요!\n",
      "회원님 좌로가세요!\n",
      "회원님 우로가세요!\n",
      "회원님 좌로가세요!\n",
      "회원님 우로가세요!\n",
      "회원님 좌로가세요!\n",
      "회원님 우로가세요!\n",
      "회원님 좌로가세요!\n",
      "회원님 우로가세요!\n",
      "회원님 수고하셨어요 한세트 끝났어요!\n"
     ]
    }
   ],
   "source": [
    "# 인터벌 트레이닝 : 좌 > 우 5번 반복 == 1세트\n",
    "# 인터벌 한 세트 도는 케이스\n",
    "\n",
    "for i in range(5):\n",
    "    print(\"회원님 좌로가세요!\")\n",
    "\n",
    "    print(\"회원님 우로가세요!\")\n",
    "\n",
    "print(\"회원님 수고하셨어요 한세트 끝났어요!\")"
   ]
  },
  {
   "cell_type": "code",
   "execution_count": 11,
   "id": "045b7744",
   "metadata": {},
   "outputs": [
    {
     "name": "stdout",
     "output_type": "stream",
     "text": [
      "회원님 좌로가세요!\n",
      "회원님 우로가세요!\n",
      "회원님 좌로가세요!\n",
      "회원님 우로가세요!\n",
      "회원님 좌로가세요!\n",
      "회원님 우로가세요!\n",
      "회원님 좌로가세요!\n",
      "회원님 우로가세요!\n",
      "회원님 좌로가세요!\n",
      "회원님 우로가세요!\n",
      "회원님 수고하셨어요 한세트 끝났어요!\n",
      "회원님 좌로가세요!\n",
      "회원님 우로가세요!\n",
      "회원님 좌로가세요!\n",
      "회원님 우로가세요!\n",
      "회원님 좌로가세요!\n",
      "회원님 우로가세요!\n",
      "회원님 좌로가세요!\n",
      "회원님 우로가세요!\n",
      "회원님 좌로가세요!\n",
      "회원님 우로가세요!\n",
      "회원님 수고하셨어요 한세트 끝났어요!\n"
     ]
    }
   ],
   "source": [
    "for j in range(2):\n",
    "    for i in range(5):\n",
    "        print(\"회원님 좌로가세요!\")\n",
    "        \n",
    "        print(\"회원님 우로가세요!\")\n",
    "    \n",
    "    print(\"회원님 수고하셨어요 한세트 끝났어요!\")"
   ]
  },
  {
   "cell_type": "code",
   "execution_count": 12,
   "id": "f5f9c07e",
   "metadata": {},
   "outputs": [
    {
     "name": "stdout",
     "output_type": "stream",
     "text": [
      "1\n",
      "2\n"
     ]
    }
   ],
   "source": [
    "# Python method print() > 자동으로 줄바꿈 발생\n",
    "\n",
    "print(1)\n",
    "print(2)"
   ]
  },
  {
   "cell_type": "code",
   "execution_count": 13,
   "id": "1ca0be7e",
   "metadata": {},
   "outputs": [
    {
     "name": "stdout",
     "output_type": "stream",
     "text": [
      "ab"
     ]
    }
   ],
   "source": [
    "# 줄바꿈 삭제 > print() 두번째 parameter로 [end=\"\"] 추가\n",
    "\n",
    "print('a', end=\"\")\n",
    "print('b', end=\"\")"
   ]
  },
  {
   "cell_type": "code",
   "execution_count": 14,
   "id": "8f9c1904",
   "metadata": {},
   "outputs": [
    {
     "name": "stdout",
     "output_type": "stream",
     "text": [
      "ab\n",
      "cd"
     ]
    }
   ],
   "source": [
    "# [end=\"\"] 사용 > 줄바꿈 삭제된 상태 > if 줄바꿈 입력 원하면 > print() 입력\n",
    "\n",
    "print('a', end=\"\")\n",
    "print('b', end=\"\")\n",
    "\n",
    "# 줄바꿈 == print()\n",
    "print()\n",
    "print('c', end=\"\")\n",
    "print('d', end=\"\")"
   ]
  }
 ],
 "metadata": {
  "kernelspec": {
   "display_name": "Python 3 (ipykernel)",
   "language": "python",
   "name": "python3"
  },
  "language_info": {
   "codemirror_mode": {
    "name": "ipython",
    "version": 3
   },
   "file_extension": ".py",
   "mimetype": "text/x-python",
   "name": "python",
   "nbconvert_exporter": "python",
   "pygments_lexer": "ipython3",
   "version": "3.9.12"
  }
 },
 "nbformat": 4,
 "nbformat_minor": 5
}
