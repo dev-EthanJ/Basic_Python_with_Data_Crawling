{
 "cells": [
  {
   "cell_type": "markdown",
   "id": "2069ec92",
   "metadata": {},
   "source": [
    "주피터 노트북 사용법\n",
    "\n",
    "셀의 내부 클릭하면 녹색으로 선택 영역이 지정됨<br>\n",
    "녹색 셀에는 키보드 입력시 코드, 입력문이 직접 입력<br>\n",
    "녹색 셀에 esc키 입력 or 셀 바깥쪽 클릭시 파란색으로 전환\n",
    "\n",
    "파란색 셀 → 입력 중(선택 중)이지 않은 셀\n",
    "\n",
    "파란색으로 선택된 셀에<br>\n",
    "b 입력 → 선택된 셀 아래에 입력용 셀 추가 (below)<br>\n",
    "a 입력 → 선택 셀 위에 입력용 셀 추가 (above)<br>\n",
    "dd 입력 → 선택된 셀 삭제 (delete)\n",
    "\n",
    "m 입력 → Markdown mode으로 셀 전환 (필기용)<br>\n",
    "y 입력 → Code mode로 셀 전환\n",
    "\n",
    "[ctrl + enter] or [shift + enter] → Markdown cell 박제, Code cell 명령 수행 (shift는 다음 셀 선택)"
   ]
  },
  {
   "cell_type": "markdown",
   "id": "5fbadeb7",
   "metadata": {},
   "source": [
    "# Markdown format\n",
    "## Second Title\n",
    "### Third Title\n",
    "#### Max to 6th title\n",
    "\n",
    "- -(dash) + space + string → 나열해서 필기하기\n",
    "- 이렇게 나열 됨\n",
    "    - 띄어쓰기 네 칸(=tab) + dash를 붙이면\n",
    "    - 도트 아래 하위 category로 간주됨\n",
    "        - 다시 한 번 tab + dash를 하면\n",
    "        - 하위 category의 category로 간주됨"
   ]
  }
 ],
 "metadata": {
  "kernelspec": {
   "display_name": "Python 3 (ipykernel)",
   "language": "python",
   "name": "python3"
  },
  "language_info": {
   "codemirror_mode": {
    "name": "ipython",
    "version": 3
   },
   "file_extension": ".py",
   "mimetype": "text/x-python",
   "name": "python",
   "nbconvert_exporter": "python",
   "pygments_lexer": "ipython3",
   "version": "3.9.12"
  }
 },
 "nbformat": 4,
 "nbformat_minor": 5
}
