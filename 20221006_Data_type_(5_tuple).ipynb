{
 "cells": [
  {
   "cell_type": "markdown",
   "id": "c5e01209",
   "metadata": {},
   "source": [
    "# Python Data type 파이썬 자료형\n",
    "## 5) 튜플 (tuple)\n",
    "- 생성 문법 기호 : ( )\n",
    "- 아이템을 수정/삭제할 수 없기 때문에 실수로 데이터가 변경되거나 삭제되는 위험이 적다.\n",
    "- 객체를 저장하는데 더 적은 메모리를 사용한다.\n",
    "- dictionay 자료형의 key로 활용할 수 있다.\n",
    "- method의 parameter는 tuple 자료형으로 전달된다."
   ]
  },
  {
   "cell_type": "markdown",
   "id": "a5f59659",
   "metadata": {},
   "source": [
    "### 1. 생성하기"
   ]
  },
  {
   "cell_type": "code",
   "execution_count": 1,
   "id": "2ea959e9",
   "metadata": {},
   "outputs": [
    {
     "data": {
      "text/plain": [
       "list"
      ]
     },
     "execution_count": 1,
     "metadata": {},
     "output_type": "execute_result"
    }
   ],
   "source": [
    "# 하나의 item을 가진 리스트\n",
    "\n",
    "a = [1]\n",
    "type(a)"
   ]
  },
  {
   "cell_type": "code",
   "execution_count": 2,
   "id": "d25cc664",
   "metadata": {},
   "outputs": [
    {
     "name": "stdout",
     "output_type": "stream",
     "text": [
      "<class 'int'>\n",
      "<class 'tuple'>\n"
     ]
    }
   ],
   "source": [
    "# 생성 문법 기호: 소괄호()는 생략 가능 > 대신 comma(,)는 무조건 1개 이상\n",
    "\n",
    "# 소괄호() > 함수 parameter, tuple 할당, 산술연산 등에서 사용 됨\n",
    "# > tuple 표기 시 생략 가능 > but comma(,)로 item 구분해서 tuple 선언\n",
    "# 대괄호[] > list 선언 시에만 사용 됨 > list 선언 시 필수 기재\n",
    "\n",
    "tu1 = (1)\n",
    "print(type(tu1))\n",
    "\n",
    "tu2 = (1,)\n",
    "print(type(tu2))"
   ]
  },
  {
   "cell_type": "code",
   "execution_count": 3,
   "id": "9303e4c1",
   "metadata": {},
   "outputs": [
    {
     "name": "stdout",
     "output_type": "stream",
     "text": [
      "<class 'list'> <class 'tuple'>\n",
      "[1] (1,)\n"
     ]
    }
   ],
   "source": [
    "# 함수 tuple(list) > 리스트를 튜플로 변환 가능\n",
    "\n",
    "a = [1]\n",
    "b = tuple(a)\n",
    "\n",
    "print(type(a), type(b))\n",
    "print(a, b)"
   ]
  },
  {
   "cell_type": "code",
   "execution_count": 4,
   "id": "de460dd6",
   "metadata": {},
   "outputs": [
    {
     "name": "stdout",
     "output_type": "stream",
     "text": [
      "(12, 34, 56, 78)\n",
      "<class 'tuple'>\n",
      "<class 'int'>\n"
     ]
    }
   ],
   "source": [
    "# 변수 하나에 여러 값을 ,로 나열해 대입 > tuple로 인식\n",
    "\n",
    "x = 12, 34, 56, 78\n",
    "print(x)\n",
    "\n",
    "print(type(x))\n",
    "\n",
    "print(type(x[0]))"
   ]
  },
  {
   "cell_type": "code",
   "execution_count": 5,
   "id": "2a0e4ad1",
   "metadata": {},
   "outputs": [
    {
     "name": "stdout",
     "output_type": "stream",
     "text": [
      "1\n",
      "2\n",
      "3\n",
      "<class 'int'> <class 'int'> <class 'int'>\n"
     ]
    }
   ],
   "source": [
    "# 변수 여러개에 > 변수 개수와 item 개수가 동일한 tuple 할당 > item을 각 변수에 하나씩 나눠서 값을 받음\n",
    "\n",
    "x1, x2, x3 = 1, 2, 3\n",
    "print(x1), print(x2), print(x3)\n",
    "print(type(x1), type(x2), type(x3))"
   ]
  },
  {
   "cell_type": "markdown",
   "id": "ae1f2f27",
   "metadata": {},
   "source": [
    "### 2. 인덱싱(indexing)"
   ]
  },
  {
   "cell_type": "code",
   "execution_count": 6,
   "id": "0ea950f0",
   "metadata": {},
   "outputs": [
    {
     "data": {
      "text/plain": [
       "12"
      ]
     },
     "execution_count": 6,
     "metadata": {},
     "output_type": "execute_result"
    }
   ],
   "source": [
    "x[0]"
   ]
  },
  {
   "cell_type": "markdown",
   "id": "5a900d20",
   "metadata": {},
   "source": [
    "### 3. 슬라이싱(slicing)"
   ]
  },
  {
   "cell_type": "code",
   "execution_count": 7,
   "id": "a479cac5",
   "metadata": {},
   "outputs": [
    {
     "data": {
      "text/plain": [
       "(12, 34)"
      ]
     },
     "execution_count": 7,
     "metadata": {},
     "output_type": "execute_result"
    }
   ],
   "source": [
    "# slicing의 return값 > 원본 data type과 동일한 type 반환\n",
    "\n",
    "x[:2]"
   ]
  },
  {
   "cell_type": "markdown",
   "id": "50ffc47d",
   "metadata": {},
   "source": [
    "### 4. tuple 연산자\n",
    "- 산술 연산자 : +, *"
   ]
  },
  {
   "cell_type": "code",
   "execution_count": 8,
   "id": "c9b3621c",
   "metadata": {},
   "outputs": [
    {
     "data": {
      "text/plain": [
       "(12, 34, 56, 78, 12, 34, 56, 78)"
      ]
     },
     "execution_count": 8,
     "metadata": {},
     "output_type": "execute_result"
    }
   ],
   "source": [
    "# 여러 tuple의 item을 합쳐서 새로운 tuple 만들기 > + 연산자\n",
    "\n",
    "x + x"
   ]
  },
  {
   "cell_type": "code",
   "execution_count": 9,
   "id": "ae4acbe2",
   "metadata": {},
   "outputs": [
    {
     "data": {
      "text/plain": [
       "(12, 34, 56, 78)"
      ]
     },
     "execution_count": 9,
     "metadata": {},
     "output_type": "execute_result"
    }
   ],
   "source": [
    "# + 연산자 > return !=None > 원본에 영향 없으므로 논리적 문제 없음\n",
    "\n",
    "x"
   ]
  },
  {
   "cell_type": "code",
   "execution_count": 10,
   "id": "5cc45b97",
   "metadata": {},
   "outputs": [
    {
     "data": {
      "text/plain": [
       "(12, 34, 56, 78, 12, 34, 56, 78, 12, 34, 56, 78)"
      ]
     },
     "execution_count": 10,
     "metadata": {},
     "output_type": "execute_result"
    }
   ],
   "source": [
    "# 한 개의 tuple을 반복확장해서 새로운 tuple 만들기 > * 연산자\n",
    "\n",
    "x * 3"
   ]
  },
  {
   "cell_type": "markdown",
   "id": "464bc4a9",
   "metadata": {},
   "source": [
    "### 5. tuple 수정, 삭제 > 불가능!\n"
   ]
  },
  {
   "cell_type": "code",
   "execution_count": 11,
   "id": "9e9f569c",
   "metadata": {},
   "outputs": [],
   "source": [
    "# 수정하기 > indexing으로 하나의 item에 접근해서 수정 > Error\n",
    "\n",
    "# x[0] = 0 # TypeError"
   ]
  },
  {
   "cell_type": "code",
   "execution_count": 12,
   "id": "03fb89da",
   "metadata": {},
   "outputs": [],
   "source": [
    "# 삭제하기 > del + indexing > Error\n",
    "\n",
    "# del x[0] # TypeError\n",
    "#tuple 수정, 삭제 > 불가능!"
   ]
  }
 ],
 "metadata": {
  "kernelspec": {
   "display_name": "Python 3 (ipykernel)",
   "language": "python",
   "name": "python3"
  },
  "language_info": {
   "codemirror_mode": {
    "name": "ipython",
    "version": 3
   },
   "file_extension": ".py",
   "mimetype": "text/x-python",
   "name": "python",
   "nbconvert_exporter": "python",
   "pygments_lexer": "ipython3",
   "version": "3.9.12"
  }
 },
 "nbformat": 4,
 "nbformat_minor": 5
}
