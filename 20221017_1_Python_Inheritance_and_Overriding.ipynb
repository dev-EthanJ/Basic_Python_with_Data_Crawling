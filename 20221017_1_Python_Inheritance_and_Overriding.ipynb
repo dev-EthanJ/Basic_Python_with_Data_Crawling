{
 "cells": [
  {
   "cell_type": "code",
   "execution_count": null,
   "id": "415dce4e",
   "metadata": {},
   "outputs": [],
   "source": []
  },
  {
   "cell_type": "code",
   "execution_count": 20,
   "id": "43ff340d",
   "metadata": {},
   "outputs": [],
   "source": [
    "class Person:\n",
    "    name = \"\"\n",
    "    age = 0\n",
    "    height = 0"
   ]
  },
  {
   "cell_type": "code",
   "execution_count": 21,
   "id": "7d0e910d",
   "metadata": {},
   "outputs": [
    {
     "name": "stdout",
     "output_type": "stream",
     "text": [
      "이름: EthanJ, 나이: 25살, 키: 178cm\n"
     ]
    }
   ],
   "source": [
    "p1 = Person()\n",
    "p1.name = \"EthanJ\"\n",
    "p1.age = 25\n",
    "p1.height = 178\n",
    "\n",
    "print(f\"이름: {p1.name}, 나이: {p1.age}살, 키: {p1.height}cm\")"
   ]
  },
  {
   "cell_type": "code",
   "execution_count": 22,
   "id": "a369dca3",
   "metadata": {},
   "outputs": [
    {
     "name": "stdout",
     "output_type": "stream",
     "text": [
      "23705d04190d\n",
      "237042edc70d\n",
      "23700d96c30d\n",
      "23700dc5f90d\n"
     ]
    }
   ],
   "source": [
    "print(\"%0xd\" %id(p1))\n",
    "print(\"%0xd\" %id(p1.name))\n",
    "print(\"%0xd\" %id(p1.age))\n",
    "print(\"%0xd\" %id(p1.height))"
   ]
  },
  {
   "cell_type": "code",
   "execution_count": 23,
   "id": "42dabb61",
   "metadata": {},
   "outputs": [],
   "source": [
    "class Student(Person):\n",
    "    major = \"\""
   ]
  },
  {
   "cell_type": "code",
   "execution_count": 24,
   "id": "51360c38",
   "metadata": {},
   "outputs": [
    {
     "name": "stdout",
     "output_type": "stream",
     "text": [
      "이름: 김파이썬, 나이: 21살, 키: 171, 전공: Computer Science\n"
     ]
    }
   ],
   "source": [
    "my_stu = Student()\n",
    "\n",
    "my_stu.name = \"김파이썬\"\n",
    "my_stu.age = 21\n",
    "my_stu.height = 171\n",
    "my_stu.major = \"Computer Science\"\n",
    "\n",
    "print(f\"이름: {my_stu.name}, 나이: {my_stu.age}살, 키: {my_stu.height}, 전공: {my_stu.major}\")"
   ]
  },
  {
   "cell_type": "code",
   "execution_count": 25,
   "id": "412df434",
   "metadata": {},
   "outputs": [
    {
     "name": "stdout",
     "output_type": "stream",
     "text": [
      "23705d04040d\n",
      "23705c76c90d\n",
      "23700d96bb0d\n",
      "23700dc5eb0d\n",
      "23705cbe760d\n"
     ]
    }
   ],
   "source": [
    "print(\"%0xd\" %id(my_stu))\n",
    "print(\"%0xd\" %id(my_stu.name))\n",
    "print(\"%0xd\" %id(my_stu.age))\n",
    "print(\"%0xd\" %id(my_stu.height))\n",
    "print(\"%0xd\" %id(my_stu.major))"
   ]
  },
  {
   "cell_type": "code",
   "execution_count": 26,
   "id": "60160b96",
   "metadata": {},
   "outputs": [
    {
     "name": "stdout",
     "output_type": "stream",
     "text": [
      "이름: 김자바, 나이: 28살, 키: 169cm, 연봉: 60000000원\n"
     ]
    }
   ],
   "source": [
    "class SalaryMan(Person):\n",
    "    salary = 0\n",
    "\n",
    "my_salary = SalaryMan()\n",
    "\n",
    "my_salary.name = \"김자바\"\n",
    "my_salary.age = 28\n",
    "my_salary.height = 169\n",
    "my_salary.salary = 60000000\n",
    "\n",
    "print(\"이름: {}, 나이: {}살, 키: {}cm, 연봉: {}원\".format(my_salary.name, my_salary.age,\n",
    "                                                my_salary.height, my_salary.salary))"
   ]
  },
  {
   "cell_type": "code",
   "execution_count": 13,
   "id": "b820ebcf",
   "metadata": {},
   "outputs": [
    {
     "name": "stdout",
     "output_type": "stream",
     "text": [
      "23700d96c70d\n"
     ]
    }
   ],
   "source": []
  },
  {
   "cell_type": "code",
   "execution_count": 14,
   "id": "7d049b73",
   "metadata": {},
   "outputs": [
    {
     "name": "stdout",
     "output_type": "stream",
     "text": [
      "23700dc6030d\n"
     ]
    }
   ],
   "source": []
  },
  {
   "cell_type": "code",
   "execution_count": 15,
   "id": "64e9d9ed",
   "metadata": {},
   "outputs": [
    {
     "name": "stdout",
     "output_type": "stream",
     "text": [
      "23705cbe6c0d\n"
     ]
    }
   ],
   "source": []
  },
  {
   "cell_type": "code",
   "execution_count": null,
   "id": "ad78050e",
   "metadata": {},
   "outputs": [],
   "source": []
  },
  {
   "cell_type": "code",
   "execution_count": null,
   "id": "a6a90b2c",
   "metadata": {},
   "outputs": [],
   "source": []
  }
 ],
 "metadata": {
  "kernelspec": {
   "display_name": "Python 3 (ipykernel)",
   "language": "python",
   "name": "python3"
  },
  "language_info": {
   "codemirror_mode": {
    "name": "ipython",
    "version": 3
   },
   "file_extension": ".py",
   "mimetype": "text/x-python",
   "name": "python",
   "nbconvert_exporter": "python",
   "pygments_lexer": "ipython3",
   "version": "3.9.12"
  }
 },
 "nbformat": 4,
 "nbformat_minor": 5
}
