{
 "cells": [
  {
   "cell_type": "markdown",
   "id": "cd3ba0ee",
   "metadata": {},
   "source": [
    "# 파이썬 함수 Python function\n",
    "\n",
    "- 반복적으로 사용하는 기능을 묶어서 함수로 정의하면 간편하게 사용할 수 있다.\n",
    "\n",
    "- 기본 문법\n",
    "\n",
    "```\n",
    "    def 함수이름(매개변수) :\n",
    "        <수행할 내용1>\n",
    "        <수행할 내용2>\n",
    "        <수행할 내용3>\n",
    "        return <return값>\n",
    "```\n",
    "\n",
    "- 매개변수\n",
    "\n",
    "    - 함수 안에서 사용할 값을 전달하는 변수로 <수행할 내용> 문장에서 변수로 사용된다.\n",
    "    \n",
    "    - 함수 정의문에서는 매개변수로서 선언되며 실제로 함수를 호출할 때는 인자값으로 전달된다.   \n",
    "    \n",
    "\n",
    "- 용어\n",
    "    \n",
    "    - def : 함수를 정의할 때 사용하는 키워드\n",
    "    \n",
    "    - return : 함수의 결과값을 반환하는 키워드\n",
    "    \n",
    "    - 입력값 = 인수, 입력 인수, 인자\n",
    "    \n",
    "    - 결과값 = 출력값, 리턴값, 돌려주는 값, 반환 값<br>"
   ]
  },
  {
   "cell_type": "code",
   "execution_count": 1,
   "id": "7a787344",
   "metadata": {},
   "outputs": [
    {
     "name": "stdout",
     "output_type": "stream",
     "text": [
      "6\n"
     ]
    }
   ],
   "source": [
    "# 기본적인 함수의 예제 (return 구문 없음 > 불완전한 함수)\n",
    "def plus(a):\n",
    "    print(a + 1)\n",
    "    \n",
    "plus(5)"
   ]
  },
  {
   "cell_type": "markdown",
   "id": "4749fb89",
   "metadata": {},
   "source": [
    "- 함수 내부에 선언된 변수는 함수 외부에서 호출할 수 없다.\n",
    "- 함수나 기타 블록 내부에 선언된 변수 == \"지역변수\"(local variable)"
   ]
  },
  {
   "cell_type": "code",
   "execution_count": 2,
   "id": "a8119a37",
   "metadata": {},
   "outputs": [
    {
     "name": "stdout",
     "output_type": "stream",
     "text": [
      "6\n",
      "None\n"
     ]
    }
   ],
   "source": [
    "# plus(5)실행 > 6 출력\n",
    "# print(plus(5)) > ?\n",
    "\n",
    "print(plus(5))"
   ]
  },
  {
   "cell_type": "markdown",
   "id": "8f5fe9d9",
   "metadata": {},
   "source": [
    "## 0. return\n",
    "- return 구문은 함수의 종료 지점에 사용할 수 있다\n",
    "- return 구문 실행 > 함수 종료, 함수의 결과값(return값)이 호출한 위치에 할당"
   ]
  },
  {
   "cell_type": "code",
   "execution_count": 3,
   "id": "eaf2a067",
   "metadata": {},
   "outputs": [
    {
     "name": "stdout",
     "output_type": "stream",
     "text": [
      "6\n"
     ]
    }
   ],
   "source": [
    "def plus2(b):\n",
    "    return b + 1\n",
    "\n",
    "print(plus2(5))\n",
    "# plus2(5) return값 == 6 > print(6)으로 대체됨"
   ]
  },
  {
   "cell_type": "code",
   "execution_count": 4,
   "id": "41591ffc",
   "metadata": {},
   "outputs": [
    {
     "name": "stdout",
     "output_type": "stream",
     "text": [
      "\n",
      "None\n"
     ]
    }
   ],
   "source": [
    "# print() method > 출력 기능 수행, return값 없음(== None)\n",
    "\n",
    "print(print())"
   ]
  },
  {
   "cell_type": "markdown",
   "id": "ead58386",
   "metadata": {},
   "source": [
    "## 1. 매개변수와 인수\n",
    "\n",
    "### 1.1. 매개변수(== parameter, 입력인자, 입력값)\n",
    "- callee된 함수가 전달된 변수를 저장하는 \"local 변수명\"\n",
    "- 함수를 선언할 때 naming하는 변수 \"identifier\"\n",
    "<br>\n",
    "\n",
    "### 1.2. 인수, 호출인자(== argument) \n",
    "- 함수를 call할 때 전달하는 caller의 입력 \"value\""
   ]
  },
  {
   "cell_type": "markdown",
   "id": "26c5223a",
   "metadata": {},
   "source": [
    "### > 연습문제\n",
    "- parameter를 2개 이상 받는 경우\n",
    "- sum_func 식별자를 가진 함수 선언\n",
    "- 이 함수는 num1, num2 2개의 변수를 입력받고 둘을 합산한 값을 리턴"
   ]
  },
  {
   "cell_type": "code",
   "execution_count": 5,
   "id": "cc09e58a",
   "metadata": {},
   "outputs": [
    {
     "name": "stdout",
     "output_type": "stream",
     "text": [
      "63\n"
     ]
    }
   ],
   "source": [
    "# snake case in naming convention\n",
    "def sum_func(num1, num2): \n",
    "    sum = num1 + num2\n",
    "    \n",
    "    return sum\n",
    "\n",
    "print(sum_func(29, 34))"
   ]
  },
  {
   "cell_type": "markdown",
   "id": "050a26d1",
   "metadata": {},
   "source": [
    "## 2. 매개변수가 있는 함수\n",
    "- 인자 값을 전달 할 때 값만 입력하면 순서대로 매개변수에 할당\n",
    "- parameter identifier를 지정하여 전달한 수 있다."
   ]
  },
  {
   "cell_type": "markdown",
   "id": "32fdbfa2",
   "metadata": {},
   "source": [
    "### > 연습문제\n",
    "- parameter가 3개인 함수\n",
    "- parameter identifier는 자율\n",
    "- print()로 parameter 3개를 콘솔에 출력\n",
    "- result 변수에 3개 합을 저장한 뒤 return\n",
    "- method identifier는 test_three"
   ]
  },
  {
   "cell_type": "code",
   "execution_count": 6,
   "id": "4ff59bb9",
   "metadata": {},
   "outputs": [
    {
     "name": "stdout",
     "output_type": "stream",
     "text": [
      "12 + 23 + 34  = 69\n"
     ]
    },
    {
     "data": {
      "text/plain": [
       "69"
      ]
     },
     "execution_count": 6,
     "metadata": {},
     "output_type": "execute_result"
    }
   ],
   "source": [
    "def test_three(first, second, third):\n",
    "    print(first, '+', second, '+', third, ' ', end=\"\")\n",
    "    \n",
    "    result = first + second + third\n",
    "    \n",
    "    print('=', result)\n",
    "    \n",
    "    return result\n",
    "\n",
    "test_three(12, 23, 34)\n"
   ]
  },
  {
   "cell_type": "markdown",
   "id": "321f82cf",
   "metadata": {},
   "source": [
    "- 매개변수 순서 다르게 전달하려면 매개변수를 지목해서 호출"
   ]
  },
  {
   "cell_type": "code",
   "execution_count": 7,
   "id": "4e68598c",
   "metadata": {},
   "outputs": [
    {
     "name": "stdout",
     "output_type": "stream",
     "text": [
      "10 + 20 + 30  = 60\n"
     ]
    },
    {
     "data": {
      "text/plain": [
       "60"
      ]
     },
     "execution_count": 7,
     "metadata": {},
     "output_type": "execute_result"
    }
   ],
   "source": [
    "test_three(third = 30, second = 20, first = 10)"
   ]
  },
  {
   "cell_type": "markdown",
   "id": "8ff845c3",
   "metadata": {},
   "source": [
    "### 2.1. 매개변수 초기 값 설정\n",
    "- 함수 정의문에서 매개변수 값을 선언하면 초기값(default)으로 설정\n",
    "- 함수 호출 시 값을 입력하지 않으면 > default값 사용\n",
    "- default값을 할당하고 싶은 매개변수들은 뒤쪽에 쓰고 함수 선언\n",
    "> 참고: formatting method에서 index 번호, 변수 name 사용했던 규칙과 유사"
   ]
  },
  {
   "cell_type": "code",
   "execution_count": 8,
   "id": "98703fa5",
   "metadata": {},
   "outputs": [
    {
     "name": "stdout",
     "output_type": "stream",
     "text": [
      "6\n"
     ]
    }
   ],
   "source": [
    "# default값 선언 예시\n",
    "\n",
    "def test2_func(a=1, b=2, c=3):\n",
    "    result = a + b + c\n",
    "    \n",
    "    return result\n",
    "\n",
    "print(test2_func())"
   ]
  },
  {
   "cell_type": "code",
   "execution_count": 9,
   "id": "4db7c8eb",
   "metadata": {},
   "outputs": [
    {
     "name": "stdout",
     "output_type": "stream",
     "text": [
      "18\n"
     ]
    }
   ],
   "source": [
    "# 사용자가 입력한 값이 우선 사용\n",
    "\n",
    "print(test2_func(7, 5, 6))"
   ]
  },
  {
   "cell_type": "code",
   "execution_count": 10,
   "id": "dc4282b4",
   "metadata": {},
   "outputs": [
    {
     "name": "stdout",
     "output_type": "stream",
     "text": [
      "15\n",
      "33\n"
     ]
    }
   ],
   "source": [
    "# 함수에 선언한 parameter개수보다 적은 parameter로 calling시\n",
    "# > 앞에 위치한 parameter부터 할당, 나머지는 default값 적용 \n",
    "\n",
    "print(test2_func(10)) # == test2_func(10, 2, 3)\n",
    "print(test2_func(10, 20)) # == test2_func(10, 20, 3)"
   ]
  },
  {
   "cell_type": "code",
   "execution_count": 11,
   "id": "8f3327df",
   "metadata": {},
   "outputs": [
    {
     "ename": "SyntaxError",
     "evalue": "non-default argument follows default argument (581570768.py, line 3)",
     "output_type": "error",
     "traceback": [
      "\u001b[1;36m  Input \u001b[1;32mIn [11]\u001b[1;36m\u001b[0m\n\u001b[1;33m    def test3_func(a=1, b=2, c):\u001b[0m\n\u001b[1;37m                              ^\u001b[0m\n\u001b[1;31mSyntaxError\u001b[0m\u001b[1;31m:\u001b[0m non-default argument follows default argument\n"
     ]
    }
   ],
   "source": [
    "# default값 매개변수는 반드시 오른쪽 parameter부터 지정!\n",
    "\n",
    "def test3_func(a=1, b=2, c):\n",
    "    result = a + b + c\n",
    "    \n",
    "    return result"
   ]
  },
  {
   "cell_type": "code",
   "execution_count": 12,
   "id": "4f8fe745",
   "metadata": {},
   "outputs": [
    {
     "data": {
      "text/plain": [
       "13"
      ]
     },
     "execution_count": 12,
     "metadata": {},
     "output_type": "execute_result"
    }
   ],
   "source": [
    "# defalut값 할당된 매개변수 > 값을 전달해도 가능, 전달하지 않아도 가능\n",
    "# defalut값 할당되지 않은 매개변수 > 반드시 전달값 입력해서 함수 call\n",
    "\n",
    "def test4_func(a, b, c=10):\n",
    "    result = a + b + c\n",
    "    \n",
    "    return result\n",
    "\n",
    "test4_func(1, 2)"
   ]
  },
  {
   "cell_type": "markdown",
   "id": "9aea4fcd",
   "metadata": {},
   "source": [
    "### 2.2. 가변인자 리스트\n",
    "- 입력할 parameter의 개수가 몇 개인지 모를 때 사용\n",
    "- parameter identifier 왼쪽에 *(asterisk)를 붙인다.\n",
    "- 함수를 call할때 parameter를 ,(comma)로 연결해서 call한다. "
   ]
  },
  {
   "cell_type": "code",
   "execution_count": 13,
   "id": "0a2c95c7",
   "metadata": {},
   "outputs": [
    {
     "name": "stdout",
     "output_type": "stream",
     "text": [
      "EthanJ 1000 50 qwerty\n"
     ]
    }
   ],
   "source": [
    "# 대표적인 가변인자 사용 함수 > print()\n",
    "\n",
    "print(\"EthanJ\", 1000, 50, \"qwerty\")"
   ]
  },
  {
   "cell_type": "code",
   "execution_count": 14,
   "id": "5c5d0931",
   "metadata": {},
   "outputs": [
    {
     "name": "stdout",
     "output_type": "stream",
     "text": [
      "가나다30abc50\n"
     ]
    }
   ],
   "source": [
    "# parameter 개수 4개로 선언한 함수\n",
    "\n",
    "def my_print(p1, p2, p3, p4):\n",
    "    print(\"%s%s%s%s\" %(p1, p2, p3, p4))\n",
    "\n",
    "my_print(\"가나다\", 30, \"abc\", 50)"
   ]
  },
  {
   "cell_type": "code",
   "execution_count": 15,
   "id": "ba46325a",
   "metadata": {},
   "outputs": [
    {
     "name": "stdout",
     "output_type": "stream",
     "text": [
      "출석 학생은 김철수님 입니다.\n",
      "출석 학생은 홍길동님, 김영희님 입니다.\n"
     ]
    }
   ],
   "source": [
    "def get_member_list1(mem1):\n",
    "    print(\"출석 학생은 %s님 입니다.\" %mem1)\n",
    "    \n",
    "def get_member_list2(mem1, mem2):\n",
    "    print(\"출석 학생은 %s님, %s님 입니다.\" %(mem1, mem2))\n",
    "    \n",
    "get_member_list1(\"김철수\")\n",
    "\n",
    "get_member_list2(\"홍길동\", \"김영희\")"
   ]
  },
  {
   "cell_type": "code",
   "execution_count": 16,
   "id": "de29358c",
   "metadata": {},
   "outputs": [
    {
     "name": "stdout",
     "output_type": "stream",
     "text": [
      "출석 학생은 뽀로로님, 입니다.\n",
      "출석 학생은 뽀로로님, 루피님, 입니다.\n",
      "출석 학생은 뽀로로님, 루피님, 애옹님, 갱쥐님, 입니다.\n"
     ]
    }
   ],
   "source": [
    "# 가변인자 list 사용한 함수 > *(asterisk) + parameter name로 함수 할당\n",
    "\n",
    "def get_members(*mem):\n",
    "    print(\"출석 학생은 \", end=\"\")\n",
    "    \n",
    "    for i in range(len(mem)):\n",
    "        print(\"%s님, \" %mem[i], end=\"\")\n",
    "        \n",
    "    print(\"입니다.\")\n",
    "    \n",
    "    \n",
    "get_members(\"뽀로로\")\n",
    "\n",
    "get_members(\"뽀로로\", \"루피\")\n",
    "\n",
    "get_members(\"뽀로로\", \"루피\", \"애옹\", \"갱쥐\")"
   ]
  },
  {
   "cell_type": "code",
   "execution_count": 17,
   "id": "30e60b96",
   "metadata": {},
   "outputs": [
    {
     "name": "stdout",
     "output_type": "stream",
     "text": [
      "<class 'tuple'>\n"
     ]
    }
   ],
   "source": [
    "# 가변인자 list data type == tuple\n",
    "\n",
    "def parameter_test(*param):\n",
    "    print(type(param))\n",
    "    \n",
    "parameter_test(10, 20, 30)"
   ]
  },
  {
   "cell_type": "markdown",
   "id": "fe4d7fa9",
   "metadata": {},
   "source": [
    "### > 연습문제\n",
    "- 가변인자를 이용해서 학생들의 점수를 입력받을 때마다 저장 후<br>\n",
    "총점을 구해 평균값을 리턴하는 코드를 작성하시오."
   ]
  },
  {
   "cell_type": "code",
   "execution_count": 18,
   "id": "1ca20896",
   "metadata": {},
   "outputs": [
    {
     "data": {
      "text/plain": [
       "80.0"
      ]
     },
     "execution_count": 18,
     "metadata": {},
     "output_type": "execute_result"
    }
   ],
   "source": [
    "def get_avg(*scores):\n",
    "    total_score = 0\n",
    "    \n",
    "    # 기존 코딩 스타일\n",
    "    '''\n",
    "    for i in range(len(scores)):\n",
    "        total_score += scores[i]\n",
    "    '''\n",
    "    \n",
    "    # Python 코드 > tuple을 반복문 scope로 설정 > tuple item수만큼 반복\n",
    "    for score in scores:\n",
    "        total_score += score\n",
    "    \n",
    "    total_score /= len(scores)\n",
    "    \n",
    "    return total_score\n",
    "\n",
    "get_avg(70, 80, 90)"
   ]
  },
  {
   "cell_type": "markdown",
   "id": "24a61911",
   "metadata": {},
   "source": [
    "### 2.3. 키워드 파라미터: kwargs (keyword arguments)\n",
    "- 함수 선언시 길이가 정해지지 않은 딕셔너리 형태로 parameter 선언 \n",
    "- **kwargs == 딕셔너리 가변인자\n",
    "- 함수 caller의 매개변수: (k1=v1, kn=vn, ...) 형식으로 함수 call"
   ]
  },
  {
   "cell_type": "markdown",
   "id": "e6a209e7",
   "metadata": {},
   "source": [
    "#### 2.3.1. callee function parameter == **kwargs\n",
    "- type(kwargs) == dict \n",
    "- print(kwargs) == print(dict)\n",
    "- print(kwargs.keys()) == print(dict.keys()) > dict_keys list\n",
    "- print(kwargs.values()) == print(dict.values()) > dict_values list"
   ]
  },
  {
   "cell_type": "code",
   "execution_count": 19,
   "id": "da245d68",
   "metadata": {},
   "outputs": [
    {
     "name": "stdout",
     "output_type": "stream",
     "text": [
      "<class 'dict'>\n",
      "{'fir': 7, 'sec': 'k', 'thr': 'str', 'fou': ['l', 'i', 's', 't'], 'fif': {'k1': 'y1'}, 'six': ('t', 'u')}\n",
      "dict_keys(['fir', 'sec', 'thr', 'fou', 'fif', 'six'])\n",
      "dict_values([7, 'k', 'str', ['l', 'i', 's', 't'], {'k1': 'y1'}, ('t', 'u')])\n"
     ]
    }
   ],
   "source": [
    "# argument 문법: (k1=v1, k2=v2, k3=v3, ...)\n",
    "# > kn == str without \" \", vn == any data type\n",
    "\n",
    "def kwargs_check_func(**kwargs):\n",
    "    print(type(kwargs)) # dict\n",
    "    print(kwargs) # print(dict)\n",
    "    print(kwargs.keys()) # print(dict.keys()) > dict_keys list\n",
    "    print(kwargs.values()) # print(dic.values()) > dict_values list\n",
    "\n",
    "kwargs_check_func(fir=7, sec='k', thr=\"str\", fou=['l', 'i', 's', 't'],\n",
    "            fif={\"k1\":\"y1\"}, six=('t', 'u'))"
   ]
  },
  {
   "cell_type": "markdown",
   "id": "a70058a7",
   "metadata": {},
   "source": [
    "### 2.3.2. for loop data로 kwargs 가변인자 사용하기\n",
    "- for item in data(==kwargs) > return kwargs.keys()\n",
    "- for item in kwargs.keys()) > return kwargs.keys()\n",
    "- for item in kwarga.values() > return kwargs.values()"
   ]
  },
  {
   "cell_type": "code",
   "execution_count": 20,
   "id": "fdb7f435",
   "metadata": {},
   "outputs": [
    {
     "name": "stdout",
     "output_type": "stream",
     "text": [
      "fir sec thr fou fif \n",
      "fir sec thr fou fif \n",
      "7 k str ['l', 'i', 's', 't'] {'k1': 'y1'} "
     ]
    }
   ],
   "source": [
    "def kwargs_func(**kwargs):\n",
    "    \n",
    "    # for item in data(==kwargs) > return kwargs.keys()\n",
    "    for item in kwargs:\n",
    "        print(\"%s \" %item, end=\"\")\n",
    "    print()\n",
    "    \n",
    "    # for item in kwargs.keys()) > return kwargs.keys()\n",
    "    for item_key in kwargs.keys():\n",
    "        print(\"%s \" %item_key, end=\"\")\n",
    "    print()\n",
    "    \n",
    "    # for item in kwarga.values() > return kwargs.values()\n",
    "    for item_value in kwargs.values():\n",
    "        print(\"%s \" %item_value, end=\"\")\n",
    "        \n",
    "\n",
    "kwargs_func(fir=7, sec='k', thr=\"str\", fou=['l', 'i', 's', 't'], fif={\"k1\":\"y1\"}\n",
    "            # six=('t', 'u') > print(\"%s\" %(kwargs[six])) > %s로 tuple type 출력 불가\n",
    "           )"
   ]
  },
  {
   "cell_type": "markdown",
   "id": "01e713fa",
   "metadata": {},
   "source": [
    "## 3. 함수의 결과값 (== return값)\n",
    "- 함수의 return값은 항상 1개\n",
    "- 여러 개의 값을 ,로 연결해서 return > return tuple"
   ]
  },
  {
   "cell_type": "code",
   "execution_count": 21,
   "id": "0ec0c42b",
   "metadata": {},
   "outputs": [
    {
     "name": "stdout",
     "output_type": "stream",
     "text": [
      "(7, 12)\n"
     ]
    }
   ],
   "source": [
    "def plus_multi_func(a, b):\n",
    "    plus = a + b\n",
    "    multi = a * b\n",
    "    \n",
    "    return plus, multi\n",
    "\n",
    "double_values = plus_multi_func(3, 4)\n",
    "\n",
    "print(double_values)"
   ]
  },
  {
   "cell_type": "markdown",
   "id": "ebe7e01e",
   "metadata": {},
   "source": [
    "- 결과를 개별 변수에 나눠서 가져오기 > unpacking"
   ]
  },
  {
   "cell_type": "code",
   "execution_count": 22,
   "id": "c1fcb8e7",
   "metadata": {
    "scrolled": true
   },
   "outputs": [
    {
     "name": "stdout",
     "output_type": "stream",
     "text": [
      "p = 11, m = 30\n"
     ]
    }
   ],
   "source": [
    "p, m = plus_multi_func(5, 6)\n",
    "\n",
    "print(\"p = %s, m = %s\" %(p, m))"
   ]
  },
  {
   "cell_type": "markdown",
   "id": "13a336b9",
   "metadata": {},
   "source": [
    "### > 연습문제\n",
    "- 리스트로 입력받은 수들에 대해 양수만 필터링해 반환하는 함수를 작성하시오.\n",
    "1. 입력값은 parameter로 가변인자 list를 전달\n",
    "2. 리턴값은 양수로만 구성된 새로운 리스트"
   ]
  },
  {
   "cell_type": "code",
   "execution_count": 1,
   "id": "957acbfb",
   "metadata": {
    "scrolled": true
   },
   "outputs": [
    {
     "name": "stdout",
     "output_type": "stream",
     "text": [
      "[1, 200]\n"
     ]
    }
   ],
   "source": [
    "def only_pos_list(*vargs):\n",
    "    pos_list = list()\n",
    "    \n",
    "    for value in vargs:\n",
    "        if value > 0:\n",
    "            pos_list.append(value)\n",
    "            \n",
    "    return pos_list\n",
    "\n",
    "print(only_pos_list(1, -7, 200, -45, 0))\n",
    "# 가변인자 리스트 = tuple type으로 parameter 전달"
   ]
  },
  {
   "cell_type": "code",
   "execution_count": null,
   "id": "3992c7e0",
   "metadata": {},
   "outputs": [],
   "source": []
  }
 ],
 "metadata": {
  "kernelspec": {
   "display_name": "Python 3 (ipykernel)",
   "language": "python",
   "name": "python3"
  },
  "language_info": {
   "codemirror_mode": {
    "name": "ipython",
    "version": 3
   },
   "file_extension": ".py",
   "mimetype": "text/x-python",
   "name": "python",
   "nbconvert_exporter": "python",
   "pygments_lexer": "ipython3",
   "version": "3.9.12"
  }
 },
 "nbformat": 4,
 "nbformat_minor": 5
}
