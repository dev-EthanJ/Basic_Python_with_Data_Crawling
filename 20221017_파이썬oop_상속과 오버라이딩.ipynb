{
 "cells": [
  {
   "cell_type": "markdown",
   "id": "2d4d1065",
   "metadata": {},
   "source": [
    "# 상속\n",
    "\n",
    "상속은 부모 클래스의 정보를 활용해 자식 클래스를 이끌어내는것을 의미합니다.\n",
    "\n",
    "문법은\n",
    "\n",
    "`class 클래스명(부모클래스):\n",
    "    내부 정의\n",
    "    ...\n",
    "    `\n",
    "    \n",
    "현실에서의 상속과 마찬가지로 프로그래밍의 상속에서도 부모는 자식에게\n",
    "\n",
    "자신이 가진 요소를 물려줍니다.(변수, 메서드)\n",
    "\n",
    "현실과 다른점은 프로그래밍의 상속은 자식이 부모를 지목해 이뤄지며\n",
    "\n",
    "부모쪽에서 물려받은 변수, 메서드 및 자식쪽에서 새로 정의한 변수, 메서드\n",
    "\n",
    "그리고 물려받은 메서드를 재정의(오버라이딩)해 사용할 수 있습니다."
   ]
  },
  {
   "cell_type": "code",
   "execution_count": 28,
   "id": "ceebe870",
   "metadata": {},
   "outputs": [],
   "source": [
    "class Person:\n",
    "    name = \"\"\n",
    "    age = 0\n",
    "    height = 0"
   ]
  },
  {
   "cell_type": "code",
   "execution_count": 29,
   "id": "9fdee6b6",
   "metadata": {},
   "outputs": [
    {
     "name": "stdout",
     "output_type": "stream",
     "text": [
      "홍길동 20 170\n"
     ]
    }
   ],
   "source": [
    "p1 = Person() \n",
    "p1.name = \"홍길동\"\n",
    "p1.age = 20\n",
    "p1.height = 170\n",
    "print(p1.name, p1.age, p1.height)"
   ]
  },
  {
   "cell_type": "code",
   "execution_count": 30,
   "id": "93845e4c",
   "metadata": {},
   "outputs": [
    {
     "name": "stdout",
     "output_type": "stream",
     "text": [
      "<__main__.Person object at 0x000001F1F2502C10>\n"
     ]
    }
   ],
   "source": [
    "print(p1)"
   ]
  },
  {
   "cell_type": "code",
   "execution_count": 31,
   "id": "b24f9a1f",
   "metadata": {},
   "outputs": [],
   "source": [
    "# Student는 Person의 상속을 받았음\n",
    "class Student(Person):\n",
    "    major = \"\""
   ]
  },
  {
   "cell_type": "code",
   "execution_count": 32,
   "id": "9bca4857",
   "metadata": {},
   "outputs": [
    {
     "name": "stdout",
     "output_type": "stream",
     "text": [
      "이름 : 가나다, 나이 : 21, 키 : 163cm, 전공 : 컴퓨터과학\n"
     ]
    }
   ],
   "source": [
    "# Student를 하나 생성해서 Person처럼 print로 모든 변수에 값을 저장한 뒤 찍어보세요.\n",
    "s1 = Student()\n",
    "s1.name = \"가나다\"\n",
    "s1.age = 21\n",
    "s1.height = 163\n",
    "s1.major = \"컴퓨터과학\"\n",
    "print(\"이름 : %s, 나이 : %s, 키 : %scm, 전공 : %s\" % (s1.name, s1.age, s1.height, s1.major))"
   ]
  },
  {
   "cell_type": "code",
   "execution_count": 33,
   "id": "095ed721",
   "metadata": {},
   "outputs": [],
   "source": [
    "# 샐러리맨 클래스를 선언해주세요(Person을 상속받습니다.)\n",
    "# 샐러리맨은 연봉을 가집니다.\n",
    "class Salaryman(Person):\n",
    "    salary = 0"
   ]
  },
  {
   "cell_type": "code",
   "execution_count": 36,
   "id": "07722268",
   "metadata": {},
   "outputs": [
    {
     "name": "stdout",
     "output_type": "stream",
     "text": [
      "이름 : 채종훈, 나이 : 25, 키 : 175, 연봉 : 1000000000원\n"
     ]
    }
   ],
   "source": [
    "# 샐러리맨 객체를 생성해주세요.\n",
    "# 이름은 여러분들 이름으로 해 주시고\n",
    "# 기타 인적사항은 원하는대로 입력해주시고\n",
    "# * 연봉은 받고싶은 금액을 적어주세요.\n",
    "sm1 = Salaryman()\n",
    "sm1.name = \"채종훈\"\n",
    "sm1.age = 25\n",
    "sm1.height = 175\n",
    "sm1.salary = 1000000000\n",
    "print(\"이름 : %s, 나이 : %s, 키 : %s, 연봉 : %s원\" % (sm1.name, sm1.age, sm1.height, sm1.salary))"
   ]
  },
  {
   "cell_type": "code",
   "execution_count": null,
   "id": "8e96d0bf",
   "metadata": {},
   "outputs": [],
   "source": []
  },
  {
   "cell_type": "code",
   "execution_count": null,
   "id": "26bf8b05",
   "metadata": {},
   "outputs": [],
   "source": []
  },
  {
   "cell_type": "code",
   "execution_count": null,
   "id": "a6be0215",
   "metadata": {},
   "outputs": [],
   "source": []
  },
  {
   "cell_type": "code",
   "execution_count": null,
   "id": "b45d09f3",
   "metadata": {},
   "outputs": [],
   "source": []
  },
  {
   "cell_type": "code",
   "execution_count": null,
   "id": "d0837538",
   "metadata": {},
   "outputs": [],
   "source": []
  }
 ],
 "metadata": {
  "kernelspec": {
   "display_name": "Python 3 (ipykernel)",
   "language": "python",
   "name": "python3"
  },
  "language_info": {
   "codemirror_mode": {
    "name": "ipython",
    "version": 3
   },
   "file_extension": ".py",
   "mimetype": "text/x-python",
   "name": "python",
   "nbconvert_exporter": "python",
   "pygments_lexer": "ipython3",
   "version": "3.9.12"
  }
 },
 "nbformat": 4,
 "nbformat_minor": 5
}
