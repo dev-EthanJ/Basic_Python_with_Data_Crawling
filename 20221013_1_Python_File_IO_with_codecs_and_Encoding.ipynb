{
 "cells": [
  {
   "cell_type": "markdown",
   "id": "7e41dcab",
   "metadata": {},
   "source": [
    "# Python File IO with codecs and Encoding\n",
    "# codecs 라이브러리를 활용한 파이썬 파일 입출력 and Encoding"
   ]
  },
  {
   "cell_type": "markdown",
   "id": "fd6ac4ef",
   "metadata": {},
   "source": [
    "## 1. codecs 라이브러리\n",
    "\n",
    "-   Python ver.3.5. > 내장 라이브러리로 바뀜(예전에는 pip로 설치해야 했었음)\n",
    "\n",
    "-   파이썬으로 텍스트파일을 제어할 수 있도록(읽어오기, 쓰기) 도와줌\n",
    "\n",
    "-   콘솔창에 출력된 내용을 txt파일로 옮겨서 출력할 때 사용\n",
    "\n",
    "-   특이사항\n",
    "    -   ~~개행은 \"\\\\r\\\\n\"으로 처리함~~ 현재는 \"\\\\n\"으로 개행 처리 가능\n",
    "    -   mode\n",
    "        -   w: 기존에 있던 자료 없에고 새 파일 입력\n",
    "        -   a: 기존에 있던 자료에 이어서 계속 입력\n",
    "        -   r: 기존 파일에 있던 내용 읽어오기"
   ]
  },
  {
   "cell_type": "code",
   "execution_count": 1,
   "id": "3ca034b8",
   "metadata": {},
   "outputs": [],
   "source": [
    "# codecs library import\n",
    "\n",
    "import codecs"
   ]
  },
  {
   "cell_type": "markdown",
   "id": "a5f5bb15",
   "metadata": {},
   "source": [
    "### 1.1. mode=\"w\""
   ]
  },
  {
   "cell_type": "markdown",
   "id": "080cb4c6",
   "metadata": {},
   "source": [
    "- `codecs.open()` return값 > txt file 그 자체처럼 사용함\n",
    "- `codecs.open()` parameter: (\"txt file 절대경로\" > 없으면 file 생성, (mode=\"mode\"), (encoding=\"인코딩 방식\",))\n",
    "- mode parameter default == `r`\n",
    "- option paramter default == `utf-8`"
   ]
  },
  {
   "cell_type": "markdown",
   "id": "ff2f87a7",
   "metadata": {},
   "source": [
    "<br>\n",
    "\n",
    "- file path > **must replace '\\\\' with '/'**"
   ]
  },
  {
   "cell_type": "code",
   "execution_count": null,
   "id": "819a3301",
   "metadata": {},
   "outputs": [],
   "source": [
    "f = codecs.open(\"C:/Users/EthanJ/develop/PLAYDATA/Python_basic/File_IO/txt_file_test.txt\", mode=\"w\")"
   ]
  },
  {
   "cell_type": "code",
   "execution_count": 4,
   "id": "9524ee8f",
   "metadata": {},
   "outputs": [
    {
     "name": "stdout",
     "output_type": "stream",
     "text": [
      "<class '_io.TextIOWrapper'>\n"
     ]
    }
   ],
   "source": [
    "print(type(f))"
   ]
  },
  {
   "cell_type": "markdown",
   "id": "59825ef2",
   "metadata": {},
   "source": [
    "<br>\n",
    "\n",
    "- `f.write(\"things to write\")` > txt file 내부에 작성"
   ]
  },
  {
   "cell_type": "code",
   "execution_count": 5,
   "id": "70c98c22",
   "metadata": {},
   "outputs": [],
   "source": [
    "# \"Hello world[n]\" 10번 작성\n",
    "\n",
    "for i in range(10):\n",
    "    f.write(\"Hello world[%s]\\n\" %(i+1))"
   ]
  },
  {
   "cell_type": "markdown",
   "id": "13656b3e",
   "metadata": {},
   "source": [
    "- `f.close()` 종료 필수 > 미종료시 temp 처리됨 > txt file 변경사항 적용 안됨"
   ]
  },
  {
   "cell_type": "code",
   "execution_count": 6,
   "id": "7573aca3",
   "metadata": {},
   "outputs": [],
   "source": [
    "f.close()"
   ]
  },
  {
   "cell_type": "markdown",
   "id": "0e9efecb",
   "metadata": {},
   "source": [
    "![f_write](https://github.com/insung-ethan-j/Python_basic/blob/c741e1fa60c8fb454e673b693ec20f78db472a59/img_source/1013_1.PNG?raw=true)"
   ]
  },
  {
   "cell_type": "markdown",
   "id": "e6d6766d",
   "metadata": {},
   "source": [
    "### 1.2. mode=\"r\""
   ]
  },
  {
   "cell_type": "markdown",
   "id": "3a4d2c53",
   "metadata": {},
   "source": [
    "#### 1.2.1. `f.readline()` > 한 줄만 읽기 > io stream header 한 줄 아래로 이동"
   ]
  },
  {
   "cell_type": "code",
   "execution_count": 22,
   "id": "cdff7727",
   "metadata": {},
   "outputs": [
    {
     "name": "stdout",
     "output_type": "stream",
     "text": [
      "<class 'str'>\n",
      "Hello world[1]\n",
      "\n",
      "Hello world[2]\n",
      "\n",
      "<class 'str'> 15\n",
      "<class 'str'> 15\n",
      "<class 'str'> 15\n",
      "<class 'str'> 15\n",
      "<class 'str'> 15\n",
      "<class 'str'> 15\n",
      "<class 'str'> 15\n",
      "<class 'str'> 16\n",
      "<class 'str'> 0\n",
      "<class 'str'> 0\n",
      "<class 'str'> 0\n",
      "<class 'str'> 0\n",
      "<class 'str'> 0\n",
      "<class 'str'> 0\n",
      "<class 'str'> 0\n"
     ]
    }
   ],
   "source": [
    "# 기존 text file 읽기 > mode=\"r\"\n",
    "f = codecs.open(\"C:/Users/EthanJ/develop/PLAYDATA/Python_basic/File_IO/txt_file_test.txt\", mode=\"r\")\n",
    "\n",
    "read_line1 = f.readline()\n",
    "read_line2 = f.readline()\n",
    "\n",
    "# return type == str\n",
    "print(type(read_line1))\n",
    "\n",
    "print(read_line1)\n",
    "print(read_line2)\n",
    "\n",
    "# .readline() > file text line수보다 많이 실행하면 >\n",
    "# > 이미 io stream header가 EOF로 이동 > empty string return\n",
    "for line in range(15):\n",
    "    my_line = f.readline()\n",
    "    print(type(my_line), len(my_line))\n",
    "\n",
    "f.close()"
   ]
  },
  {
   "cell_type": "markdown",
   "id": "83dcbfa6",
   "metadata": {},
   "source": [
    "#### 1.2.2. `f.readlines()` > 줄 단위, 각 줄을 string item으로 가진 list type으로 전부 읽어오기 > EOF로 io stream header 이동"
   ]
  },
  {
   "cell_type": "code",
   "execution_count": 23,
   "id": "a83e7afd",
   "metadata": {},
   "outputs": [
    {
     "name": "stdout",
     "output_type": "stream",
     "text": [
      "<class 'list'>\n",
      "<class 'str'>\n",
      "['Hello world[1]\\n', 'Hello world[2]\\n', 'Hello world[3]\\n', 'Hello world[4]\\n', 'Hello world[5]\\n', 'Hello world[6]\\n', 'Hello world[7]\\n', 'Hello world[8]\\n', 'Hello world[9]\\n', 'Hello world[10]\\n']\n",
      "[]\n"
     ]
    }
   ],
   "source": [
    "f = codecs.open(\"C:/Users/EthanJ/develop/PLAYDATA/Python_basic/File_IO/txt_file_test.txt\", mode=\"r\")\n",
    "\n",
    "read_lines = f.readlines()\n",
    "\n",
    "print(type(read_lines)) # == list\n",
    "print(type(read_lines[0])) # == str\n",
    "\n",
    "print(read_lines)\n",
    "\n",
    "# 한 번 실행 시 io stream header가 EOF로 이동 > 두 번 이상 실행시 이미 EOF에 위치 > empty list return\n",
    "print(f.readlines())\n",
    "\n",
    "f.close()"
   ]
  },
  {
   "cell_type": "markdown",
   "id": "ad62ee03",
   "metadata": {},
   "source": [
    "#### 1.2.3. `f.read()` > txt file 전체 문자열을 단일 string으로 읽어오기 > io stream header가 EOF로 이동"
   ]
  },
  {
   "cell_type": "code",
   "execution_count": 24,
   "id": "0e3c88cb",
   "metadata": {},
   "outputs": [
    {
     "name": "stdout",
     "output_type": "stream",
     "text": [
      "<class 'str'>\n",
      "Hello world[1]\n",
      "Hello world[2]\n",
      "Hello world[3]\n",
      "Hello world[4]\n",
      "Hello world[5]\n",
      "Hello world[6]\n",
      "Hello world[7]\n",
      "Hello world[8]\n",
      "Hello world[9]\n",
      "Hello world[10]\n",
      "\n",
      "\n"
     ]
    }
   ],
   "source": [
    "f = codecs.open(\"C:/Users/EthanJ/develop/PLAYDATA/Python_basic/File_IO/txt_file_test.txt\", mode=\"r\")\n",
    "\n",
    "f_read = f.read()\n",
    "\n",
    "print(type(f_read))\n",
    "print(f_read)\n",
    "\n",
    "# 한 번 실행 시 io stream header가 EOF로 이동 > 두 번 이상 실행시 이미 EOF에 위치 > empty str return\n",
    "print(f.read())\n",
    "\n",
    "\n",
    "f.close()"
   ]
  },
  {
   "cell_type": "markdown",
   "id": "cb88b785",
   "metadata": {},
   "source": [
    "- - -\n",
    "\n",
    "### 1.3. csv 파일 다루기\n",
    "\n",
    "`data.csv`: str > ,(comma)로 구분 된 형태의 파일 > excel 형식으로 읽기 가능!"
   ]
  },
  {
   "cell_type": "markdown",
   "id": "2c2cb21d",
   "metadata": {},
   "source": [
    "<br>\n",
    "\n",
    "#### 1.3.1. txt파일 csv로 변환"
   ]
  },
  {
   "cell_type": "code",
   "execution_count": 10,
   "id": "577d1ba4",
   "metadata": {},
   "outputs": [],
   "source": [
    "# 저장된 result.txt 읽어오기\n",
    "r = codecs.open(\"C:/Users/EthanJ/develop/PLAYDATA/Python_basic/File_IO/txt_file_test.txt\", mode=\"r\")\n",
    "\n",
    "# txt > csv로 변환 > \"utf-8\" endcoding은 excel 실행 시 한글 깨짐 > \"utf-8-sig\" encoding 사용\n",
    "w = codecs.open(\"C:/Users/EthanJ/develop/PLAYDATA/Python_basic/File_IO/txt_to_csv.csv\", encoding=\"utf-8-sig\", mode=\"w\")\n",
    "\n",
    "w.write(r.read())\n",
    "\n",
    "r.close()\n",
    "w.close()"
   ]
  },
  {
   "cell_type": "markdown",
   "id": "c246e897",
   "metadata": {},
   "source": [
    "![csv](https://github.com/insung-ethan-j/Python_basic/blob/c741e1fa60c8fb454e673b693ec20f78db472a59/img_source/1013_2.PNG?raw=true)\n",
    "\n",
    "<br>\n"
   ]
  },
  {
   "cell_type": "markdown",
   "id": "6e7f95c4",
   "metadata": {},
   "source": [
    "#### 1.3.2. csv파일 작성"
   ]
  },
  {
   "cell_type": "code",
   "execution_count": 12,
   "id": "9d99a137",
   "metadata": {},
   "outputs": [],
   "source": [
    "w = codecs.open(\"C:/Users/EthanJ/develop/PLAYDATA/Python_basic/File_IO/person_csv.csv\", 'w', \"utf-8-sig\")\n",
    "\n",
    "w.write(\"순번, 이름, 성별, 나이\\n\")\n",
    "\n",
    "n_list = [1, 2, 3, 4]\n",
    "str_name = [\"김가람\", \"이나람\",\"박다람\", \"최라람\"]\n",
    "sex_m_f = [\"M\", \"F\", \"F\", \"M\"]\n",
    "n_age = [\"24\", \"23\", \"35\", \"21\"]\n",
    "\n",
    "for i in range(4):\n",
    "    this_line = \"%s,%s,%s,%s\\n\" %(n_list[i], str_name[i], sex_m_f[i], n_age[i])\n",
    "    w.write(this_line)\n",
    "\n",
    "w.close()"
   ]
  },
  {
   "cell_type": "markdown",
   "id": "3788f123",
   "metadata": {},
   "source": [
    "![csv](https://github.com/insung-ethan-j/Python_basic/blob/c741e1fa60c8fb454e673b693ec20f78db472a59/img_source/1013_3.PNG?raw=true)"
   ]
  },
  {
   "cell_type": "markdown",
   "id": "0a71065f",
   "metadata": {},
   "source": [
    "- - -"
   ]
  },
  {
   "cell_type": "markdown",
   "id": "53f06185",
   "metadata": {},
   "source": [
    "## 2. Is Python default encoding type \"utf-8\" ?"
   ]
  },
  {
   "cell_type": "markdown",
   "id": "a11972f1",
   "metadata": {},
   "source": [
    "### 2.1. Checking with `sys` library"
   ]
  },
  {
   "cell_type": "code",
   "execution_count": 13,
   "id": "8c007a3f",
   "metadata": {},
   "outputs": [
    {
     "name": "stdout",
     "output_type": "stream",
     "text": [
      "utf-8\n"
     ]
    }
   ],
   "source": [
    "import sys\n",
    "\n",
    "print(sys.getdefaultencoding())"
   ]
  },
  {
   "cell_type": "markdown",
   "id": "3d0e4bcb",
   "metadata": {},
   "source": [
    "- sys > Python default encoding == \"utf-8\"\n",
    "\n",
    "<br>\n"
   ]
  },
  {
   "cell_type": "markdown",
   "id": "85a830f4",
   "metadata": {},
   "source": [
    "### 2.2. `id(\"str\")` > str의 메모리 주소 check"
   ]
  },
  {
   "cell_type": "code",
   "execution_count": 14,
   "id": "30aa0019",
   "metadata": {},
   "outputs": [
    {
     "name": "stdout",
     "output_type": "stream",
     "text": [
      "3187690226032 3187690226032\n",
      "3187690226032 3187690226032\n",
      "3187690226032 3187690226032\n"
     ]
    }
   ],
   "source": [
    "en_py = \"Python\"\n",
    "\n",
    "print(id(en_py), id(\"Python\"))\n",
    "print(id(\"Python\"), id(\"Python\"))\n",
    "print(id(\"Python\"), id(en_py))\n",
    "# 어느 줄에서 어떻게 선언하든 \"Python\"의 id는 같다"
   ]
  },
  {
   "cell_type": "code",
   "execution_count": 15,
   "id": "0abea4a4",
   "metadata": {
    "scrolled": true
   },
   "outputs": [
    {
     "name": "stdout",
     "output_type": "stream",
     "text": [
      "3187799468432 3187799467856\n",
      "3187799467952 3187799467952\n",
      "3187799388208 3187799468432\n"
     ]
    }
   ],
   "source": [
    "kr_py = \"파이썬\"\n",
    "\n",
    "print(id(kr_py), id(\"파이썬\"))\n",
    "print(id(\"파이썬\"), id(\"파이썬\"))\n",
    "print(id(\"파이썬\"), id(kr_py))\n",
    "# \"파이썬\"을 넣은 변수명, 같은 줄에서 선언된 \"파이썬\"만 id가 같다"
   ]
  },
  {
   "cell_type": "markdown",
   "id": "6645ed0a",
   "metadata": {},
   "source": [
    "### 2.3. Checking with `chardet` library"
   ]
  },
  {
   "cell_type": "markdown",
   "id": "e54f496b",
   "metadata": {},
   "source": [
    "- encoding type check library: `chardet`"
   ]
  },
  {
   "cell_type": "code",
   "execution_count": 16,
   "id": "35851942",
   "metadata": {},
   "outputs": [
    {
     "name": "stdout",
     "output_type": "stream",
     "text": [
      "b'Python' <class 'bytes'>\n",
      "{'encoding': 'ascii', 'confidence': 1.0, 'language': ''} <class 'dict'>\n",
      "b'\\xed\\x8c\\x8c\\xec\\x9d\\xb4\\xec\\x8d\\xac' <class 'bytes'>\n",
      "{'encoding': 'utf-8', 'confidence': 0.87625, 'language': ''}\n"
     ]
    }
   ],
   "source": [
    "import chardet\n",
    "\n",
    "encoded_en_py = en_py.encode()\n",
    "print(encoded_en_py, type(encoded_en_py))\n",
    "\n",
    "en_detect = chardet.detect(encoded_en_py)\n",
    "print(en_detect, type(en_detect))\n",
    "\n",
    "encoded_kr_py = kr_py.encode()\n",
    "print(encoded_kr_py, type(encoded_kr_py))\n",
    "\n",
    "kr_detect = chardet.detect(encoded_kr_py)\n",
    "print(kr_detect)"
   ]
  },
  {
   "cell_type": "markdown",
   "id": "d0863c56",
   "metadata": {},
   "source": [
    "- [Python documentation: class str](https://docs.python.org/3/library/stdtypes.html#str?)\n",
    "\n",
    "- [Python documentation: str.encode() method](https://docs.python.org/3/library/stdtypes.html?highlight=encode#str.encode)"
   ]
  },
  {
   "cell_type": "markdown",
   "id": "0314eb32",
   "metadata": {},
   "source": [
    "- Python doucmentation에서 str type의 기본 encoding은 \"utf-8\"이라고 명시 돼 있으나,    \n",
    "`chardet` library > `chardet.detect(str.encode())` method로 확인 해 본 결과\n",
    "\n",
    "영어 str 인코딩 == '`ascii`'\n",
    "한글 str 인코딩 == '`utf-8`'"
   ]
  },
  {
   "cell_type": "markdown",
   "id": "71f0f14a",
   "metadata": {},
   "source": [
    "### 2.4. Checking with `codecs` library "
   ]
  },
  {
   "cell_type": "code",
   "execution_count": 17,
   "id": "bbe731a7",
   "metadata": {},
   "outputs": [],
   "source": [
    "# codecs library를 활용한 file IO\n",
    "import codecs\n",
    "\n",
    "f_write = codecs.open(\"C:/Users/EthanJ/develop/PLAYDATA/Python_basic/encoding_test.csv\", \"w\", \"utf-8\")\n",
    "# \"utf-8\" 인코딩으로 파일 입력\n",
    "\n",
    "f_write.write(en_py)\n",
    "f_write.write(',')\n",
    "f_write.write(kr_py)\n",
    "\n",
    "f_write.close()                                        "
   ]
  },
  {
   "cell_type": "code",
   "execution_count": 18,
   "id": "b08ec4e9",
   "metadata": {
    "scrolled": true
   },
   "outputs": [
    {
     "ename": "UnicodeDecodeError",
     "evalue": "'cp949' codec can't decode byte 0xed in position 7: illegal multibyte sequence",
     "output_type": "error",
     "traceback": [
      "\u001b[1;31m---------------------------------------------------------------------------\u001b[0m",
      "\u001b[1;31mUnicodeDecodeError\u001b[0m                        Traceback (most recent call last)",
      "Input \u001b[1;32mIn [18]\u001b[0m, in \u001b[0;36m<cell line: 3>\u001b[1;34m()\u001b[0m\n\u001b[0;32m      1\u001b[0m f_read \u001b[38;5;241m=\u001b[39m codecs\u001b[38;5;241m.\u001b[39mopen(\u001b[38;5;124m\"\u001b[39m\u001b[38;5;124mC:/Users/EthanJ/develop/PLAYDATA/Python_basic/encoding_test.csv\u001b[39m\u001b[38;5;124m\"\u001b[39m, \u001b[38;5;124m\"\u001b[39m\u001b[38;5;124mr\u001b[39m\u001b[38;5;124m\"\u001b[39m)\n\u001b[1;32m----> 3\u001b[0m \u001b[38;5;28mprint\u001b[39m(\u001b[43mf_read\u001b[49m\u001b[38;5;241;43m.\u001b[39;49m\u001b[43mread\u001b[49m\u001b[43m(\u001b[49m\u001b[43m)\u001b[49m) \u001b[38;5;66;03m# UnicodeDecodeError\u001b[39;00m\n\u001b[0;32m      5\u001b[0m f_read\u001b[38;5;241m.\u001b[39mclose()\n",
      "\u001b[1;31mUnicodeDecodeError\u001b[0m: 'cp949' codec can't decode byte 0xed in position 7: illegal multibyte sequence"
     ]
    }
   ],
   "source": [
    "f_read = codecs.open(\"C:/Users/EthanJ/develop/PLAYDATA/Python_basic/encoding_test.csv\", \"r\")\n",
    "\n",
    "print(f_read.read()) # UnicodeDecodeError\n",
    "\n",
    "f_read.close()"
   ]
  },
  {
   "cell_type": "markdown",
   "id": "f73dc59c",
   "metadata": {},
   "source": [
    "- [codecs.open() method documentation](https://docs.python.org/3/library/codecs.html?highlight=codecs%20open#codecs.open)\n",
    "- `codecs.open(\"file path\", \"w\", encoding=\"utf-8\")` > utf-8 인코딩으로 입력 > 이상 없음\n",
    "\n",
    "<br>\n",
    "\n",
    "\n",
    "- `codecs.open(\"file path\", \"r\"(, encoding=None))` > Python 자체 인코딩으로 읽기 > `UnicodeDecodeError: cp949 codecs` decoding중 Error 발생 \n",
    "\n",
    "- **한글 문서 특정 encoding 지정하지 않을 시 > `cp949` encoding으로 파일 인식**"
   ]
  },
  {
   "cell_type": "markdown",
   "id": "82ecfd76",
   "metadata": {},
   "source": [
    "<br>\n",
    "\n",
    "### 2.4. Conclusion   \n",
    ": `codecs.open()` method parameter > `encoding=\"encoding\"` 지정 필수"
   ]
  },
  {
   "cell_type": "code",
   "execution_count": 19,
   "id": "33fd86ae",
   "metadata": {
    "scrolled": false
   },
   "outputs": [
    {
     "name": "stdout",
     "output_type": "stream",
     "text": [
      "Python,파이썬\n"
     ]
    }
   ],
   "source": [
    "# codecs.open() encoding=\"utf-8\"\n",
    "f_read = codecs.open(\"C:/Users/EthanJ/develop/PLAYDATA/Python_basic/encoding_test.csv\", \"r\", encoding=\"utf-8\")\n",
    "\n",
    "print(f_read.read())\n",
    "# encoding 지정 후 실행 가능\n",
    "\n",
    "f_read.close()"
   ]
  },
  {
   "cell_type": "code",
   "execution_count": null,
   "id": "d1b6beb7",
   "metadata": {},
   "outputs": [],
   "source": []
  },
  {
   "cell_type": "code",
   "execution_count": null,
   "id": "57811540",
   "metadata": {},
   "outputs": [],
   "source": []
  }
 ],
 "metadata": {
  "kernelspec": {
   "display_name": "Python 3 (ipykernel)",
   "language": "python",
   "name": "python3"
  },
  "language_info": {
   "codemirror_mode": {
    "name": "ipython",
    "version": 3
   },
   "file_extension": ".py",
   "mimetype": "text/x-python",
   "name": "python",
   "nbconvert_exporter": "python",
   "pygments_lexer": "ipython3",
   "version": "3.9.12"
  }
 },
 "nbformat": 4,
 "nbformat_minor": 5
}
