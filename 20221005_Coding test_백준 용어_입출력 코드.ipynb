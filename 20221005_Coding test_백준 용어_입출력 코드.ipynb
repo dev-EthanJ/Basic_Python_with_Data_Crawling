{
 "cells": [
  {
   "cell_type": "markdown",
   "id": "d703ed58",
   "metadata": {},
   "source": [
    "# Baekjoon Onlinde Judge\n",
    "# 백준 용어 및 입출력 파이썬 코드 \n",
    "### 입력\n",
    "- 입력은 사용자의 입력을 의미\n",
    "- 코드가 실행된 다음 사용자가 직접 입력할 수 있도록 할 수 있게 코딩\n",
    "- 파이썬에서는 input()을 기본적으로 사용\n",
    "- 성능향상이 필요한 경우 > sys, stdin, readline()\n",
    "- 브론즈 하위 ~ 중위 수준에서는 input()만으로도 해결 가능 > 우선은 input()만 사용\n",
    "- 입력에 x이상 y이하의 범위를 주는경우도 있지만 무시해도 된다. "
   ]
  },
  {
   "cell_type": "code",
   "execution_count": 1,
   "id": "39c25822",
   "metadata": {},
   "outputs": [
    {
     "name": "stdout",
     "output_type": "stream",
     "text": [
      "입력해보세요.abcd\n"
     ]
    },
    {
     "data": {
      "text/plain": [
       "'abcd'"
      ]
     },
     "execution_count": 1,
     "metadata": {},
     "output_type": "execute_result"
    }
   ],
   "source": [
    "#input(\"안내문구\")를 입력하면,\n",
    "#사용자에게 입력할 수 있는 양식을 제공\n",
    "#사용자가 입력한 자료를 문자형식으로 전달\n",
    "\n",
    "input('입력해보세요.')"
   ]
  },
  {
   "cell_type": "code",
   "execution_count": 2,
   "id": "0c00779b",
   "metadata": {},
   "outputs": [
    {
     "name": "stdout",
     "output_type": "stream",
     "text": [
      "변수넣기1234\n",
      "1234\n"
     ]
    }
   ],
   "source": [
    "# a = input() > 사용자가 입력한 data가 해당 변수(a)에 할당\n",
    "\n",
    "test = input('변수넣기')\n",
    "print(test)"
   ]
  },
  {
   "cell_type": "code",
   "execution_count": 4,
   "id": "2b1d82a6",
   "metadata": {},
   "outputs": [
    {
     "name": "stdout",
     "output_type": "stream",
     "text": [
      "45\n",
      "78\n",
      "4578\n"
     ]
    }
   ],
   "source": [
    "# input의 결과는 string 취급\n",
    "\n",
    "A = input()\n",
    "B = input()\n",
    "print(A + B)"
   ]
  },
  {
   "cell_type": "code",
   "execution_count": 5,
   "id": "d7b65b52",
   "metadata": {},
   "outputs": [
    {
     "name": "stdout",
     "output_type": "stream",
     "text": [
      "45\n",
      "78\n",
      "123\n"
     ]
    }
   ],
   "source": [
    "# input()으로 들어오는 data > 숫자(int)로 변경 > int(input())\n",
    "\n",
    "A = int(input())\n",
    "B = int(input())\n",
    "print(A + B)"
   ]
  },
  {
   "cell_type": "markdown",
   "id": "ae12cb82",
   "metadata": {},
   "source": [
    "### 출력\n",
    "- 출력은 콘솔창에 찍히는(print()로 찍히는) 메세지를 의미\n",
    "- 출력 결과를 보고, 입력에 의해 저장된 값 > 적절한 형태로 가공\n",
    "- 한 줄씩 입력 받을 때 > 출력이 올바른 형태여도, 한 줄씩 입력 받도록 처리 "
   ]
  },
  {
   "cell_type": "code",
   "execution_count": 6,
   "id": "e6b29385",
   "metadata": {},
   "outputs": [
    {
     "name": "stdout",
     "output_type": "stream",
     "text": [
      "2 4\n",
      "6\n"
     ]
    }
   ],
   "source": [
    "# 두 개 이상의 변수에 입력할 때 > 띄어쓰기(=space)로 하나하나 구분\n",
    "# .split() > 숫자를 나눠줌\n",
    "\n",
    "A, B = map(int, input().split())\n",
    "print(A + B)"
   ]
  }
 ],
 "metadata": {
  "kernelspec": {
   "display_name": "Python 3 (ipykernel)",
   "language": "python",
   "name": "python3"
  },
  "language_info": {
   "codemirror_mode": {
    "name": "ipython",
    "version": 3
   },
   "file_extension": ".py",
   "mimetype": "text/x-python",
   "name": "python",
   "nbconvert_exporter": "python",
   "pygments_lexer": "ipython3",
   "version": "3.9.12"
  }
 },
 "nbformat": 4,
 "nbformat_minor": 5
}
