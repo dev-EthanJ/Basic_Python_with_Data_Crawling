{
 "cells": [
  {
   "cell_type": "markdown",
   "id": "53066d8e",
   "metadata": {},
   "source": [
    "# Python OOP Inheritance and Overriding <br> 파이썬 객체 지향 프로그래밍 상속과 오버라이딩"
   ]
  },
  {
   "cell_type": "markdown",
   "id": "98ab9a5a",
   "metadata": {},
   "source": [
    "## 1. 상속\n",
    "\n",
    ": 부모 class의 정보를 활용해 자식 class를 생성하는 것\n",
    "\n",
    "- 문법\n",
    "\n",
    "```pythoon\n",
    "class [class 이름](부모 class):\n",
    "    <class 내부 정의>\n",
    "    ...\n",
    "```\n",
    "\n",
    "- 상속 시 부모 class의 item(variable, method)을 자식 class에 물려준다.\n",
    "\n",
    "- 상속은 자식 class 선언 시 부모 class명을 지목해서 실행된다\n",
    "\n",
    "- 자식 class는 새로운 변수, method를 선언 해 사용할 수 있다."
   ]
  },
  {
   "cell_type": "code",
   "execution_count": 1,
   "id": "43ff340d",
   "metadata": {},
   "outputs": [],
   "source": [
    "class Person:\n",
    "    name = \"\"\n",
    "    age = 0\n",
    "    height = 0\n",
    "    \n",
    "    def get_info(self):\n",
    "        print(\"이름 : %s, 나이 : %s살, 키 : %scm\" \n",
    "              %(self.name, self.age, self.height))"
   ]
  },
  {
   "cell_type": "code",
   "execution_count": 2,
   "id": "7d0e910d",
   "metadata": {},
   "outputs": [
    {
     "name": "stdout",
     "output_type": "stream",
     "text": [
      "이름 : EthanJ, 나이 : 25살, 키 : 178cm\n"
     ]
    }
   ],
   "source": [
    "p1 = Person()\n",
    "p1.name = \"EthanJ\"\n",
    "p1.age = 25\n",
    "p1.height = 178\n",
    "\n",
    "p1.get_info()"
   ]
  },
  {
   "cell_type": "code",
   "execution_count": 3,
   "id": "a369dca3",
   "metadata": {
    "scrolled": true
   },
   "outputs": [
    {
     "name": "stdout",
     "output_type": "stream",
     "text": [
      "<__main__.Person object at 0x00000157B624CBB0>\n"
     ]
    }
   ],
   "source": [
    "print(p1)"
   ]
  },
  {
   "cell_type": "markdown",
   "id": "ba55fa86",
   "metadata": {},
   "source": [
    "<br>\n",
    "\n",
    "- `Person` class를 상속받은 자식 class `Student` 선언"
   ]
  },
  {
   "cell_type": "code",
   "execution_count": 4,
   "id": "51360c38",
   "metadata": {},
   "outputs": [
    {
     "name": "stdout",
     "output_type": "stream",
     "text": [
      "이름: 김파이썬, 나이: 21살, 키: 171, 전공: Computer Science\n"
     ]
    }
   ],
   "source": [
    "class Student(Person):\n",
    "    major = \"\"\n",
    "\n",
    "my_stu = Student()\n",
    "\n",
    "my_stu.name = \"김파이썬\"\n",
    "my_stu.age = 21\n",
    "my_stu.height = 171\n",
    "my_stu.major = \"Computer Science\"\n",
    "\n",
    "print(f\"이름: {my_stu.name}, 나이: {my_stu.age}살, 키: {my_stu.height}, 전공: {my_stu.major}\")"
   ]
  },
  {
   "cell_type": "markdown",
   "id": "42dbb1ba",
   "metadata": {},
   "source": [
    "<br>\n",
    "\n",
    "- 상속받은 자식class에서 부모class의 method 사용 가능"
   ]
  },
  {
   "cell_type": "code",
   "execution_count": 5,
   "id": "21d6e539",
   "metadata": {},
   "outputs": [
    {
     "name": "stdout",
     "output_type": "stream",
     "text": [
      "이름 : 김파이썬, 나이 : 21살, 키 : 171cm\n"
     ]
    }
   ],
   "source": [
    "my_stu.get_info()"
   ]
  },
  {
   "cell_type": "markdown",
   "id": "29fb08e1",
   "metadata": {},
   "source": [
    "<br>\n",
    "\n",
    "- `Student` class를 상속받은 `SalaryMan` class 선언"
   ]
  },
  {
   "cell_type": "code",
   "execution_count": 6,
   "id": "60160b96",
   "metadata": {},
   "outputs": [
    {
     "name": "stdout",
     "output_type": "stream",
     "text": [
      "이름: 김자바, 나이: 28살, 키: 169cm, 연봉: 60000000원\n"
     ]
    }
   ],
   "source": [
    "class SalaryMan(Person):\n",
    "    salary = 0\n",
    "\n",
    "my_salary = SalaryMan()\n",
    "\n",
    "my_salary.name = \"김자바\"\n",
    "my_salary.age = 28\n",
    "my_salary.height = 169\n",
    "my_salary.salary = 60000000\n",
    "\n",
    "print(\"이름: {}, 나이: {}살, 키: {}cm, 연봉: {}원\".format(my_salary.name, my_salary.age,\n",
    "                                                my_salary.height, my_salary.salary))"
   ]
  },
  {
   "cell_type": "markdown",
   "id": "a8f69091",
   "metadata": {},
   "source": [
    "## 2. 오버라이딩 (Overriding)\n",
    "\n",
    ": 부모class에서 상속된 method를 자식class에서 재정의해서 사용하는 것\n",
    "\n",
    "- 부모class에 이미 할당된 method    \n",
    "\\> 자식class에서 추가된 사항 반영 필요 등의 이슈 발생    \n",
    "\\> 자식class에서 상속된 method를 현재 class에 맞춰 변형해 사용\n",
    "\n",
    "- 사용법: 자식class 선언 할 때, 부모class의 이미 존재하는 method와   \n",
    "같은 `method이름`, `parameter`사용해서 method 정의"
   ]
  },
  {
   "cell_type": "markdown",
   "id": "9d698990",
   "metadata": {},
   "source": [
    "<br>\n",
    "\n",
    "- `Airplane` class 생성"
   ]
  },
  {
   "cell_type": "code",
   "execution_count": 7,
   "id": "43f3ad79",
   "metadata": {},
   "outputs": [],
   "source": [
    "class Airplane:\n",
    "    velocity = 0\n",
    "    gas = 0\n",
    "    flight_number = \"\"\n",
    "    \n",
    "    # 생성자\n",
    "    def __init__(self, velocity, gas, flight_number):\n",
    "        self.velocity = velocity\n",
    "        self.gas = gas\n",
    "        self.flight_number = flight_number\n",
    "        \n",
    "    # fly(self) method\n",
    "    def fly(self):\n",
    "        # No gas\n",
    "        if(self.gas <= 0):\n",
    "            print(\"No gas.\")\n",
    "            \n",
    "            return\n",
    "        \n",
    "        # Max v = 1000\n",
    "        if(self.velocity >= 1000):\n",
    "            self.velocity = 1000\n",
    "            \n",
    "        # up v, down gas\n",
    "        else :\n",
    "            self.velocity += 100\n",
    "            self.gas -= 100\n",
    "        \n",
    "    def break_(self):\n",
    "        if(self.velocity < 300):\n",
    "            self.velocity = 0\n",
    "        else:\n",
    "            self.velocity -= 100\n",
    "        \n",
    "    def get_info(self):\n",
    "        print(f\"현재 속도 : {self.velocity}km/h, 현재 연료량 : {self.gas}L, 편명 : {self.flight_number}\")"
   ]
  },
  {
   "cell_type": "code",
   "execution_count": 8,
   "id": "d40751d0",
   "metadata": {},
   "outputs": [
    {
     "name": "stdout",
     "output_type": "stream",
     "text": [
      "현재 속도 : 0km/h, 현재 연료량 : 3000L, 편명 : K747\n"
     ]
    }
   ],
   "source": [
    "airplane_1 = Airplane(0, 3000, \"K747\")\n",
    "\n",
    "airplane_1.get_info()"
   ]
  },
  {
   "cell_type": "code",
   "execution_count": 9,
   "id": "7a8da48f",
   "metadata": {},
   "outputs": [
    {
     "name": "stdout",
     "output_type": "stream",
     "text": [
      "현재 속도 : 100km/h, 현재 연료량 : 2900L, 편명 : K747\n"
     ]
    }
   ],
   "source": [
    "airplane_1.fly()\n",
    "\n",
    "airplane_1.get_info()"
   ]
  },
  {
   "cell_type": "code",
   "execution_count": 10,
   "id": "dd3b9165",
   "metadata": {},
   "outputs": [
    {
     "name": "stdout",
     "output_type": "stream",
     "text": [
      "현재 속도 : 0km/h, 현재 연료량 : 2900L, 편명 : K747\n"
     ]
    }
   ],
   "source": [
    "airplane_1.break_()\n",
    "\n",
    "airplane_1.get_info()"
   ]
  },
  {
   "cell_type": "markdown",
   "id": "36aa0a36",
   "metadata": {},
   "source": [
    "<br>\n",
    "\n",
    "- class `Airplane`을 상속받은 class `PrivateJet` 선언\n",
    "\n",
    "- Overriding method `fly()` > 같은 method명, parameter"
   ]
  },
  {
   "cell_type": "code",
   "execution_count": 11,
   "id": "1e260c02",
   "metadata": {},
   "outputs": [],
   "source": [
    "class PrivateJet(Airplane):\n",
    "    \n",
    "    # Overriding method fly()\n",
    "    def fly(self):\n",
    "        # No gas\n",
    "        if(self.gas <= 0):\n",
    "            print(\"No gas.\")\n",
    "            \n",
    "            return\n",
    "        \n",
    "        # Max v = 2000\n",
    "        if(self.velocity >= 2000):\n",
    "            self.velocity = 2000\n",
    "            \n",
    "        # up v, down gas\n",
    "        else :\n",
    "            self.velocity += 300\n",
    "            self.gas -= 300"
   ]
  },
  {
   "cell_type": "code",
   "execution_count": 12,
   "id": "658f589d",
   "metadata": {},
   "outputs": [
    {
     "name": "stdout",
     "output_type": "stream",
     "text": [
      "현재 속도 : 1000km/h, 현재 연료량 : 4000L, 편명 : KF94\n"
     ]
    }
   ],
   "source": [
    "airplane_2 = Airplane(0, 5000, \"KF94\")\n",
    "\n",
    "for i in range(10):\n",
    "    airplane_2.fly()\n",
    "    \n",
    "airplane_2.get_info()"
   ]
  },
  {
   "cell_type": "code",
   "execution_count": 13,
   "id": "64784ca6",
   "metadata": {},
   "outputs": [
    {
     "name": "stdout",
     "output_type": "stream",
     "text": [
      "현재 속도 : 2000km/h, 현재 연료량 : 2900L, 편명 : MJ98\n"
     ]
    }
   ],
   "source": [
    "my_jet = PrivateJet(0, 5000, \"MJ98\")\n",
    "\n",
    "for i in range(10):\n",
    "    my_jet.fly()\n",
    "    \n",
    "my_jet.get_info()"
   ]
  }
 ],
 "metadata": {
  "kernelspec": {
   "display_name": "Python 3 (ipykernel)",
   "language": "python",
   "name": "python3"
  },
  "language_info": {
   "codemirror_mode": {
    "name": "ipython",
    "version": 3
   },
   "file_extension": ".py",
   "mimetype": "text/x-python",
   "name": "python",
   "nbconvert_exporter": "python",
   "pygments_lexer": "ipython3",
   "version": "3.9.12"
  }
 },
 "nbformat": 4,
 "nbformat_minor": 5
}
